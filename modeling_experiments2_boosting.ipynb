{
 "metadata": {
  "language_info": {
   "codemirror_mode": {
    "name": "ipython",
    "version": 3
   },
   "file_extension": ".py",
   "mimetype": "text/x-python",
   "name": "python",
   "nbconvert_exporter": "python",
   "pygments_lexer": "ipython3",
   "version": "3.7.7"
  },
  "orig_nbformat": 2,
  "kernelspec": {
   "name": "python377jvsc74a57bd05e40a025ef4644cd2dc40bd496bd7b7a311483f7995656507029824ecfbe988e",
   "display_name": "Python 3.7.7 64-bit ('tourney_sim_project')"
  },
  "metadata": {
   "interpreter": {
    "hash": "5e40a025ef4644cd2dc40bd496bd7b7a311483f7995656507029824ecfbe988e"
   }
  }
 },
 "nbformat": 4,
 "nbformat_minor": 2,
 "cells": [
  {
   "source": [
    "# Import packages"
   ],
   "cell_type": "markdown",
   "metadata": {}
  },
  {
   "cell_type": "code",
   "execution_count": 81,
   "metadata": {},
   "outputs": [],
   "source": [
    "import pandas as pd\n",
    "import numpy as np\n",
    "\n",
    "# Boosting models\n",
    "from xgboost import XGBClassifier\n",
    "from catboost import CatBoostClassifier\n",
    "\n",
    "# cross validation\n",
    "from sklearn.model_selection import KFold\n",
    "\n",
    "# metrics\n",
    "from sklearn.metrics import accuracy_score, f1_score, matthews_corrcoef, roc_auc_score\n",
    "\n",
    "# Sk optimize\n",
    "from bayes_opt import BayesianOptimization\n",
    "from skopt.space import Real, Categorical, Integer\n",
    "from skopt import BayesSearchCV\n",
    "\n",
    "# train and store modeling metrics functions\n",
    "from modeling_functions.train_model_funcs import train_funcs"
   ]
  },
  {
   "source": [
    "## Notebook setup"
   ],
   "cell_type": "markdown",
   "metadata": {}
  },
  {
   "cell_type": "code",
   "execution_count": 82,
   "metadata": {},
   "outputs": [],
   "source": [
    "# Random state\n",
    "seed = 18\n",
    "\n",
    "# modeling metrics storage\n",
    "model_acc = dict()"
   ]
  },
  {
   "source": [
    "# Data"
   ],
   "cell_type": "markdown",
   "metadata": {}
  },
  {
   "cell_type": "code",
   "execution_count": 83,
   "metadata": {},
   "outputs": [],
   "source": [
    "train_df = pd.read_csv('data/train.csv', index_col=False)\n",
    "test_df = pd.read_csv('data/test.csv')"
   ]
  },
  {
   "cell_type": "code",
   "execution_count": 84,
   "metadata": {},
   "outputs": [
    {
     "output_type": "execute_result",
     "data": {
      "text/plain": [
       "   match_id  period_id  pla_id  plb_id  score_a  score_b race_a race_b  \\\n",
       "0    204283        168     422    2102        3        1      Z      P   \n",
       "1    204881        168     962   12662        1        0      Z      Z   \n",
       "2    204373        168      61    4551        0        2      Z      Z   \n",
       "3     24883          2     208    1218        4        2      Z      P   \n",
       "4    205013        168    1100   10298        2        1      T      Z   \n",
       "\n",
       "    comp_rat_a  comp_rat_vp_a  ...  pla_race_P  pla_race_T  pla_race_Z  \\\n",
       "0     1.362724       1.472933  ...           0           0           1   \n",
       "1 -1000.000000       0.067802  ...           0           0           1   \n",
       "2 -1000.000000   -1000.000000  ...           0           0           1   \n",
       "3 -1000.000000       0.376888  ...           0           0           1   \n",
       "4     0.975380       1.661578  ...           0           1           0   \n",
       "\n",
       "   plb_race_P  plb_race_T  plb_race_Z  pla_eff_rating  plb_eff_rating  \\\n",
       "0           1           0           0        1.472933        1.023097   \n",
       "1           0           0           1        0.155740        0.169566   \n",
       "2           0           0           1        0.121870        0.525932   \n",
       "3           1           0           0        0.376888       -0.391791   \n",
       "4           0           0           1        0.498680       -0.364031   \n",
       "\n",
       "   ratings_diff  winner  \n",
       "0      0.449836       1  \n",
       "1     -0.013826       1  \n",
       "2     -0.404062       0  \n",
       "3      0.768680       1  \n",
       "4      0.862712       1  \n",
       "\n",
       "[5 rows x 34 columns]"
      ],
      "text/html": "<div>\n<style scoped>\n    .dataframe tbody tr th:only-of-type {\n        vertical-align: middle;\n    }\n\n    .dataframe tbody tr th {\n        vertical-align: top;\n    }\n\n    .dataframe thead th {\n        text-align: right;\n    }\n</style>\n<table border=\"1\" class=\"dataframe\">\n  <thead>\n    <tr style=\"text-align: right;\">\n      <th></th>\n      <th>match_id</th>\n      <th>period_id</th>\n      <th>pla_id</th>\n      <th>plb_id</th>\n      <th>score_a</th>\n      <th>score_b</th>\n      <th>race_a</th>\n      <th>race_b</th>\n      <th>comp_rat_a</th>\n      <th>comp_rat_vp_a</th>\n      <th>...</th>\n      <th>pla_race_P</th>\n      <th>pla_race_T</th>\n      <th>pla_race_Z</th>\n      <th>plb_race_P</th>\n      <th>plb_race_T</th>\n      <th>plb_race_Z</th>\n      <th>pla_eff_rating</th>\n      <th>plb_eff_rating</th>\n      <th>ratings_diff</th>\n      <th>winner</th>\n    </tr>\n  </thead>\n  <tbody>\n    <tr>\n      <th>0</th>\n      <td>204283</td>\n      <td>168</td>\n      <td>422</td>\n      <td>2102</td>\n      <td>3</td>\n      <td>1</td>\n      <td>Z</td>\n      <td>P</td>\n      <td>1.362724</td>\n      <td>1.472933</td>\n      <td>...</td>\n      <td>0</td>\n      <td>0</td>\n      <td>1</td>\n      <td>1</td>\n      <td>0</td>\n      <td>0</td>\n      <td>1.472933</td>\n      <td>1.023097</td>\n      <td>0.449836</td>\n      <td>1</td>\n    </tr>\n    <tr>\n      <th>1</th>\n      <td>204881</td>\n      <td>168</td>\n      <td>962</td>\n      <td>12662</td>\n      <td>1</td>\n      <td>0</td>\n      <td>Z</td>\n      <td>Z</td>\n      <td>-1000.000000</td>\n      <td>0.067802</td>\n      <td>...</td>\n      <td>0</td>\n      <td>0</td>\n      <td>1</td>\n      <td>0</td>\n      <td>0</td>\n      <td>1</td>\n      <td>0.155740</td>\n      <td>0.169566</td>\n      <td>-0.013826</td>\n      <td>1</td>\n    </tr>\n    <tr>\n      <th>2</th>\n      <td>204373</td>\n      <td>168</td>\n      <td>61</td>\n      <td>4551</td>\n      <td>0</td>\n      <td>2</td>\n      <td>Z</td>\n      <td>Z</td>\n      <td>-1000.000000</td>\n      <td>-1000.000000</td>\n      <td>...</td>\n      <td>0</td>\n      <td>0</td>\n      <td>1</td>\n      <td>0</td>\n      <td>0</td>\n      <td>1</td>\n      <td>0.121870</td>\n      <td>0.525932</td>\n      <td>-0.404062</td>\n      <td>0</td>\n    </tr>\n    <tr>\n      <th>3</th>\n      <td>24883</td>\n      <td>2</td>\n      <td>208</td>\n      <td>1218</td>\n      <td>4</td>\n      <td>2</td>\n      <td>Z</td>\n      <td>P</td>\n      <td>-1000.000000</td>\n      <td>0.376888</td>\n      <td>...</td>\n      <td>0</td>\n      <td>0</td>\n      <td>1</td>\n      <td>1</td>\n      <td>0</td>\n      <td>0</td>\n      <td>0.376888</td>\n      <td>-0.391791</td>\n      <td>0.768680</td>\n      <td>1</td>\n    </tr>\n    <tr>\n      <th>4</th>\n      <td>205013</td>\n      <td>168</td>\n      <td>1100</td>\n      <td>10298</td>\n      <td>2</td>\n      <td>1</td>\n      <td>T</td>\n      <td>Z</td>\n      <td>0.975380</td>\n      <td>1.661578</td>\n      <td>...</td>\n      <td>0</td>\n      <td>1</td>\n      <td>0</td>\n      <td>0</td>\n      <td>0</td>\n      <td>1</td>\n      <td>0.498680</td>\n      <td>-0.364031</td>\n      <td>0.862712</td>\n      <td>1</td>\n    </tr>\n  </tbody>\n</table>\n<p>5 rows × 34 columns</p>\n</div>"
     },
     "metadata": {},
     "execution_count": 84
    }
   ],
   "source": [
    "train_df.head()"
   ]
  },
  {
   "cell_type": "code",
   "execution_count": 85,
   "metadata": {},
   "outputs": [
    {
     "output_type": "execute_result",
     "data": {
      "text/plain": [
       "   match_id  period_id  pla_id  plb_id  score_a  score_b race_a race_b  \\\n",
       "0    143772         88    4814     184        0        1      Z      T   \n",
       "1     67383         88    3166      59        0        2      P      Z   \n",
       "2    142146         88    9531    9518        2        0      T      T   \n",
       "3     67190         88    4566     590        0        1      P      P   \n",
       "4     86874         88    1148    6104        2        0      Z      T   \n",
       "\n",
       "    comp_rat_a  comp_rat_vp_a  ...  pla_race_P  pla_race_T  pla_race_Z  \\\n",
       "0     0.048085       0.135338  ...           0           0           1   \n",
       "1 -1000.000000      -0.621009  ...           1           0           0   \n",
       "2 -1000.000000      -0.477019  ...           0           1           0   \n",
       "3 -1000.000000   -3000.000000  ...           1           0           0   \n",
       "4 -1000.000000       0.059067  ...           0           0           1   \n",
       "\n",
       "   plb_race_P  plb_race_T  plb_race_Z  pla_eff_rating  plb_eff_rating  \\\n",
       "0           0           1           0        0.303145    -2000.000000   \n",
       "1           0           0           1       -0.254441    -2000.000000   \n",
       "2           0           1           0       -0.058596    -3000.000000   \n",
       "3           1           0           0    -3000.000000        0.357552   \n",
       "4           0           1           0    -2000.000000    -3000.000000   \n",
       "\n",
       "   ratings_diff  winner  \n",
       "0   2000.303145       0  \n",
       "1   1999.745559       0  \n",
       "2   2999.941404       1  \n",
       "3  -3000.357552       0  \n",
       "4   1000.000000       1  \n",
       "\n",
       "[5 rows x 34 columns]"
      ],
      "text/html": "<div>\n<style scoped>\n    .dataframe tbody tr th:only-of-type {\n        vertical-align: middle;\n    }\n\n    .dataframe tbody tr th {\n        vertical-align: top;\n    }\n\n    .dataframe thead th {\n        text-align: right;\n    }\n</style>\n<table border=\"1\" class=\"dataframe\">\n  <thead>\n    <tr style=\"text-align: right;\">\n      <th></th>\n      <th>match_id</th>\n      <th>period_id</th>\n      <th>pla_id</th>\n      <th>plb_id</th>\n      <th>score_a</th>\n      <th>score_b</th>\n      <th>race_a</th>\n      <th>race_b</th>\n      <th>comp_rat_a</th>\n      <th>comp_rat_vp_a</th>\n      <th>...</th>\n      <th>pla_race_P</th>\n      <th>pla_race_T</th>\n      <th>pla_race_Z</th>\n      <th>plb_race_P</th>\n      <th>plb_race_T</th>\n      <th>plb_race_Z</th>\n      <th>pla_eff_rating</th>\n      <th>plb_eff_rating</th>\n      <th>ratings_diff</th>\n      <th>winner</th>\n    </tr>\n  </thead>\n  <tbody>\n    <tr>\n      <th>0</th>\n      <td>143772</td>\n      <td>88</td>\n      <td>4814</td>\n      <td>184</td>\n      <td>0</td>\n      <td>1</td>\n      <td>Z</td>\n      <td>T</td>\n      <td>0.048085</td>\n      <td>0.135338</td>\n      <td>...</td>\n      <td>0</td>\n      <td>0</td>\n      <td>1</td>\n      <td>0</td>\n      <td>1</td>\n      <td>0</td>\n      <td>0.303145</td>\n      <td>-2000.000000</td>\n      <td>2000.303145</td>\n      <td>0</td>\n    </tr>\n    <tr>\n      <th>1</th>\n      <td>67383</td>\n      <td>88</td>\n      <td>3166</td>\n      <td>59</td>\n      <td>0</td>\n      <td>2</td>\n      <td>P</td>\n      <td>Z</td>\n      <td>-1000.000000</td>\n      <td>-0.621009</td>\n      <td>...</td>\n      <td>1</td>\n      <td>0</td>\n      <td>0</td>\n      <td>0</td>\n      <td>0</td>\n      <td>1</td>\n      <td>-0.254441</td>\n      <td>-2000.000000</td>\n      <td>1999.745559</td>\n      <td>0</td>\n    </tr>\n    <tr>\n      <th>2</th>\n      <td>142146</td>\n      <td>88</td>\n      <td>9531</td>\n      <td>9518</td>\n      <td>2</td>\n      <td>0</td>\n      <td>T</td>\n      <td>T</td>\n      <td>-1000.000000</td>\n      <td>-0.477019</td>\n      <td>...</td>\n      <td>0</td>\n      <td>1</td>\n      <td>0</td>\n      <td>0</td>\n      <td>1</td>\n      <td>0</td>\n      <td>-0.058596</td>\n      <td>-3000.000000</td>\n      <td>2999.941404</td>\n      <td>1</td>\n    </tr>\n    <tr>\n      <th>3</th>\n      <td>67190</td>\n      <td>88</td>\n      <td>4566</td>\n      <td>590</td>\n      <td>0</td>\n      <td>1</td>\n      <td>P</td>\n      <td>P</td>\n      <td>-1000.000000</td>\n      <td>-3000.000000</td>\n      <td>...</td>\n      <td>1</td>\n      <td>0</td>\n      <td>0</td>\n      <td>1</td>\n      <td>0</td>\n      <td>0</td>\n      <td>-3000.000000</td>\n      <td>0.357552</td>\n      <td>-3000.357552</td>\n      <td>0</td>\n    </tr>\n    <tr>\n      <th>4</th>\n      <td>86874</td>\n      <td>88</td>\n      <td>1148</td>\n      <td>6104</td>\n      <td>2</td>\n      <td>0</td>\n      <td>Z</td>\n      <td>T</td>\n      <td>-1000.000000</td>\n      <td>0.059067</td>\n      <td>...</td>\n      <td>0</td>\n      <td>0</td>\n      <td>1</td>\n      <td>0</td>\n      <td>1</td>\n      <td>0</td>\n      <td>-2000.000000</td>\n      <td>-3000.000000</td>\n      <td>1000.000000</td>\n      <td>1</td>\n    </tr>\n  </tbody>\n</table>\n<p>5 rows × 34 columns</p>\n</div>"
     },
     "metadata": {},
     "execution_count": 85
    }
   ],
   "source": [
    "test_df.head()"
   ]
  },
  {
   "source": [
    "# Modeling"
   ],
   "cell_type": "markdown",
   "metadata": {}
  },
  {
   "source": [
    "## Cross validation"
   ],
   "cell_type": "markdown",
   "metadata": {}
  },
  {
   "cell_type": "code",
   "execution_count": 86,
   "metadata": {},
   "outputs": [],
   "source": [
    "n_folds = 5\n",
    "kfold = KFold(n_splits=n_folds)"
   ]
  },
  {
   "source": [
    "## Process data"
   ],
   "cell_type": "markdown",
   "metadata": {}
  },
  {
   "cell_type": "code",
   "execution_count": 105,
   "metadata": {},
   "outputs": [],
   "source": [
    "feature_cols = list(train_df.columns[8:-1])\n",
    "feature_cols\n",
    "x_train, x_test = train_df[feature_cols].to_numpy(),\\\n",
    "                            test_df[feature_cols].to_numpy()\n",
    "\n",
    "y_train, y_test = train_df['winner'].to_numpy(),\\\n",
    "                            test_df['winner'].to_numpy()"
   ]
  },
  {
   "cell_type": "code",
   "execution_count": 106,
   "metadata": {},
   "outputs": [
    {
     "output_type": "execute_result",
     "data": {
      "text/plain": [
       "((285422, 25), (285422,))"
      ]
     },
     "metadata": {},
     "execution_count": 106
    }
   ],
   "source": [
    "x_train.shape, y_train.shape"
   ]
  },
  {
   "cell_type": "code",
   "execution_count": 107,
   "metadata": {},
   "outputs": [
    {
     "output_type": "execute_result",
     "data": {
      "text/plain": [
       "((71355, 25), (71355,))"
      ]
     },
     "metadata": {},
     "execution_count": 107
    }
   ],
   "source": [
    "x_test.shape, y_test.shape"
   ]
  },
  {
   "cell_type": "code",
   "execution_count": 108,
   "metadata": {},
   "outputs": [
    {
     "output_type": "stream",
     "name": "stdout",
     "text": [
      "[ 57085  57086  57087 ... 285419 285420 285421]\n[    0     1     2 ... 57082 57083 57084]\n[     0      1      2 ... 285419 285420 285421]\n[ 57085  57086  57087 ... 114167 114168 114169]\n[     0      1      2 ... 285419 285420 285421]\n[114170 114171 114172 ... 171251 171252 171253]\n[     0      1      2 ... 285419 285420 285421]\n[171254 171255 171256 ... 228335 228336 228337]\n[     0      1      2 ... 228335 228336 228337]\n[228338 228339 228340 ... 285419 285420 285421]\n"
     ]
    }
   ],
   "source": [
    "for train, val in kfold.split(x_train, y_train):\n",
    "    print(train)\n",
    "    print(val)"
   ]
  },
  {
   "source": [
    "## XGBoost"
   ],
   "cell_type": "markdown",
   "metadata": {}
  },
  {
   "cell_type": "code",
   "execution_count": 110,
   "metadata": {},
   "outputs": [],
   "source": [
    "from modeling_functions.train_model_funcs import train_funcs"
   ]
  },
  {
   "cell_type": "code",
   "execution_count": 91,
   "metadata": {},
   "outputs": [
    {
     "output_type": "error",
     "ename": "KeyError",
     "evalue": "\"None of [Int64Index([ 57085,  57086,  57087,  57088,  57089,  57090,  57091,  57092,\\n             57093,  57094,\\n            ...\\n            285412, 285413, 285414, 285415, 285416, 285417, 285418, 285419,\\n            285420, 285421],\\n           dtype='int64', length=228337)] are in the [columns]\"",
     "traceback": [
      "\u001b[0;31m---------------------------------------------------------------------------\u001b[0m",
      "\u001b[0;31mKeyError\u001b[0m                                  Traceback (most recent call last)",
      "\u001b[0;32m<ipython-input-91-59eb13854e0f>\u001b[0m in \u001b[0;36m<module>\u001b[0;34m\u001b[0m\n\u001b[1;32m      5\u001b[0m     \u001b[0;34m'xgb - no tuning'\u001b[0m\u001b[0;34m,\u001b[0m\u001b[0;34m\u001b[0m\u001b[0;34m\u001b[0m\u001b[0m\n\u001b[1;32m      6\u001b[0m     \u001b[0mx_train\u001b[0m\u001b[0;34m,\u001b[0m\u001b[0;34m\u001b[0m\u001b[0;34m\u001b[0m\u001b[0m\n\u001b[0;32m----> 7\u001b[0;31m     \u001b[0my_train\u001b[0m\u001b[0;34m\u001b[0m\u001b[0;34m\u001b[0m\u001b[0m\n\u001b[0m\u001b[1;32m      8\u001b[0m )\n",
      "\u001b[0;32m~/Documents/school_files/thesis/modeling_functions/train_model_funcs.py\u001b[0m in \u001b[0;36mtrain_and_measure\u001b[0;34m(model, cv, model_name, x_train, y_train)\u001b[0m\n\u001b[1;32m     37\u001b[0m         \u001b[0;31m# cross validation\u001b[0m\u001b[0;34m\u001b[0m\u001b[0;34m\u001b[0m\u001b[0;34m\u001b[0m\u001b[0m\n\u001b[1;32m     38\u001b[0m         \u001b[0;32mfor\u001b[0m \u001b[0mtrain\u001b[0m\u001b[0;34m,\u001b[0m \u001b[0mval\u001b[0m \u001b[0;32min\u001b[0m \u001b[0mcv\u001b[0m\u001b[0;34m.\u001b[0m\u001b[0msplit\u001b[0m\u001b[0;34m(\u001b[0m\u001b[0mx_train\u001b[0m\u001b[0;34m,\u001b[0m \u001b[0my_train\u001b[0m\u001b[0;34m)\u001b[0m\u001b[0;34m:\u001b[0m\u001b[0;34m\u001b[0m\u001b[0;34m\u001b[0m\u001b[0m\n\u001b[0;32m---> 39\u001b[0;31m             \u001b[0mmodel\u001b[0m\u001b[0;34m.\u001b[0m\u001b[0mfit\u001b[0m\u001b[0;34m(\u001b[0m\u001b[0mx_train\u001b[0m\u001b[0;34m[\u001b[0m\u001b[0mtrain\u001b[0m\u001b[0;34m]\u001b[0m\u001b[0;34m,\u001b[0m \u001b[0my_train\u001b[0m\u001b[0;34m[\u001b[0m\u001b[0mtrain\u001b[0m\u001b[0;34m]\u001b[0m\u001b[0;34m)\u001b[0m\u001b[0;34m\u001b[0m\u001b[0;34m\u001b[0m\u001b[0m\n\u001b[0m\u001b[1;32m     40\u001b[0m \u001b[0;34m\u001b[0m\u001b[0m\n\u001b[1;32m     41\u001b[0m             \u001b[0;31m# predict on validation set\u001b[0m\u001b[0;34m\u001b[0m\u001b[0;34m\u001b[0m\u001b[0;34m\u001b[0m\u001b[0m\n",
      "\u001b[0;32m~/Documents/school_files/thesis/tourney_sim_project/lib/python3.7/site-packages/pandas/core/frame.py\u001b[0m in \u001b[0;36m__getitem__\u001b[0;34m(self, key)\u001b[0m\n\u001b[1;32m   3028\u001b[0m             \u001b[0;32mif\u001b[0m \u001b[0mis_iterator\u001b[0m\u001b[0;34m(\u001b[0m\u001b[0mkey\u001b[0m\u001b[0;34m)\u001b[0m\u001b[0;34m:\u001b[0m\u001b[0;34m\u001b[0m\u001b[0;34m\u001b[0m\u001b[0m\n\u001b[1;32m   3029\u001b[0m                 \u001b[0mkey\u001b[0m \u001b[0;34m=\u001b[0m \u001b[0mlist\u001b[0m\u001b[0;34m(\u001b[0m\u001b[0mkey\u001b[0m\u001b[0;34m)\u001b[0m\u001b[0;34m\u001b[0m\u001b[0;34m\u001b[0m\u001b[0m\n\u001b[0;32m-> 3030\u001b[0;31m             \u001b[0mindexer\u001b[0m \u001b[0;34m=\u001b[0m \u001b[0mself\u001b[0m\u001b[0;34m.\u001b[0m\u001b[0mloc\u001b[0m\u001b[0;34m.\u001b[0m\u001b[0m_get_listlike_indexer\u001b[0m\u001b[0;34m(\u001b[0m\u001b[0mkey\u001b[0m\u001b[0;34m,\u001b[0m \u001b[0maxis\u001b[0m\u001b[0;34m=\u001b[0m\u001b[0;36m1\u001b[0m\u001b[0;34m,\u001b[0m \u001b[0mraise_missing\u001b[0m\u001b[0;34m=\u001b[0m\u001b[0;32mTrue\u001b[0m\u001b[0;34m)\u001b[0m\u001b[0;34m[\u001b[0m\u001b[0;36m1\u001b[0m\u001b[0;34m]\u001b[0m\u001b[0;34m\u001b[0m\u001b[0;34m\u001b[0m\u001b[0m\n\u001b[0m\u001b[1;32m   3031\u001b[0m \u001b[0;34m\u001b[0m\u001b[0m\n\u001b[1;32m   3032\u001b[0m         \u001b[0;31m# take() does not accept boolean indexers\u001b[0m\u001b[0;34m\u001b[0m\u001b[0;34m\u001b[0m\u001b[0;34m\u001b[0m\u001b[0m\n",
      "\u001b[0;32m~/Documents/school_files/thesis/tourney_sim_project/lib/python3.7/site-packages/pandas/core/indexing.py\u001b[0m in \u001b[0;36m_get_listlike_indexer\u001b[0;34m(self, key, axis, raise_missing)\u001b[0m\n\u001b[1;32m   1264\u001b[0m             \u001b[0mkeyarr\u001b[0m\u001b[0;34m,\u001b[0m \u001b[0mindexer\u001b[0m\u001b[0;34m,\u001b[0m \u001b[0mnew_indexer\u001b[0m \u001b[0;34m=\u001b[0m \u001b[0max\u001b[0m\u001b[0;34m.\u001b[0m\u001b[0m_reindex_non_unique\u001b[0m\u001b[0;34m(\u001b[0m\u001b[0mkeyarr\u001b[0m\u001b[0;34m)\u001b[0m\u001b[0;34m\u001b[0m\u001b[0;34m\u001b[0m\u001b[0m\n\u001b[1;32m   1265\u001b[0m \u001b[0;34m\u001b[0m\u001b[0m\n\u001b[0;32m-> 1266\u001b[0;31m         \u001b[0mself\u001b[0m\u001b[0;34m.\u001b[0m\u001b[0m_validate_read_indexer\u001b[0m\u001b[0;34m(\u001b[0m\u001b[0mkeyarr\u001b[0m\u001b[0;34m,\u001b[0m \u001b[0mindexer\u001b[0m\u001b[0;34m,\u001b[0m \u001b[0maxis\u001b[0m\u001b[0;34m,\u001b[0m \u001b[0mraise_missing\u001b[0m\u001b[0;34m=\u001b[0m\u001b[0mraise_missing\u001b[0m\u001b[0;34m)\u001b[0m\u001b[0;34m\u001b[0m\u001b[0;34m\u001b[0m\u001b[0m\n\u001b[0m\u001b[1;32m   1267\u001b[0m         \u001b[0;32mreturn\u001b[0m \u001b[0mkeyarr\u001b[0m\u001b[0;34m,\u001b[0m \u001b[0mindexer\u001b[0m\u001b[0;34m\u001b[0m\u001b[0;34m\u001b[0m\u001b[0m\n\u001b[1;32m   1268\u001b[0m \u001b[0;34m\u001b[0m\u001b[0m\n",
      "\u001b[0;32m~/Documents/school_files/thesis/tourney_sim_project/lib/python3.7/site-packages/pandas/core/indexing.py\u001b[0m in \u001b[0;36m_validate_read_indexer\u001b[0;34m(self, key, indexer, axis, raise_missing)\u001b[0m\n\u001b[1;32m   1306\u001b[0m             \u001b[0;32mif\u001b[0m \u001b[0mmissing\u001b[0m \u001b[0;34m==\u001b[0m \u001b[0mlen\u001b[0m\u001b[0;34m(\u001b[0m\u001b[0mindexer\u001b[0m\u001b[0;34m)\u001b[0m\u001b[0;34m:\u001b[0m\u001b[0;34m\u001b[0m\u001b[0;34m\u001b[0m\u001b[0m\n\u001b[1;32m   1307\u001b[0m                 \u001b[0maxis_name\u001b[0m \u001b[0;34m=\u001b[0m \u001b[0mself\u001b[0m\u001b[0;34m.\u001b[0m\u001b[0mobj\u001b[0m\u001b[0;34m.\u001b[0m\u001b[0m_get_axis_name\u001b[0m\u001b[0;34m(\u001b[0m\u001b[0maxis\u001b[0m\u001b[0;34m)\u001b[0m\u001b[0;34m\u001b[0m\u001b[0;34m\u001b[0m\u001b[0m\n\u001b[0;32m-> 1308\u001b[0;31m                 \u001b[0;32mraise\u001b[0m \u001b[0mKeyError\u001b[0m\u001b[0;34m(\u001b[0m\u001b[0;34mf\"None of [{key}] are in the [{axis_name}]\"\u001b[0m\u001b[0;34m)\u001b[0m\u001b[0;34m\u001b[0m\u001b[0;34m\u001b[0m\u001b[0m\n\u001b[0m\u001b[1;32m   1309\u001b[0m \u001b[0;34m\u001b[0m\u001b[0m\n\u001b[1;32m   1310\u001b[0m             \u001b[0max\u001b[0m \u001b[0;34m=\u001b[0m \u001b[0mself\u001b[0m\u001b[0;34m.\u001b[0m\u001b[0mobj\u001b[0m\u001b[0;34m.\u001b[0m\u001b[0m_get_axis\u001b[0m\u001b[0;34m(\u001b[0m\u001b[0maxis\u001b[0m\u001b[0;34m)\u001b[0m\u001b[0;34m\u001b[0m\u001b[0;34m\u001b[0m\u001b[0m\n",
      "\u001b[0;31mKeyError\u001b[0m: \"None of [Int64Index([ 57085,  57086,  57087,  57088,  57089,  57090,  57091,  57092,\\n             57093,  57094,\\n            ...\\n            285412, 285413, 285414, 285415, 285416, 285417, 285418, 285419,\\n            285420, 285421],\\n           dtype='int64', length=228337)] are in the [columns]\""
     ]
    }
   ],
   "source": [
    "xgb = XGBClassifier()\n",
    "xgb_train, xgb_val = train_funcs.train_and_measure(\n",
    "    xgb,\n",
    "    kfold,\n",
    "    'xgb - no tuning',\n",
    "    x_train,\n",
    "    y_train\n",
    ")"
   ]
  },
  {
   "cell_type": "code",
   "execution_count": 22,
   "metadata": {},
   "outputs": [
    {
     "output_type": "execute_result",
     "data": {
      "text/plain": [
       "{'xgb - no tuning': {'acc': 0.915626686376449,\n",
       "  'roc': 0.9137079862495993,\n",
       "  'f1': 0.9296773004193701,\n",
       "  'mcc': 0.8243730442625037}}"
      ]
     },
     "metadata": {},
     "execution_count": 22
    }
   ],
   "source": [
    "xgb_train"
   ]
  },
  {
   "cell_type": "code",
   "execution_count": 23,
   "metadata": {},
   "outputs": [
    {
     "output_type": "execute_result",
     "data": {
      "text/plain": [
       "{'xgb - no tuning': {'acc': 0.9066820477452291,\n",
       "  'roc': 0.904186039292434,\n",
       "  'f1': 0.9222011110553117,\n",
       "  'mcc': 0.8055082372371942}}"
      ]
     },
     "metadata": {},
     "execution_count": 23
    }
   ],
   "source": [
    "xgb_val"
   ]
  },
  {
   "cell_type": "code",
   "execution_count": 24,
   "metadata": {},
   "outputs": [
    {
     "output_type": "stream",
     "name": "stderr",
     "text": [
      "/home/specc/Documents/school_files/thesis/tourney_sim_project/lib/python3.7/site-packages/xgboost/sklearn.py:1146: UserWarning: The use of label encoder in XGBClassifier is deprecated and will be removed in a future release. To remove this warning, do the following: 1) Pass option use_label_encoder=False when constructing XGBClassifier object; and 2) Encode your labels (y) as integers starting with 0, i.e. 0, 1, 2, ..., [num_class - 1].\n",
      "  warnings.warn(label_encoder_deprecation_msg, UserWarning)\n",
      "[18:07:57] WARNING: ../src/learner.cc:1095: Starting in XGBoost 1.3.0, the default evaluation metric used with the objective 'binary:logistic' was changed from 'error' to 'logloss'. Explicitly set eval_metric if you'd like to restore the old behavior.\n"
     ]
    },
    {
     "output_type": "execute_result",
     "data": {
      "text/plain": [
       "XGBClassifier(base_score=0.5, booster='gbtree', colsample_bylevel=1,\n",
       "              colsample_bynode=1, colsample_bytree=1, gamma=0, gpu_id=-1,\n",
       "              importance_type='gain', interaction_constraints='',\n",
       "              learning_rate=0.300000012, max_delta_step=0, max_depth=6,\n",
       "              min_child_weight=1, missing=nan, monotone_constraints='()',\n",
       "              n_estimators=100, n_jobs=16, num_parallel_tree=1, random_state=0,\n",
       "              reg_alpha=0, reg_lambda=1, scale_pos_weight=1, subsample=1,\n",
       "              tree_method='exact', validate_parameters=1, verbosity=None)"
      ]
     },
     "metadata": {},
     "execution_count": 24
    }
   ],
   "source": [
    "xgb = XGBClassifier()\n",
    "xgb.fit(x_train, y_train)"
   ]
  },
  {
   "cell_type": "code",
   "execution_count": 25,
   "metadata": {},
   "outputs": [
    {
     "output_type": "stream",
     "name": "stderr",
     "text": [
      "/home/specc/Documents/school_files/thesis/tourney_sim_project/lib/python3.7/site-packages/xgboost/data.py:114: UserWarning: Use subset (sliced data) of np.ndarray is not recommended because it will generate extra copies and increase memory consumption\n  \"because it will generate extra copies and increase \" +\n"
     ]
    }
   ],
   "source": [
    "xgb_test_preds = xgb.predict(x_test)\n",
    "\n",
    "xgb_test_metrics = {\n",
    "    'xgb - no tuning': {\n",
    "    'acc': accuracy_score(xgb_test_preds, y_test),\n",
    "    'f1': f1_score(xgb_test_preds, y_test),\n",
    "    'roc': roc_auc_score(xgb_test_preds, y_test),\n",
    "    'mcc': matthews_corrcoef(xgb_test_preds, y_test)\n",
    "    }\n",
    "}\n",
    "\n"
   ]
  },
  {
   "cell_type": "code",
   "execution_count": 26,
   "metadata": {},
   "outputs": [
    {
     "output_type": "execute_result",
     "data": {
      "text/plain": [
       "{'xgb - no tuning': {'acc': 0.9050942470744867,\n",
       "  'f1': 0.9228473124159774,\n",
       "  'roc': 0.9003859713922834,\n",
       "  'mcc': 0.7995948749162255}}"
      ]
     },
     "metadata": {},
     "execution_count": 26
    }
   ],
   "source": [
    "xgb_test_metrics"
   ]
  },
  {
   "source": [
    "## CatBoost"
   ],
   "cell_type": "markdown",
   "metadata": {}
  },
  {
   "cell_type": "code",
   "execution_count": 92,
   "metadata": {},
   "outputs": [],
   "source": [
    "cb_clf = CatBoostClassifier(task_type='GPU',\n",
    "                                random_seed=seed,\n",
    "                                verbose=False)"
   ]
  },
  {
   "cell_type": "code",
   "execution_count": 93,
   "metadata": {},
   "outputs": [
    {
     "output_type": "error",
     "ename": "KeyError",
     "evalue": "\"None of [Int64Index([ 57085,  57086,  57087,  57088,  57089,  57090,  57091,  57092,\\n             57093,  57094,\\n            ...\\n            285412, 285413, 285414, 285415, 285416, 285417, 285418, 285419,\\n            285420, 285421],\\n           dtype='int64', length=228337)] are in the [columns]\"",
     "traceback": [
      "\u001b[0;31m---------------------------------------------------------------------------\u001b[0m",
      "\u001b[0;31mKeyError\u001b[0m                                  Traceback (most recent call last)",
      "\u001b[0;32m<ipython-input-93-639b6a949f7a>\u001b[0m in \u001b[0;36m<module>\u001b[0;34m\u001b[0m\n\u001b[1;32m      4\u001b[0m     \u001b[0;34m'catboost - no tuning'\u001b[0m\u001b[0;34m,\u001b[0m\u001b[0;34m\u001b[0m\u001b[0;34m\u001b[0m\u001b[0m\n\u001b[1;32m      5\u001b[0m     \u001b[0mx_train\u001b[0m\u001b[0;34m,\u001b[0m\u001b[0;34m\u001b[0m\u001b[0;34m\u001b[0m\u001b[0m\n\u001b[0;32m----> 6\u001b[0;31m     \u001b[0my_train\u001b[0m\u001b[0;34m,\u001b[0m\u001b[0;34m\u001b[0m\u001b[0;34m\u001b[0m\u001b[0m\n\u001b[0m\u001b[1;32m      7\u001b[0m )\n",
      "\u001b[0;32m~/Documents/school_files/thesis/modeling_functions/train_model_funcs.py\u001b[0m in \u001b[0;36mtrain_and_measure\u001b[0;34m(model, cv, model_name, x_train, y_train)\u001b[0m\n\u001b[1;32m     37\u001b[0m         \u001b[0;31m# cross validation\u001b[0m\u001b[0;34m\u001b[0m\u001b[0;34m\u001b[0m\u001b[0;34m\u001b[0m\u001b[0m\n\u001b[1;32m     38\u001b[0m         \u001b[0;32mfor\u001b[0m \u001b[0mtrain\u001b[0m\u001b[0;34m,\u001b[0m \u001b[0mval\u001b[0m \u001b[0;32min\u001b[0m \u001b[0mcv\u001b[0m\u001b[0;34m.\u001b[0m\u001b[0msplit\u001b[0m\u001b[0;34m(\u001b[0m\u001b[0mx_train\u001b[0m\u001b[0;34m,\u001b[0m \u001b[0my_train\u001b[0m\u001b[0;34m)\u001b[0m\u001b[0;34m:\u001b[0m\u001b[0;34m\u001b[0m\u001b[0;34m\u001b[0m\u001b[0m\n\u001b[0;32m---> 39\u001b[0;31m             \u001b[0mmodel\u001b[0m\u001b[0;34m.\u001b[0m\u001b[0mfit\u001b[0m\u001b[0;34m(\u001b[0m\u001b[0mx_train\u001b[0m\u001b[0;34m[\u001b[0m\u001b[0mtrain\u001b[0m\u001b[0;34m]\u001b[0m\u001b[0;34m,\u001b[0m \u001b[0my_train\u001b[0m\u001b[0;34m[\u001b[0m\u001b[0mtrain\u001b[0m\u001b[0;34m]\u001b[0m\u001b[0;34m)\u001b[0m\u001b[0;34m\u001b[0m\u001b[0;34m\u001b[0m\u001b[0m\n\u001b[0m\u001b[1;32m     40\u001b[0m \u001b[0;34m\u001b[0m\u001b[0m\n\u001b[1;32m     41\u001b[0m             \u001b[0;31m# predict on validation set\u001b[0m\u001b[0;34m\u001b[0m\u001b[0;34m\u001b[0m\u001b[0;34m\u001b[0m\u001b[0m\n",
      "\u001b[0;32m~/Documents/school_files/thesis/tourney_sim_project/lib/python3.7/site-packages/pandas/core/frame.py\u001b[0m in \u001b[0;36m__getitem__\u001b[0;34m(self, key)\u001b[0m\n\u001b[1;32m   3028\u001b[0m             \u001b[0;32mif\u001b[0m \u001b[0mis_iterator\u001b[0m\u001b[0;34m(\u001b[0m\u001b[0mkey\u001b[0m\u001b[0;34m)\u001b[0m\u001b[0;34m:\u001b[0m\u001b[0;34m\u001b[0m\u001b[0;34m\u001b[0m\u001b[0m\n\u001b[1;32m   3029\u001b[0m                 \u001b[0mkey\u001b[0m \u001b[0;34m=\u001b[0m \u001b[0mlist\u001b[0m\u001b[0;34m(\u001b[0m\u001b[0mkey\u001b[0m\u001b[0;34m)\u001b[0m\u001b[0;34m\u001b[0m\u001b[0;34m\u001b[0m\u001b[0m\n\u001b[0;32m-> 3030\u001b[0;31m             \u001b[0mindexer\u001b[0m \u001b[0;34m=\u001b[0m \u001b[0mself\u001b[0m\u001b[0;34m.\u001b[0m\u001b[0mloc\u001b[0m\u001b[0;34m.\u001b[0m\u001b[0m_get_listlike_indexer\u001b[0m\u001b[0;34m(\u001b[0m\u001b[0mkey\u001b[0m\u001b[0;34m,\u001b[0m \u001b[0maxis\u001b[0m\u001b[0;34m=\u001b[0m\u001b[0;36m1\u001b[0m\u001b[0;34m,\u001b[0m \u001b[0mraise_missing\u001b[0m\u001b[0;34m=\u001b[0m\u001b[0;32mTrue\u001b[0m\u001b[0;34m)\u001b[0m\u001b[0;34m[\u001b[0m\u001b[0;36m1\u001b[0m\u001b[0;34m]\u001b[0m\u001b[0;34m\u001b[0m\u001b[0;34m\u001b[0m\u001b[0m\n\u001b[0m\u001b[1;32m   3031\u001b[0m \u001b[0;34m\u001b[0m\u001b[0m\n\u001b[1;32m   3032\u001b[0m         \u001b[0;31m# take() does not accept boolean indexers\u001b[0m\u001b[0;34m\u001b[0m\u001b[0;34m\u001b[0m\u001b[0;34m\u001b[0m\u001b[0m\n",
      "\u001b[0;32m~/Documents/school_files/thesis/tourney_sim_project/lib/python3.7/site-packages/pandas/core/indexing.py\u001b[0m in \u001b[0;36m_get_listlike_indexer\u001b[0;34m(self, key, axis, raise_missing)\u001b[0m\n\u001b[1;32m   1264\u001b[0m             \u001b[0mkeyarr\u001b[0m\u001b[0;34m,\u001b[0m \u001b[0mindexer\u001b[0m\u001b[0;34m,\u001b[0m \u001b[0mnew_indexer\u001b[0m \u001b[0;34m=\u001b[0m \u001b[0max\u001b[0m\u001b[0;34m.\u001b[0m\u001b[0m_reindex_non_unique\u001b[0m\u001b[0;34m(\u001b[0m\u001b[0mkeyarr\u001b[0m\u001b[0;34m)\u001b[0m\u001b[0;34m\u001b[0m\u001b[0;34m\u001b[0m\u001b[0m\n\u001b[1;32m   1265\u001b[0m \u001b[0;34m\u001b[0m\u001b[0m\n\u001b[0;32m-> 1266\u001b[0;31m         \u001b[0mself\u001b[0m\u001b[0;34m.\u001b[0m\u001b[0m_validate_read_indexer\u001b[0m\u001b[0;34m(\u001b[0m\u001b[0mkeyarr\u001b[0m\u001b[0;34m,\u001b[0m \u001b[0mindexer\u001b[0m\u001b[0;34m,\u001b[0m \u001b[0maxis\u001b[0m\u001b[0;34m,\u001b[0m \u001b[0mraise_missing\u001b[0m\u001b[0;34m=\u001b[0m\u001b[0mraise_missing\u001b[0m\u001b[0;34m)\u001b[0m\u001b[0;34m\u001b[0m\u001b[0;34m\u001b[0m\u001b[0m\n\u001b[0m\u001b[1;32m   1267\u001b[0m         \u001b[0;32mreturn\u001b[0m \u001b[0mkeyarr\u001b[0m\u001b[0;34m,\u001b[0m \u001b[0mindexer\u001b[0m\u001b[0;34m\u001b[0m\u001b[0;34m\u001b[0m\u001b[0m\n\u001b[1;32m   1268\u001b[0m \u001b[0;34m\u001b[0m\u001b[0m\n",
      "\u001b[0;32m~/Documents/school_files/thesis/tourney_sim_project/lib/python3.7/site-packages/pandas/core/indexing.py\u001b[0m in \u001b[0;36m_validate_read_indexer\u001b[0;34m(self, key, indexer, axis, raise_missing)\u001b[0m\n\u001b[1;32m   1306\u001b[0m             \u001b[0;32mif\u001b[0m \u001b[0mmissing\u001b[0m \u001b[0;34m==\u001b[0m \u001b[0mlen\u001b[0m\u001b[0;34m(\u001b[0m\u001b[0mindexer\u001b[0m\u001b[0;34m)\u001b[0m\u001b[0;34m:\u001b[0m\u001b[0;34m\u001b[0m\u001b[0;34m\u001b[0m\u001b[0m\n\u001b[1;32m   1307\u001b[0m                 \u001b[0maxis_name\u001b[0m \u001b[0;34m=\u001b[0m \u001b[0mself\u001b[0m\u001b[0;34m.\u001b[0m\u001b[0mobj\u001b[0m\u001b[0;34m.\u001b[0m\u001b[0m_get_axis_name\u001b[0m\u001b[0;34m(\u001b[0m\u001b[0maxis\u001b[0m\u001b[0;34m)\u001b[0m\u001b[0;34m\u001b[0m\u001b[0;34m\u001b[0m\u001b[0m\n\u001b[0;32m-> 1308\u001b[0;31m                 \u001b[0;32mraise\u001b[0m \u001b[0mKeyError\u001b[0m\u001b[0;34m(\u001b[0m\u001b[0;34mf\"None of [{key}] are in the [{axis_name}]\"\u001b[0m\u001b[0;34m)\u001b[0m\u001b[0;34m\u001b[0m\u001b[0;34m\u001b[0m\u001b[0m\n\u001b[0m\u001b[1;32m   1309\u001b[0m \u001b[0;34m\u001b[0m\u001b[0m\n\u001b[1;32m   1310\u001b[0m             \u001b[0max\u001b[0m \u001b[0;34m=\u001b[0m \u001b[0mself\u001b[0m\u001b[0;34m.\u001b[0m\u001b[0mobj\u001b[0m\u001b[0;34m.\u001b[0m\u001b[0m_get_axis\u001b[0m\u001b[0;34m(\u001b[0m\u001b[0maxis\u001b[0m\u001b[0;34m)\u001b[0m\u001b[0;34m\u001b[0m\u001b[0;34m\u001b[0m\u001b[0m\n",
      "\u001b[0;31mKeyError\u001b[0m: \"None of [Int64Index([ 57085,  57086,  57087,  57088,  57089,  57090,  57091,  57092,\\n             57093,  57094,\\n            ...\\n            285412, 285413, 285414, 285415, 285416, 285417, 285418, 285419,\\n            285420, 285421],\\n           dtype='int64', length=228337)] are in the [columns]\""
     ]
    }
   ],
   "source": [
    "cb_train, cb_val = train_funcs.train_and_measure(\n",
    "    cb_clf,\n",
    "    kfold,\n",
    "    'catboost - no tuning',\n",
    "    x_train,\n",
    "    y_train,\n",
    ")"
   ]
  },
  {
   "cell_type": "code",
   "execution_count": 29,
   "metadata": {},
   "outputs": [
    {
     "output_type": "execute_result",
     "data": {
      "text/plain": [
       "<catboost.core.CatBoostClassifier at 0x7efbb0fa0c90>"
      ]
     },
     "metadata": {},
     "execution_count": 29
    }
   ],
   "source": [
    "cb_clf.fit(x_train, y_train)"
   ]
  },
  {
   "cell_type": "code",
   "execution_count": 30,
   "metadata": {},
   "outputs": [],
   "source": [
    "cb_test_preds = cb_clf.predict(x_test)\n",
    "\n",
    "cb_test_metrics = {\n",
    "    'catboost - no tuning': {\n",
    "    'acc': accuracy_score(cb_test_preds, y_test),\n",
    "    'f1': f1_score(cb_test_preds, y_test),\n",
    "    'roc': roc_auc_score(cb_test_preds, y_test),\n",
    "    'mcc': matthews_corrcoef(cb_test_preds, y_test)\n",
    "    }\n",
    "}"
   ]
  },
  {
   "cell_type": "code",
   "execution_count": 31,
   "metadata": {},
   "outputs": [
    {
     "output_type": "execute_result",
     "data": {
      "text/plain": [
       "{'catboost - no tuning': {'acc': 0.910626196183822,\n",
       "  'roc': 0.9085965666185662,\n",
       "  'f1': 0.9255545493652013,\n",
       "  'mcc': 0.8139214860131094}}"
      ]
     },
     "metadata": {},
     "execution_count": 31
    }
   ],
   "source": [
    "cb_train"
   ]
  },
  {
   "cell_type": "code",
   "execution_count": 32,
   "metadata": {},
   "outputs": [
    {
     "output_type": "execute_result",
     "data": {
      "text/plain": [
       "{'catboost - no tuning': {'acc': 0.9076455324704863,\n",
       "  'roc': 0.9053042612280076,\n",
       "  'f1': 0.9230496717985182,\n",
       "  'mcc': 0.8075017511616537}}"
      ]
     },
     "metadata": {},
     "execution_count": 32
    }
   ],
   "source": [
    "cb_val"
   ]
  },
  {
   "cell_type": "code",
   "execution_count": 33,
   "metadata": {},
   "outputs": [
    {
     "output_type": "execute_result",
     "data": {
      "text/plain": [
       "{'catboost - no tuning': {'acc': 0.9062434307336557,\n",
       "  'f1': 0.9238907849829352,\n",
       "  'roc': 0.9018822809166878,\n",
       "  'mcc': 0.8018787237113214}}"
      ]
     },
     "metadata": {},
     "execution_count": 33
    }
   ],
   "source": [
    "cb_test_metrics"
   ]
  },
  {
   "source": [
    "## Catboost - optimized"
   ],
   "cell_type": "markdown",
   "metadata": {}
  },
  {
   "cell_type": "code",
   "execution_count": 34,
   "metadata": {},
   "outputs": [],
   "source": [
    "def cb_opt(n_estimators, depth, learning_rate, max_bin,\n",
    "            subsample, num_leaves, l2_leaf_reg, model_size_reg):\n",
    "    scores = list()\n",
    "    kfold = KFold(n_splits=5, shuffle=False)\n",
    "\n",
    "    for train_index, test_index in kfold.split(x_train, y_train):\n",
    "        trainx, valx = x_train[train_index], x_train[test_index]\n",
    "        trainy, valy = y_train[train_index], y_train[test_index]\n",
    "    \n",
    "        reg = CatBoostClassifier(verbose = 0,\n",
    "                                n_estimators = int(n_estimators),\n",
    "                                learning_rate = learning_rate,\n",
    "                                subsample = subsample,\n",
    "                                l2_leaf_reg = l2_leaf_reg,\n",
    "                                max_depth = int(depth),\n",
    "                                num_leaves = int(num_leaves),\n",
    "                                random_state = seed,\n",
    "                                grow_policy = 'Lossguide',\n",
    "                                max_bin = int(max_bin),\n",
    "                                use_best_model = True,\n",
    "                                model_size_reg = model_size_reg\n",
    "                                )\n",
    "\n",
    "        reg.fit(trainx, trainy, eval_set=(valx, valy))\n",
    "        scores.append(matthews_corrcoef(valy, reg.predict(valx)))\n",
    "    \n",
    "    return np.mean(scores)"
   ]
  },
  {
   "cell_type": "code",
   "execution_count": 35,
   "metadata": {},
   "outputs": [],
   "source": [
    "pbounds = {\"n_estimators\": (150,400),\n",
    "           \"depth\": (2,7),\n",
    "           \"learning_rate\": (.01, 0.1),\n",
    "           \"subsample\":(0.2, 1.),\n",
    "           \"num_leaves\": (14,50),\n",
    "           \"max_bin\":(64,512),\n",
    "           \"l2_leaf_reg\":(0,10),\n",
    "           \"model_size_reg\": (0,5)\n",
    "}\n",
    "\n",
    "optimizer = BayesianOptimization(\n",
    "    f = cb_opt,\n",
    "    pbounds = pbounds,\n",
    "    verbose = 2,\n",
    "    random_state = seed\n",
    ")"
   ]
  },
  {
   "cell_type": "code",
   "execution_count": 36,
   "metadata": {},
   "outputs": [
    {
     "output_type": "stream",
     "name": "stdout",
     "text": [
      "|   iter    |  target   |   depth   | l2_lea... | learni... |  max_bin  | model_... | n_esti... | num_le... | subsample |\n",
      "-------------------------------------------------------------------------------------------------------------------------\n",
      "| \u001b[0m 1       \u001b[0m | \u001b[0m 0.8072  \u001b[0m | \u001b[0m 5.252   \u001b[0m | \u001b[0m 5.055   \u001b[0m | \u001b[0m 0.08907 \u001b[0m | \u001b[0m 145.5   \u001b[0m | \u001b[0m 4.261   \u001b[0m | \u001b[0m 337.5   \u001b[0m | \u001b[0m 37.98   \u001b[0m | \u001b[0m 0.9903  \u001b[0m |\n",
      "| \u001b[0m 2       \u001b[0m | \u001b[0m 0.8068  \u001b[0m | \u001b[0m 3.285   \u001b[0m | \u001b[0m 0.2831  \u001b[0m | \u001b[0m 0.06721 \u001b[0m | \u001b[0m 443.6   \u001b[0m | \u001b[0m 3.681   \u001b[0m | \u001b[0m 155.2   \u001b[0m | \u001b[0m 18.02   \u001b[0m | \u001b[0m 0.4382  \u001b[0m |\n",
      "| \u001b[95m 3       \u001b[0m | \u001b[95m 0.8073  \u001b[0m | \u001b[95m 5.201   \u001b[0m | \u001b[95m 3.103   \u001b[0m | \u001b[95m 0.06806 \u001b[0m | \u001b[95m 146.2   \u001b[0m | \u001b[95m 0.1148  \u001b[0m | \u001b[95m 337.0   \u001b[0m | \u001b[95m 37.41   \u001b[0m | \u001b[95m 0.3856  \u001b[0m |\n",
      "| \u001b[95m 4       \u001b[0m | \u001b[95m 0.8073  \u001b[0m | \u001b[95m 4.502   \u001b[0m | \u001b[95m 2.302   \u001b[0m | \u001b[95m 0.0402  \u001b[0m | \u001b[95m 153.9   \u001b[0m | \u001b[95m 2.167   \u001b[0m | \u001b[95m 332.6   \u001b[0m | \u001b[95m 33.79   \u001b[0m | \u001b[95m 0.2362  \u001b[0m |\n",
      "| \u001b[95m 5       \u001b[0m | \u001b[95m 0.8076  \u001b[0m | \u001b[95m 5.322   \u001b[0m | \u001b[95m 0.6415  \u001b[0m | \u001b[95m 0.0313  \u001b[0m | \u001b[95m 146.1   \u001b[0m | \u001b[95m 0.04586 \u001b[0m | \u001b[95m 325.9   \u001b[0m | \u001b[95m 43.21   \u001b[0m | \u001b[95m 0.7776  \u001b[0m |\n",
      "| \u001b[0m 6       \u001b[0m | \u001b[0m 0.805   \u001b[0m | \u001b[0m 3.875   \u001b[0m | \u001b[0m 5.437   \u001b[0m | \u001b[0m 0.01982 \u001b[0m | \u001b[0m 408.6   \u001b[0m | \u001b[0m 1.28    \u001b[0m | \u001b[0m 251.8   \u001b[0m | \u001b[0m 46.0    \u001b[0m | \u001b[0m 0.8912  \u001b[0m |\n",
      "| \u001b[0m 7       \u001b[0m | \u001b[0m 0.8073  \u001b[0m | \u001b[0m 3.702   \u001b[0m | \u001b[0m 2.079   \u001b[0m | \u001b[0m 0.06419 \u001b[0m | \u001b[0m 129.2   \u001b[0m | \u001b[0m 0.9974  \u001b[0m | \u001b[0m 261.8   \u001b[0m | \u001b[0m 48.84   \u001b[0m | \u001b[0m 0.8428  \u001b[0m |\n",
      "| \u001b[95m 8       \u001b[0m | \u001b[95m 0.8077  \u001b[0m | \u001b[95m 5.273   \u001b[0m | \u001b[95m 3.662   \u001b[0m | \u001b[95m 0.06178 \u001b[0m | \u001b[95m 208.8   \u001b[0m | \u001b[95m 0.3621  \u001b[0m | \u001b[95m 266.2   \u001b[0m | \u001b[95m 49.8    \u001b[0m | \u001b[95m 0.7441  \u001b[0m |\n",
      "| \u001b[0m 9       \u001b[0m | \u001b[0m 0.807   \u001b[0m | \u001b[0m 6.667   \u001b[0m | \u001b[0m 8.53    \u001b[0m | \u001b[0m 0.04024 \u001b[0m | \u001b[0m 212.4   \u001b[0m | \u001b[0m 1.527   \u001b[0m | \u001b[0m 188.7   \u001b[0m | \u001b[0m 15.05   \u001b[0m | \u001b[0m 0.598   \u001b[0m |\n",
      "| \u001b[0m 10      \u001b[0m | \u001b[0m 0.8074  \u001b[0m | \u001b[0m 5.793   \u001b[0m | \u001b[0m 5.654   \u001b[0m | \u001b[0m 0.02474 \u001b[0m | \u001b[0m 251.9   \u001b[0m | \u001b[0m 3.163   \u001b[0m | \u001b[0m 324.4   \u001b[0m | \u001b[0m 49.77   \u001b[0m | \u001b[0m 0.8369  \u001b[0m |\n",
      "| \u001b[0m 11      \u001b[0m | \u001b[0m 0.8052  \u001b[0m | \u001b[0m 2.825   \u001b[0m | \u001b[0m 0.3093  \u001b[0m | \u001b[0m 0.03659 \u001b[0m | \u001b[0m 64.66   \u001b[0m | \u001b[0m 3.314   \u001b[0m | \u001b[0m 310.5   \u001b[0m | \u001b[0m 41.76   \u001b[0m | \u001b[0m 0.456   \u001b[0m |\n",
      "| \u001b[0m 12      \u001b[0m | \u001b[0m 0.8073  \u001b[0m | \u001b[0m 3.155   \u001b[0m | \u001b[0m 4.597   \u001b[0m | \u001b[0m 0.02963 \u001b[0m | \u001b[0m 296.7   \u001b[0m | \u001b[0m 1.538   \u001b[0m | \u001b[0m 399.9   \u001b[0m | \u001b[0m 29.82   \u001b[0m | \u001b[0m 0.8528  \u001b[0m |\n",
      "| \u001b[0m 13      \u001b[0m | \u001b[0m 0.8065  \u001b[0m | \u001b[0m 2.065   \u001b[0m | \u001b[0m 0.684   \u001b[0m | \u001b[0m 0.08723 \u001b[0m | \u001b[0m 266.5   \u001b[0m | \u001b[0m 2.276   \u001b[0m | \u001b[0m 264.4   \u001b[0m | \u001b[0m 15.29   \u001b[0m | \u001b[0m 0.5247  \u001b[0m |\n",
      "| \u001b[0m 14      \u001b[0m | \u001b[0m 0.8069  \u001b[0m | \u001b[0m 3.548   \u001b[0m | \u001b[0m 1.206   \u001b[0m | \u001b[0m 0.036   \u001b[0m | \u001b[0m 167.0   \u001b[0m | \u001b[0m 1.432   \u001b[0m | \u001b[0m 271.8   \u001b[0m | \u001b[0m 15.67   \u001b[0m | \u001b[0m 0.9112  \u001b[0m |\n",
      "| \u001b[0m 15      \u001b[0m | \u001b[0m 0.8064  \u001b[0m | \u001b[0m 3.994   \u001b[0m | \u001b[0m 1.075   \u001b[0m | \u001b[0m 0.02751 \u001b[0m | \u001b[0m 204.6   \u001b[0m | \u001b[0m 3.61    \u001b[0m | \u001b[0m 317.1   \u001b[0m | \u001b[0m 49.83   \u001b[0m | \u001b[0m 0.2156  \u001b[0m |\n",
      "| \u001b[0m 16      \u001b[0m | \u001b[0m 0.807   \u001b[0m | \u001b[0m 4.695   \u001b[0m | \u001b[0m 8.912   \u001b[0m | \u001b[0m 0.08105 \u001b[0m | \u001b[0m 181.1   \u001b[0m | \u001b[0m 3.49    \u001b[0m | \u001b[0m 241.5   \u001b[0m | \u001b[0m 49.25   \u001b[0m | \u001b[0m 0.8578  \u001b[0m |\n",
      "| \u001b[0m 17      \u001b[0m | \u001b[0m 0.807   \u001b[0m | \u001b[0m 4.691   \u001b[0m | \u001b[0m 9.731   \u001b[0m | \u001b[0m 0.08337 \u001b[0m | \u001b[0m 287.4   \u001b[0m | \u001b[0m 1.268   \u001b[0m | \u001b[0m 352.2   \u001b[0m | \u001b[0m 43.78   \u001b[0m | \u001b[0m 0.8653  \u001b[0m |\n",
      "| \u001b[0m 18      \u001b[0m | \u001b[0m 0.8075  \u001b[0m | \u001b[0m 7.0     \u001b[0m | \u001b[0m 10.0    \u001b[0m | \u001b[0m 0.03048 \u001b[0m | \u001b[0m 151.0   \u001b[0m | \u001b[0m 0.0     \u001b[0m | \u001b[0m 294.4   \u001b[0m | \u001b[0m 47.46   \u001b[0m | \u001b[0m 0.2     \u001b[0m |\n",
      "| \u001b[0m 19      \u001b[0m | \u001b[0m 0.8066  \u001b[0m | \u001b[0m 2.099   \u001b[0m | \u001b[0m 2.178   \u001b[0m | \u001b[0m 0.07638 \u001b[0m | \u001b[0m 238.7   \u001b[0m | \u001b[0m 2.229   \u001b[0m | \u001b[0m 399.1   \u001b[0m | \u001b[0m 25.1    \u001b[0m | \u001b[0m 0.2405  \u001b[0m |\n",
      "| \u001b[0m 20      \u001b[0m | \u001b[0m 0.8068  \u001b[0m | \u001b[0m 5.264   \u001b[0m | \u001b[0m 1.897   \u001b[0m | \u001b[0m 0.09457 \u001b[0m | \u001b[0m 348.9   \u001b[0m | \u001b[0m 3.182   \u001b[0m | \u001b[0m 398.8   \u001b[0m | \u001b[0m 14.93   \u001b[0m | \u001b[0m 0.578   \u001b[0m |\n",
      "| \u001b[0m 21      \u001b[0m | \u001b[0m 0.8071  \u001b[0m | \u001b[0m 2.619   \u001b[0m | \u001b[0m 2.165   \u001b[0m | \u001b[0m 0.09293 \u001b[0m | \u001b[0m 231.5   \u001b[0m | \u001b[0m 4.771   \u001b[0m | \u001b[0m 248.2   \u001b[0m | \u001b[0m 49.44   \u001b[0m | \u001b[0m 0.208   \u001b[0m |\n",
      "| \u001b[0m 22      \u001b[0m | \u001b[0m 0.8074  \u001b[0m | \u001b[0m 5.728   \u001b[0m | \u001b[0m 1.931   \u001b[0m | \u001b[0m 0.04137 \u001b[0m | \u001b[0m 103.5   \u001b[0m | \u001b[0m 2.88    \u001b[0m | \u001b[0m 202.0   \u001b[0m | \u001b[0m 49.92   \u001b[0m | \u001b[0m 0.3052  \u001b[0m |\n",
      "=========================================================================================================================\n"
     ]
    }
   ],
   "source": [
    "optimizer.maximize(init_points=2, n_iter=20)"
   ]
  },
  {
   "cell_type": "code",
   "execution_count": 37,
   "metadata": {},
   "outputs": [
    {
     "output_type": "execute_result",
     "data": {
      "text/plain": [
       "{'depth': 5.272558578698696,\n",
       " 'l2_leaf_reg': 3.6618572816947603,\n",
       " 'learning_rate': 0.06177940812291211,\n",
       " 'max_bin': 208.80082955565277,\n",
       " 'model_size_reg': 0.36214586380619807,\n",
       " 'n_estimators': 266.2122657293653,\n",
       " 'num_leaves': 49.796927455029135,\n",
       " 'subsample': 0.7440526404351189}"
      ]
     },
     "metadata": {},
     "execution_count": 37
    }
   ],
   "source": [
    "best_params = optimizer.max['params']\n",
    "best_params"
   ]
  },
  {
   "cell_type": "code",
   "execution_count": 38,
   "metadata": {},
   "outputs": [
    {
     "output_type": "stream",
     "name": "stdout",
     "text": [
      "{'target': 0.8076924121107613, 'params': {'depth': 5.272558578698696, 'l2_leaf_reg': 3.6618572816947603, 'learning_rate': 0.06177940812291211, 'max_bin': 208.80082955565277, 'model_size_reg': 0.36214586380619807, 'n_estimators': 266.2122657293653, 'num_leaves': 49.796927455029135, 'subsample': 0.7440526404351189}}\n"
     ]
    }
   ],
   "source": [
    "print(optimizer.max)"
   ]
  },
  {
   "cell_type": "code",
   "execution_count": 39,
   "metadata": {},
   "outputs": [],
   "source": [
    "optimized_params = optimizer.max['params']\n",
    "\n",
    "optimized_params['n_estimators'] = int(optimized_params['n_estimators'])\n",
    "optimized_params['depth'] = int(optimized_params['depth'])\n",
    "optimized_params['num_leaves'] = int(optimized_params['num_leaves'])\n",
    "optimized_params['max_bin'] = int(optimized_params['max_bin'])"
   ]
  },
  {
   "cell_type": "code",
   "execution_count": 40,
   "metadata": {},
   "outputs": [
    {
     "output_type": "execute_result",
     "data": {
      "text/plain": [
       "{'depth': 5,\n",
       " 'l2_leaf_reg': 3.6618572816947603,\n",
       " 'learning_rate': 0.06177940812291211,\n",
       " 'max_bin': 208,\n",
       " 'model_size_reg': 0.36214586380619807,\n",
       " 'n_estimators': 266,\n",
       " 'num_leaves': 49,\n",
       " 'subsample': 0.7440526404351189}"
      ]
     },
     "metadata": {},
     "execution_count": 40
    }
   ],
   "source": [
    "optimized_params"
   ]
  },
  {
   "cell_type": "code",
   "execution_count": 41,
   "metadata": {},
   "outputs": [
    {
     "output_type": "execute_result",
     "data": {
      "text/plain": [
       "<catboost.core.CatBoostClassifier at 0x7efbb0f03dd0>"
      ]
     },
     "metadata": {},
     "execution_count": 41
    }
   ],
   "source": [
    "cb_tuned = CatBoostClassifier(\n",
    "    verbose=False,\n",
    "    task_type='GPU',\n",
    "    random_seed=seed,\n",
    "    grow_policy='Lossguide',\n",
    "    depth=5,\n",
    "    l2_leaf_reg=3.6618572816947603,\n",
    "    max_bin=208,\n",
    "    n_estimators=266,\n",
    "    num_leaves=49,\n",
    "    model_size_reg=0.36214586380619807,\n",
    "    learning_rate=0.06177940812291211,\n",
    "    subsample=0.7440526404351189,\n",
    "    bootstrap_type='Poisson'\n",
    ")\n",
    "\n",
    "cb_tuned.fit(x_train, y_train)"
   ]
  },
  {
   "cell_type": "code",
   "execution_count": 42,
   "metadata": {},
   "outputs": [],
   "source": [
    "train_preds, test_preds = cb_tuned.predict(x_train), cb_tuned.predict(x_test)"
   ]
  },
  {
   "cell_type": "code",
   "execution_count": 43,
   "metadata": {},
   "outputs": [],
   "source": [
    "cb_tuned_train_metrics = {\n",
    "    'cb_optimized': {\n",
    "    'acc': accuracy_score(train_preds, y_train),\n",
    "    'f1': f1_score(train_preds, y_train),\n",
    "    'roc': roc_auc_score(train_preds, y_train),\n",
    "    'mcc': matthews_corrcoef(train_preds, y_train)\n",
    "    }\n",
    "}\n",
    "\n",
    "cb_tuned_test_metrics = {\n",
    "    'cb_optimized': {\n",
    "    'acc': accuracy_score(test_preds, y_test),\n",
    "    'f1': f1_score(test_preds, y_test),\n",
    "    'roc': roc_auc_score(test_preds, y_test),\n",
    "    'mcc': matthews_corrcoef(test_preds, y_test)\n",
    "    }\n",
    "}"
   ]
  },
  {
   "cell_type": "code",
   "execution_count": 44,
   "metadata": {},
   "outputs": [
    {
     "output_type": "execute_result",
     "data": {
      "text/plain": [
       "{'cb_optimized': {'acc': 0.9107952435341354,\n",
       "  'f1': 0.9256819276405085,\n",
       "  'roc': 0.9087377711512847,\n",
       "  'mcc': 0.8143028970382128}}"
      ]
     },
     "metadata": {},
     "execution_count": 44
    }
   ],
   "source": [
    "cb_tuned_train_metrics"
   ]
  },
  {
   "cell_type": "code",
   "execution_count": 45,
   "metadata": {},
   "outputs": [
    {
     "output_type": "execute_result",
     "data": {
      "text/plain": [
       "{'cb_optimized': {'acc': 0.9061593441244482,\n",
       "  'f1': 0.9238138582318808,\n",
       "  'roc': 0.9017704859966043,\n",
       "  'mcc': 0.8017119549305104}}"
      ]
     },
     "metadata": {},
     "execution_count": 45
    }
   ],
   "source": [
    "cb_tuned_test_metrics"
   ]
  },
  {
   "source": [
    "## CatBoost - save best model"
   ],
   "cell_type": "markdown",
   "metadata": {}
  },
  {
   "source": [
    "Bayesian optimization didn't produce anything better, so regular cross validation while saving the best model seems like the best approach."
   ],
   "cell_type": "markdown",
   "metadata": {}
  },
  {
   "cell_type": "code",
   "execution_count": 46,
   "metadata": {},
   "outputs": [
    {
     "output_type": "execute_result",
     "data": {
      "text/plain": [
       "<catboost.core.CatBoostClassifier at 0x7efbb118d590>"
      ]
     },
     "metadata": {},
     "execution_count": 46
    }
   ],
   "source": [
    "cb_base = CatBoostClassifier(task_type='GPU',\n",
    "                                random_seed=seed,\n",
    "                                verbose=False)\n",
    "cb_base.fit(x_train, y_train)"
   ]
  },
  {
   "cell_type": "code",
   "execution_count": 47,
   "metadata": {},
   "outputs": [],
   "source": [
    "train_preds, test_preds = cb_base.predict(x_train), cb_base.predict(x_test)"
   ]
  },
  {
   "cell_type": "code",
   "execution_count": 48,
   "metadata": {},
   "outputs": [],
   "source": [
    "cb_base_train_metrics = {\n",
    "    'cb_base': {\n",
    "    'acc': accuracy_score(train_preds, y_train),\n",
    "    'f1': f1_score(train_preds, y_train),\n",
    "    'roc': roc_auc_score(train_preds, y_train),\n",
    "    'mcc': matthews_corrcoef(train_preds, y_train)\n",
    "    }\n",
    "}\n",
    "\n",
    "cb_base_test_metrics = {\n",
    "    'cb_base': {\n",
    "    'acc': accuracy_score(test_preds, y_test),\n",
    "    'f1': f1_score(test_preds, y_test),\n",
    "    'roc': roc_auc_score(test_preds, y_test),\n",
    "    'mcc': matthews_corrcoef(test_preds, y_test)\n",
    "    }\n",
    "}"
   ]
  },
  {
   "cell_type": "code",
   "execution_count": 49,
   "metadata": {},
   "outputs": [
    {
     "output_type": "execute_result",
     "data": {
      "text/plain": [
       "{'cb_base': {'acc': 0.910129562542481,\n",
       "  'f1': 0.9251487482965803,\n",
       "  'roc': 0.9080959943400018,\n",
       "  'mcc': 0.8129017001889713}}"
      ]
     },
     "metadata": {},
     "execution_count": 49
    }
   ],
   "source": [
    "cb_base_train_metrics"
   ]
  },
  {
   "cell_type": "code",
   "execution_count": 50,
   "metadata": {},
   "outputs": [
    {
     "output_type": "execute_result",
     "data": {
      "text/plain": [
       "{'cb_base': {'acc': 0.9062434307336557,\n",
       "  'f1': 0.9238907849829352,\n",
       "  'roc': 0.9018822809166878,\n",
       "  'mcc': 0.8018787237113214}}"
      ]
     },
     "metadata": {},
     "execution_count": 50
    }
   ],
   "source": [
    "cb_base_test_metrics"
   ]
  },
  {
   "cell_type": "code",
   "execution_count": 51,
   "metadata": {},
   "outputs": [],
   "source": [
    "cb_base.save_model(\n",
    "    'models/match_predictor.cbm',\n",
    "    format='cbm'\n",
    ")"
   ]
  },
  {
   "source": [
    "# Summary of results"
   ],
   "cell_type": "markdown",
   "metadata": {}
  },
  {
   "cell_type": "code",
   "execution_count": 52,
   "metadata": {},
   "outputs": [],
   "source": [
    "# train metrics summary\n",
    "train_metrics_df = pd.DataFrame()"
   ]
  },
  {
   "cell_type": "code",
   "execution_count": 53,
   "metadata": {},
   "outputs": [],
   "source": [
    "# test metric summary\n",
    "test_metrics_df = pd.DataFrame()"
   ]
  },
  {
   "cell_type": "code",
   "execution_count": 54,
   "metadata": {},
   "outputs": [
    {
     "output_type": "execute_result",
     "data": {
      "text/plain": [
       "{'xgb - no tuning': {'acc': 0.9050942470744867,\n",
       "  'f1': 0.9228473124159774,\n",
       "  'roc': 0.9003859713922834,\n",
       "  'mcc': 0.7995948749162255}}"
      ]
     },
     "metadata": {},
     "execution_count": 54
    }
   ],
   "source": [
    "xgb_test_metrics"
   ]
  },
  {
   "cell_type": "code",
   "execution_count": 55,
   "metadata": {},
   "outputs": [],
   "source": [
    "model_list = ['xgb - no tune', 'cb - no tune', 'cb - optimized', 'cb - base']\n",
    "train_metrics = [xgb_train, cb_train, cb_tuned_train_metrics, cb_base_train_metrics]\n",
    "test_metrics = [xgb_test_metrics, cb_test_metrics, cb_tuned_test_metrics, cb_base_test_metrics]"
   ]
  },
  {
   "cell_type": "code",
   "execution_count": 56,
   "metadata": {},
   "outputs": [],
   "source": [
    "for metrics in train_metrics:\n",
    "    metrics_df=pd.DataFrame.from_dict(metrics, orient='index')\n",
    "    train_metrics_df = pd.concat([train_metrics_df, metrics_df])"
   ]
  },
  {
   "cell_type": "code",
   "execution_count": 57,
   "metadata": {},
   "outputs": [
    {
     "output_type": "execute_result",
     "data": {
      "text/plain": [
       "                           acc       roc        f1       mcc\n",
       "xgb - no tuning       0.915627  0.913708  0.929677  0.824373\n",
       "catboost - no tuning  0.910626  0.908597  0.925555  0.813921\n",
       "cb_optimized          0.910795  0.908738  0.925682  0.814303\n",
       "cb_base               0.910130  0.908096  0.925149  0.812902"
      ],
      "text/html": "<div>\n<style scoped>\n    .dataframe tbody tr th:only-of-type {\n        vertical-align: middle;\n    }\n\n    .dataframe tbody tr th {\n        vertical-align: top;\n    }\n\n    .dataframe thead th {\n        text-align: right;\n    }\n</style>\n<table border=\"1\" class=\"dataframe\">\n  <thead>\n    <tr style=\"text-align: right;\">\n      <th></th>\n      <th>acc</th>\n      <th>roc</th>\n      <th>f1</th>\n      <th>mcc</th>\n    </tr>\n  </thead>\n  <tbody>\n    <tr>\n      <th>xgb - no tuning</th>\n      <td>0.915627</td>\n      <td>0.913708</td>\n      <td>0.929677</td>\n      <td>0.824373</td>\n    </tr>\n    <tr>\n      <th>catboost - no tuning</th>\n      <td>0.910626</td>\n      <td>0.908597</td>\n      <td>0.925555</td>\n      <td>0.813921</td>\n    </tr>\n    <tr>\n      <th>cb_optimized</th>\n      <td>0.910795</td>\n      <td>0.908738</td>\n      <td>0.925682</td>\n      <td>0.814303</td>\n    </tr>\n    <tr>\n      <th>cb_base</th>\n      <td>0.910130</td>\n      <td>0.908096</td>\n      <td>0.925149</td>\n      <td>0.812902</td>\n    </tr>\n  </tbody>\n</table>\n</div>"
     },
     "metadata": {},
     "execution_count": 57
    }
   ],
   "source": [
    "train_metrics_df"
   ]
  },
  {
   "cell_type": "code",
   "execution_count": 58,
   "metadata": {},
   "outputs": [],
   "source": [
    "for metrics in test_metrics:\n",
    "    metrics_df=pd.DataFrame.from_dict(metrics, orient='index')\n",
    "    test_metrics_df = pd.concat([test_metrics_df, metrics_df])"
   ]
  },
  {
   "cell_type": "code",
   "execution_count": 59,
   "metadata": {},
   "outputs": [
    {
     "output_type": "execute_result",
     "data": {
      "text/plain": [
       "                           acc        f1       roc       mcc\n",
       "xgb - no tuning       0.905094  0.922847  0.900386  0.799595\n",
       "catboost - no tuning  0.906243  0.923891  0.901882  0.801879\n",
       "cb_optimized          0.906159  0.923814  0.901770  0.801712\n",
       "cb_base               0.906243  0.923891  0.901882  0.801879"
      ],
      "text/html": "<div>\n<style scoped>\n    .dataframe tbody tr th:only-of-type {\n        vertical-align: middle;\n    }\n\n    .dataframe tbody tr th {\n        vertical-align: top;\n    }\n\n    .dataframe thead th {\n        text-align: right;\n    }\n</style>\n<table border=\"1\" class=\"dataframe\">\n  <thead>\n    <tr style=\"text-align: right;\">\n      <th></th>\n      <th>acc</th>\n      <th>f1</th>\n      <th>roc</th>\n      <th>mcc</th>\n    </tr>\n  </thead>\n  <tbody>\n    <tr>\n      <th>xgb - no tuning</th>\n      <td>0.905094</td>\n      <td>0.922847</td>\n      <td>0.900386</td>\n      <td>0.799595</td>\n    </tr>\n    <tr>\n      <th>catboost - no tuning</th>\n      <td>0.906243</td>\n      <td>0.923891</td>\n      <td>0.901882</td>\n      <td>0.801879</td>\n    </tr>\n    <tr>\n      <th>cb_optimized</th>\n      <td>0.906159</td>\n      <td>0.923814</td>\n      <td>0.901770</td>\n      <td>0.801712</td>\n    </tr>\n    <tr>\n      <th>cb_base</th>\n      <td>0.906243</td>\n      <td>0.923891</td>\n      <td>0.901882</td>\n      <td>0.801879</td>\n    </tr>\n  </tbody>\n</table>\n</div>"
     },
     "metadata": {},
     "execution_count": 59
    }
   ],
   "source": [
    "test_metrics_df"
   ]
  },
  {
   "cell_type": "code",
   "execution_count": 60,
   "metadata": {},
   "outputs": [],
   "source": [
    "# add suffixes to column names\n",
    "train_metrics_df = train_metrics_df.add_suffix('_train').reset_index()\n",
    "test_metrics_df = test_metrics_df.add_suffix('_test').reset_index()"
   ]
  },
  {
   "cell_type": "code",
   "execution_count": 61,
   "metadata": {},
   "outputs": [
    {
     "output_type": "execute_result",
     "data": {
      "text/plain": [
       "                  index  acc_train  roc_train  f1_train  mcc_train\n",
       "0       xgb - no tuning   0.915627   0.913708  0.929677   0.824373\n",
       "1  catboost - no tuning   0.910626   0.908597  0.925555   0.813921\n",
       "2          cb_optimized   0.910795   0.908738  0.925682   0.814303\n",
       "3               cb_base   0.910130   0.908096  0.925149   0.812902"
      ],
      "text/html": "<div>\n<style scoped>\n    .dataframe tbody tr th:only-of-type {\n        vertical-align: middle;\n    }\n\n    .dataframe tbody tr th {\n        vertical-align: top;\n    }\n\n    .dataframe thead th {\n        text-align: right;\n    }\n</style>\n<table border=\"1\" class=\"dataframe\">\n  <thead>\n    <tr style=\"text-align: right;\">\n      <th></th>\n      <th>index</th>\n      <th>acc_train</th>\n      <th>roc_train</th>\n      <th>f1_train</th>\n      <th>mcc_train</th>\n    </tr>\n  </thead>\n  <tbody>\n    <tr>\n      <th>0</th>\n      <td>xgb - no tuning</td>\n      <td>0.915627</td>\n      <td>0.913708</td>\n      <td>0.929677</td>\n      <td>0.824373</td>\n    </tr>\n    <tr>\n      <th>1</th>\n      <td>catboost - no tuning</td>\n      <td>0.910626</td>\n      <td>0.908597</td>\n      <td>0.925555</td>\n      <td>0.813921</td>\n    </tr>\n    <tr>\n      <th>2</th>\n      <td>cb_optimized</td>\n      <td>0.910795</td>\n      <td>0.908738</td>\n      <td>0.925682</td>\n      <td>0.814303</td>\n    </tr>\n    <tr>\n      <th>3</th>\n      <td>cb_base</td>\n      <td>0.910130</td>\n      <td>0.908096</td>\n      <td>0.925149</td>\n      <td>0.812902</td>\n    </tr>\n  </tbody>\n</table>\n</div>"
     },
     "metadata": {},
     "execution_count": 61
    }
   ],
   "source": [
    "train_metrics_df"
   ]
  },
  {
   "cell_type": "code",
   "execution_count": 62,
   "metadata": {},
   "outputs": [],
   "source": [
    "summary_df = train_metrics_df.merge(test_metrics_df, on='index')\n",
    "summary_df.rename(columns={'index':'model_name'}, inplace=True)"
   ]
  },
  {
   "cell_type": "code",
   "execution_count": 63,
   "metadata": {},
   "outputs": [
    {
     "output_type": "execute_result",
     "data": {
      "text/plain": [
       "             model_name  acc_train  roc_train  f1_train  mcc_train  acc_test  \\\n",
       "0       xgb - no tuning   0.915627   0.913708  0.929677   0.824373  0.905094   \n",
       "1  catboost - no tuning   0.910626   0.908597  0.925555   0.813921  0.906243   \n",
       "2          cb_optimized   0.910795   0.908738  0.925682   0.814303  0.906159   \n",
       "3               cb_base   0.910130   0.908096  0.925149   0.812902  0.906243   \n",
       "\n",
       "    f1_test  roc_test  mcc_test  \n",
       "0  0.922847  0.900386  0.799595  \n",
       "1  0.923891  0.901882  0.801879  \n",
       "2  0.923814  0.901770  0.801712  \n",
       "3  0.923891  0.901882  0.801879  "
      ],
      "text/html": "<div>\n<style scoped>\n    .dataframe tbody tr th:only-of-type {\n        vertical-align: middle;\n    }\n\n    .dataframe tbody tr th {\n        vertical-align: top;\n    }\n\n    .dataframe thead th {\n        text-align: right;\n    }\n</style>\n<table border=\"1\" class=\"dataframe\">\n  <thead>\n    <tr style=\"text-align: right;\">\n      <th></th>\n      <th>model_name</th>\n      <th>acc_train</th>\n      <th>roc_train</th>\n      <th>f1_train</th>\n      <th>mcc_train</th>\n      <th>acc_test</th>\n      <th>f1_test</th>\n      <th>roc_test</th>\n      <th>mcc_test</th>\n    </tr>\n  </thead>\n  <tbody>\n    <tr>\n      <th>0</th>\n      <td>xgb - no tuning</td>\n      <td>0.915627</td>\n      <td>0.913708</td>\n      <td>0.929677</td>\n      <td>0.824373</td>\n      <td>0.905094</td>\n      <td>0.922847</td>\n      <td>0.900386</td>\n      <td>0.799595</td>\n    </tr>\n    <tr>\n      <th>1</th>\n      <td>catboost - no tuning</td>\n      <td>0.910626</td>\n      <td>0.908597</td>\n      <td>0.925555</td>\n      <td>0.813921</td>\n      <td>0.906243</td>\n      <td>0.923891</td>\n      <td>0.901882</td>\n      <td>0.801879</td>\n    </tr>\n    <tr>\n      <th>2</th>\n      <td>cb_optimized</td>\n      <td>0.910795</td>\n      <td>0.908738</td>\n      <td>0.925682</td>\n      <td>0.814303</td>\n      <td>0.906159</td>\n      <td>0.923814</td>\n      <td>0.901770</td>\n      <td>0.801712</td>\n    </tr>\n    <tr>\n      <th>3</th>\n      <td>cb_base</td>\n      <td>0.910130</td>\n      <td>0.908096</td>\n      <td>0.925149</td>\n      <td>0.812902</td>\n      <td>0.906243</td>\n      <td>0.923891</td>\n      <td>0.901882</td>\n      <td>0.801879</td>\n    </tr>\n  </tbody>\n</table>\n</div>"
     },
     "metadata": {},
     "execution_count": 63
    }
   ],
   "source": [
    "summary_df"
   ]
  },
  {
   "cell_type": "code",
   "execution_count": 64,
   "metadata": {},
   "outputs": [],
   "source": [
    "summary_df.to_csv('model_summaries/boosting_models.csv')"
   ]
  }
 ]
}