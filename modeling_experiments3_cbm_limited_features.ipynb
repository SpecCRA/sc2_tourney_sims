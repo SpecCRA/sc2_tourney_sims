{
 "metadata": {
  "language_info": {
   "codemirror_mode": {
    "name": "ipython",
    "version": 3
   },
   "file_extension": ".py",
   "mimetype": "text/x-python",
   "name": "python",
   "nbconvert_exporter": "python",
   "pygments_lexer": "ipython3",
   "version": "3.7.7"
  },
  "orig_nbformat": 2,
  "kernelspec": {
   "name": "python3",
   "display_name": "Python 3",
   "language": "python"
  }
 },
 "nbformat": 4,
 "nbformat_minor": 2,
 "cells": [
  {
   "source": [
    "# Import Packages"
   ],
   "cell_type": "markdown",
   "metadata": {}
  },
  {
   "cell_type": "code",
   "execution_count": 15,
   "metadata": {},
   "outputs": [],
   "source": [
    "import pandas as pd\n",
    "import numpy as np\n",
    "\n",
    "from catboost import CatBoostClassifier\n",
    "from sklearn.model_selection import KFold\n",
    "\n",
    "# metrics\n",
    "from sklearn.metrics import accuracy_score, f1_score, matthews_corrcoef, roc_auc_score\n",
    "\n",
    "# train and store modeling metrics functions\n",
    "from modeling_functions.train_model_funcs import train_funcs"
   ]
  },
  {
   "cell_type": "code",
   "execution_count": 16,
   "metadata": {},
   "outputs": [],
   "source": [
    "# Random state seed\n",
    "seed = 18"
   ]
  },
  {
   "source": [
    "# Import data"
   ],
   "cell_type": "markdown",
   "metadata": {}
  },
  {
   "cell_type": "code",
   "execution_count": 17,
   "metadata": {},
   "outputs": [
    {
     "output_type": "execute_result",
     "data": {
      "text/plain": [
       "   match_id  period_id  pla_id  plb_id  score_a  score_b race_a race_b  \\\n",
       "0    204283        168     422    2102        3        1      Z      P   \n",
       "1    204881        168     962   12662        1        0      Z      Z   \n",
       "2    204373        168      61    4551        0        2      Z      Z   \n",
       "3     24883          2     208    1218        4        2      Z      P   \n",
       "4    205013        168    1100   10298        2        1      T      Z   \n",
       "\n",
       "    comp_rat_a  comp_rat_vp_a  ...  pla_race_P  pla_race_T  pla_race_Z  \\\n",
       "0     1.362724       1.472933  ...           0           0           1   \n",
       "1 -1000.000000       0.067802  ...           0           0           1   \n",
       "2 -1000.000000   -1000.000000  ...           0           0           1   \n",
       "3 -1000.000000       0.376888  ...           0           0           1   \n",
       "4     0.975380       1.661578  ...           0           1           0   \n",
       "\n",
       "   plb_race_P  plb_race_T  plb_race_Z  pla_eff_rating  plb_eff_rating  \\\n",
       "0           1           0           0        1.472933        1.023097   \n",
       "1           0           0           1        0.155740        0.169566   \n",
       "2           0           0           1        0.121870        0.525932   \n",
       "3           1           0           0        0.376888       -0.391791   \n",
       "4           0           0           1        0.498680       -0.364031   \n",
       "\n",
       "   ratings_diff  winner  \n",
       "0      0.449836       1  \n",
       "1     -0.013826       1  \n",
       "2     -0.404062       0  \n",
       "3      0.768680       1  \n",
       "4      0.862712       1  \n",
       "\n",
       "[5 rows x 34 columns]"
      ],
      "text/html": "<div>\n<style scoped>\n    .dataframe tbody tr th:only-of-type {\n        vertical-align: middle;\n    }\n\n    .dataframe tbody tr th {\n        vertical-align: top;\n    }\n\n    .dataframe thead th {\n        text-align: right;\n    }\n</style>\n<table border=\"1\" class=\"dataframe\">\n  <thead>\n    <tr style=\"text-align: right;\">\n      <th></th>\n      <th>match_id</th>\n      <th>period_id</th>\n      <th>pla_id</th>\n      <th>plb_id</th>\n      <th>score_a</th>\n      <th>score_b</th>\n      <th>race_a</th>\n      <th>race_b</th>\n      <th>comp_rat_a</th>\n      <th>comp_rat_vp_a</th>\n      <th>...</th>\n      <th>pla_race_P</th>\n      <th>pla_race_T</th>\n      <th>pla_race_Z</th>\n      <th>plb_race_P</th>\n      <th>plb_race_T</th>\n      <th>plb_race_Z</th>\n      <th>pla_eff_rating</th>\n      <th>plb_eff_rating</th>\n      <th>ratings_diff</th>\n      <th>winner</th>\n    </tr>\n  </thead>\n  <tbody>\n    <tr>\n      <th>0</th>\n      <td>204283</td>\n      <td>168</td>\n      <td>422</td>\n      <td>2102</td>\n      <td>3</td>\n      <td>1</td>\n      <td>Z</td>\n      <td>P</td>\n      <td>1.362724</td>\n      <td>1.472933</td>\n      <td>...</td>\n      <td>0</td>\n      <td>0</td>\n      <td>1</td>\n      <td>1</td>\n      <td>0</td>\n      <td>0</td>\n      <td>1.472933</td>\n      <td>1.023097</td>\n      <td>0.449836</td>\n      <td>1</td>\n    </tr>\n    <tr>\n      <th>1</th>\n      <td>204881</td>\n      <td>168</td>\n      <td>962</td>\n      <td>12662</td>\n      <td>1</td>\n      <td>0</td>\n      <td>Z</td>\n      <td>Z</td>\n      <td>-1000.000000</td>\n      <td>0.067802</td>\n      <td>...</td>\n      <td>0</td>\n      <td>0</td>\n      <td>1</td>\n      <td>0</td>\n      <td>0</td>\n      <td>1</td>\n      <td>0.155740</td>\n      <td>0.169566</td>\n      <td>-0.013826</td>\n      <td>1</td>\n    </tr>\n    <tr>\n      <th>2</th>\n      <td>204373</td>\n      <td>168</td>\n      <td>61</td>\n      <td>4551</td>\n      <td>0</td>\n      <td>2</td>\n      <td>Z</td>\n      <td>Z</td>\n      <td>-1000.000000</td>\n      <td>-1000.000000</td>\n      <td>...</td>\n      <td>0</td>\n      <td>0</td>\n      <td>1</td>\n      <td>0</td>\n      <td>0</td>\n      <td>1</td>\n      <td>0.121870</td>\n      <td>0.525932</td>\n      <td>-0.404062</td>\n      <td>0</td>\n    </tr>\n    <tr>\n      <th>3</th>\n      <td>24883</td>\n      <td>2</td>\n      <td>208</td>\n      <td>1218</td>\n      <td>4</td>\n      <td>2</td>\n      <td>Z</td>\n      <td>P</td>\n      <td>-1000.000000</td>\n      <td>0.376888</td>\n      <td>...</td>\n      <td>0</td>\n      <td>0</td>\n      <td>1</td>\n      <td>1</td>\n      <td>0</td>\n      <td>0</td>\n      <td>0.376888</td>\n      <td>-0.391791</td>\n      <td>0.768680</td>\n      <td>1</td>\n    </tr>\n    <tr>\n      <th>4</th>\n      <td>205013</td>\n      <td>168</td>\n      <td>1100</td>\n      <td>10298</td>\n      <td>2</td>\n      <td>1</td>\n      <td>T</td>\n      <td>Z</td>\n      <td>0.975380</td>\n      <td>1.661578</td>\n      <td>...</td>\n      <td>0</td>\n      <td>1</td>\n      <td>0</td>\n      <td>0</td>\n      <td>0</td>\n      <td>1</td>\n      <td>0.498680</td>\n      <td>-0.364031</td>\n      <td>0.862712</td>\n      <td>1</td>\n    </tr>\n  </tbody>\n</table>\n<p>5 rows × 34 columns</p>\n</div>"
     },
     "metadata": {},
     "execution_count": 17
    }
   ],
   "source": [
    "train_df = pd.read_csv('data/train.csv', index_col=False)\n",
    "test_df = pd.read_csv('data/test.csv')\n",
    "\n",
    "train_df.head()"
   ]
  },
  {
   "cell_type": "code",
   "execution_count": 18,
   "metadata": {},
   "outputs": [
    {
     "output_type": "execute_result",
     "data": {
      "text/plain": [
       "   match_id  period_id  pla_id  plb_id  score_a  score_b race_a race_b  \\\n",
       "0    143772         88    4814     184        0        1      Z      T   \n",
       "1     67383         88    3166      59        0        2      P      Z   \n",
       "2    142146         88    9531    9518        2        0      T      T   \n",
       "3     67190         88    4566     590        0        1      P      P   \n",
       "4     86874         88    1148    6104        2        0      Z      T   \n",
       "\n",
       "    comp_rat_a  comp_rat_vp_a  ...  pla_race_P  pla_race_T  pla_race_Z  \\\n",
       "0     0.048085       0.135338  ...           0           0           1   \n",
       "1 -1000.000000      -0.621009  ...           1           0           0   \n",
       "2 -1000.000000      -0.477019  ...           0           1           0   \n",
       "3 -1000.000000   -3000.000000  ...           1           0           0   \n",
       "4 -1000.000000       0.059067  ...           0           0           1   \n",
       "\n",
       "   plb_race_P  plb_race_T  plb_race_Z  pla_eff_rating  plb_eff_rating  \\\n",
       "0           0           1           0        0.303145    -2000.000000   \n",
       "1           0           0           1       -0.254441    -2000.000000   \n",
       "2           0           1           0       -0.058596    -3000.000000   \n",
       "3           1           0           0    -3000.000000        0.357552   \n",
       "4           0           1           0    -2000.000000    -3000.000000   \n",
       "\n",
       "   ratings_diff  winner  \n",
       "0   2000.303145       0  \n",
       "1   1999.745559       0  \n",
       "2   2999.941404       1  \n",
       "3  -3000.357552       0  \n",
       "4   1000.000000       1  \n",
       "\n",
       "[5 rows x 34 columns]"
      ],
      "text/html": "<div>\n<style scoped>\n    .dataframe tbody tr th:only-of-type {\n        vertical-align: middle;\n    }\n\n    .dataframe tbody tr th {\n        vertical-align: top;\n    }\n\n    .dataframe thead th {\n        text-align: right;\n    }\n</style>\n<table border=\"1\" class=\"dataframe\">\n  <thead>\n    <tr style=\"text-align: right;\">\n      <th></th>\n      <th>match_id</th>\n      <th>period_id</th>\n      <th>pla_id</th>\n      <th>plb_id</th>\n      <th>score_a</th>\n      <th>score_b</th>\n      <th>race_a</th>\n      <th>race_b</th>\n      <th>comp_rat_a</th>\n      <th>comp_rat_vp_a</th>\n      <th>...</th>\n      <th>pla_race_P</th>\n      <th>pla_race_T</th>\n      <th>pla_race_Z</th>\n      <th>plb_race_P</th>\n      <th>plb_race_T</th>\n      <th>plb_race_Z</th>\n      <th>pla_eff_rating</th>\n      <th>plb_eff_rating</th>\n      <th>ratings_diff</th>\n      <th>winner</th>\n    </tr>\n  </thead>\n  <tbody>\n    <tr>\n      <th>0</th>\n      <td>143772</td>\n      <td>88</td>\n      <td>4814</td>\n      <td>184</td>\n      <td>0</td>\n      <td>1</td>\n      <td>Z</td>\n      <td>T</td>\n      <td>0.048085</td>\n      <td>0.135338</td>\n      <td>...</td>\n      <td>0</td>\n      <td>0</td>\n      <td>1</td>\n      <td>0</td>\n      <td>1</td>\n      <td>0</td>\n      <td>0.303145</td>\n      <td>-2000.000000</td>\n      <td>2000.303145</td>\n      <td>0</td>\n    </tr>\n    <tr>\n      <th>1</th>\n      <td>67383</td>\n      <td>88</td>\n      <td>3166</td>\n      <td>59</td>\n      <td>0</td>\n      <td>2</td>\n      <td>P</td>\n      <td>Z</td>\n      <td>-1000.000000</td>\n      <td>-0.621009</td>\n      <td>...</td>\n      <td>1</td>\n      <td>0</td>\n      <td>0</td>\n      <td>0</td>\n      <td>0</td>\n      <td>1</td>\n      <td>-0.254441</td>\n      <td>-2000.000000</td>\n      <td>1999.745559</td>\n      <td>0</td>\n    </tr>\n    <tr>\n      <th>2</th>\n      <td>142146</td>\n      <td>88</td>\n      <td>9531</td>\n      <td>9518</td>\n      <td>2</td>\n      <td>0</td>\n      <td>T</td>\n      <td>T</td>\n      <td>-1000.000000</td>\n      <td>-0.477019</td>\n      <td>...</td>\n      <td>0</td>\n      <td>1</td>\n      <td>0</td>\n      <td>0</td>\n      <td>1</td>\n      <td>0</td>\n      <td>-0.058596</td>\n      <td>-3000.000000</td>\n      <td>2999.941404</td>\n      <td>1</td>\n    </tr>\n    <tr>\n      <th>3</th>\n      <td>67190</td>\n      <td>88</td>\n      <td>4566</td>\n      <td>590</td>\n      <td>0</td>\n      <td>1</td>\n      <td>P</td>\n      <td>P</td>\n      <td>-1000.000000</td>\n      <td>-3000.000000</td>\n      <td>...</td>\n      <td>1</td>\n      <td>0</td>\n      <td>0</td>\n      <td>1</td>\n      <td>0</td>\n      <td>0</td>\n      <td>-3000.000000</td>\n      <td>0.357552</td>\n      <td>-3000.357552</td>\n      <td>0</td>\n    </tr>\n    <tr>\n      <th>4</th>\n      <td>86874</td>\n      <td>88</td>\n      <td>1148</td>\n      <td>6104</td>\n      <td>2</td>\n      <td>0</td>\n      <td>Z</td>\n      <td>T</td>\n      <td>-1000.000000</td>\n      <td>0.059067</td>\n      <td>...</td>\n      <td>0</td>\n      <td>0</td>\n      <td>1</td>\n      <td>0</td>\n      <td>1</td>\n      <td>0</td>\n      <td>-2000.000000</td>\n      <td>-3000.000000</td>\n      <td>1000.000000</td>\n      <td>1</td>\n    </tr>\n  </tbody>\n</table>\n<p>5 rows × 34 columns</p>\n</div>"
     },
     "metadata": {},
     "execution_count": 18
    }
   ],
   "source": [
    "test_df.head()"
   ]
  },
  {
   "source": [
    "## Preprocess data"
   ],
   "cell_type": "markdown",
   "metadata": {}
  },
  {
   "cell_type": "code",
   "execution_count": 19,
   "metadata": {},
   "outputs": [
    {
     "output_type": "execute_result",
     "data": {
      "text/plain": [
       "Index(['pla_eff_rating', 'plb_eff_rating', 'ratings_diff'], dtype='object')"
      ]
     },
     "metadata": {},
     "execution_count": 19
    }
   ],
   "source": [
    "train_df.columns[-4:-1]"
   ]
  },
  {
   "cell_type": "code",
   "execution_count": 20,
   "metadata": {},
   "outputs": [],
   "source": [
    "feature_cols = list(train_df.columns[-4:-1])\n",
    "\n",
    "x_train, x_test = train_df[feature_cols].to_numpy(),\\\n",
    "                            test_df[feature_cols].to_numpy()\n",
    "\n",
    "y_train, y_test = train_df['winner'].to_numpy(),\\\n",
    "                            test_df['winner'].to_numpy()"
   ]
  },
  {
   "cell_type": "code",
   "execution_count": 21,
   "metadata": {},
   "outputs": [
    {
     "output_type": "execute_result",
     "data": {
      "text/plain": [
       "((285422, 3), (285422,))"
      ]
     },
     "metadata": {},
     "execution_count": 21
    }
   ],
   "source": [
    "x_train.shape, y_train.shape"
   ]
  },
  {
   "cell_type": "code",
   "execution_count": 22,
   "metadata": {},
   "outputs": [
    {
     "output_type": "execute_result",
     "data": {
      "text/plain": [
       "((71355, 3), (71355,))"
      ]
     },
     "metadata": {},
     "execution_count": 22
    }
   ],
   "source": [
    "x_test.shape, y_test.shape"
   ]
  },
  {
   "source": [
    "# Modeling"
   ],
   "cell_type": "markdown",
   "metadata": {}
  },
  {
   "source": [
    "## Cross validation"
   ],
   "cell_type": "markdown",
   "metadata": {}
  },
  {
   "cell_type": "code",
   "execution_count": 23,
   "metadata": {},
   "outputs": [],
   "source": [
    "n_folds = 5\n",
    "kfold = KFold(n_splits=n_folds)"
   ]
  },
  {
   "cell_type": "code",
   "execution_count": 24,
   "metadata": {},
   "outputs": [],
   "source": [
    "cb_clf = CatBoostClassifier(task_type='GPU',\n",
    "                                random_seed=seed,\n",
    "                                verbose=False)"
   ]
  },
  {
   "cell_type": "code",
   "execution_count": 25,
   "metadata": {},
   "outputs": [],
   "source": [
    "cb_train, cb_val = train_funcs.train_and_measure(\n",
    "    cb_clf,\n",
    "    kfold,\n",
    "    'catboost - no tuning, limited features',\n",
    "    x_train,\n",
    "    y_train,\n",
    ")"
   ]
  },
  {
   "cell_type": "code",
   "execution_count": 28,
   "metadata": {},
   "outputs": [],
   "source": [
    "cb_test_preds = cb_clf.predict(x_test)\n",
    "\n",
    "cb_test_metrics = {\n",
    "    'catboost - no tuning': {\n",
    "    'acc': accuracy_score(cb_test_preds, y_test),\n",
    "    'f1': f1_score(cb_test_preds, y_test),\n",
    "    'roc': roc_auc_score(cb_test_preds, y_test),\n",
    "    'mcc': matthews_corrcoef(cb_test_preds, y_test)\n",
    "    }\n",
    "}"
   ]
  },
  {
   "cell_type": "code",
   "execution_count": 26,
   "metadata": {},
   "outputs": [
    {
     "output_type": "execute_result",
     "data": {
      "text/plain": [
       "{'catboost - no tuning, limited features': {'acc': 0.9008214155122444,\n",
       "  'roc': 0.8982343416988842,\n",
       "  'f1': 0.9173411909020392,\n",
       "  'mcc': 0.793524988417819}}"
      ]
     },
     "metadata": {},
     "execution_count": 26
    }
   ],
   "source": [
    "cb_train"
   ]
  },
  {
   "cell_type": "code",
   "execution_count": 27,
   "metadata": {},
   "outputs": [
    {
     "output_type": "execute_result",
     "data": {
      "text/plain": [
       "{'catboost - no tuning, limited features': {'acc': 0.9001198287577713,\n",
       "  'roc': 0.8973100298137204,\n",
       "  'f1': 0.9167090507477547,\n",
       "  'mcc': 0.7918620083228379}}"
      ]
     },
     "metadata": {},
     "execution_count": 27
    }
   ],
   "source": [
    "cb_val"
   ]
  },
  {
   "cell_type": "code",
   "execution_count": 29,
   "metadata": {},
   "outputs": [
    {
     "output_type": "execute_result",
     "data": {
      "text/plain": [
       "{'catboost - no tuning': {'acc': 0.898871837993133,\n",
       "  'f1': 0.917785120200524,\n",
       "  'roc': 0.8937976371633682,\n",
       "  'mcc': 0.786459306435051}}"
      ]
     },
     "metadata": {},
     "execution_count": 29
    }
   ],
   "source": [
    "cb_test_metrics"
   ]
  }
 ]
}