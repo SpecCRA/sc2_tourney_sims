{
 "metadata": {
  "language_info": {
   "codemirror_mode": {
    "name": "ipython",
    "version": 3
   },
   "file_extension": ".py",
   "mimetype": "text/x-python",
   "name": "python",
   "nbconvert_exporter": "python",
   "pygments_lexer": "ipython3",
   "version": "3.7.7"
  },
  "orig_nbformat": 2,
  "kernelspec": {
   "name": "python377jvsc74a57bd05e40a025ef4644cd2dc40bd496bd7b7a311483f7995656507029824ecfbe988e",
   "display_name": "Python 3.7.7 64-bit ('tourney_sim_project')"
  },
  "metadata": {
   "interpreter": {
    "hash": "5e40a025ef4644cd2dc40bd496bd7b7a311483f7995656507029824ecfbe988e"
   }
  }
 },
 "nbformat": 4,
 "nbformat_minor": 2,
 "cells": [
  {
   "source": [
    "# Import packages"
   ],
   "cell_type": "markdown",
   "metadata": {}
  },
  {
   "cell_type": "code",
   "execution_count": 1,
   "metadata": {},
   "outputs": [],
   "source": [
    "import pandas as pd\n",
    "import numpy as np\n",
    "\n",
    "# sklearn models\n",
    "from sklearn.linear_model import LogisticRegression\n",
    "from sklearn.svm import SVC\n",
    "\n",
    "# cross validation\n",
    "from sklearn.model_selection import KFold\n",
    "\n",
    "# metrics\n",
    "from sklearn.metrics import accuracy_score, f1_score, matthews_corrcoef, roc_auc_score\n",
    "\n",
    "# model training function\n",
    "from modeling_functions.train_model_funcs import train_funcs"
   ]
  },
  {
   "source": [
    "# Setup"
   ],
   "cell_type": "markdown",
   "metadata": {}
  },
  {
   "cell_type": "code",
   "execution_count": 2,
   "metadata": {},
   "outputs": [],
   "source": [
    "# Random state\n",
    "seed = 18\n",
    "\n",
    "# modeling metrics storage\n",
    "model_acc = dict()"
   ]
  },
  {
   "source": [
    "## Helper Functions"
   ],
   "cell_type": "markdown",
   "metadata": {}
  },
  {
   "cell_type": "code",
   "execution_count": 3,
   "metadata": {},
   "outputs": [],
   "source": [
    "def calc_mean(array):\n",
    "    return np.mean(array)"
   ]
  },
  {
   "cell_type": "code",
   "execution_count": 4,
   "metadata": {},
   "outputs": [],
   "source": [
    "def train_model(model, cv, model_name, x_train, y_train):\n",
    "    train_scores = dict()\n",
    "    val_scores = dict()\n",
    "\n",
    "    train_acc_scores = list()\n",
    "    train_roc_scores = list()\n",
    "    train_mcc_scores = list()\n",
    "    train_f1_scores = list()\n",
    "\n",
    "    acc_scores = list()\n",
    "    roc_scores = list()\n",
    "    mcc_scores = list()\n",
    "    f1_scores = list()\n",
    "\n",
    "    # cross validation\n",
    "    for train, test in cv.split(x_train, y_train):\n",
    "        model.fit(x_train[train], y_train[train])\n",
    "\n",
    "        # predict on validation set\n",
    "        train_preds = model.predict(x_train[train])\n",
    "        preds = model.predict(x_train[test])\n",
    "\n",
    "        # store metrics\n",
    "        train_acc = accuracy_score(train_preds, y_train[train])\n",
    "        train_acc_scores.append(train_acc)\n",
    "        val_acc = accuracy_score(preds, y_train[test])\n",
    "        acc_scores.append(val_acc)\n",
    "\n",
    "        train_f1 = f1_score(train_preds, y_train[train])\n",
    "        train_f1_scores.append(train_f1)\n",
    "        val_f1 = f1_score(preds, y_train[test])\n",
    "        f1_scores.append(val_f1)\n",
    "\n",
    "        train_roc = roc_auc_score(train_preds, y_train[train])\n",
    "        train_roc_scores.append(train_roc)\n",
    "        val_roc = roc_auc_score(preds, y_train[test])\n",
    "        roc_scores.append(val_roc)\n",
    "\n",
    "        train_mcc = matthews_corrcoef(train_preds, y_train[train])\n",
    "        train_mcc_scores.append(train_mcc)\n",
    "        mcc = matthews_corrcoef(preds, y_train[test])\n",
    "        mcc_scores.append(mcc)\n",
    "\n",
    "    # metrics\n",
    "    train_scores[model_name] = {\n",
    "        'acc': calc_mean(train_acc_scores),\n",
    "        'roc': calc_mean(train_roc_scores),\n",
    "        'f1': calc_mean(train_f1_scores),\n",
    "        'mcc': calc_mean(train_mcc_scores)\n",
    "    }\n",
    "\n",
    "    val_scores[model_name] = {\n",
    "        'acc': calc_mean(acc_scores),\n",
    "        'roc': calc_mean(roc_scores),\n",
    "        'f1': calc_mean(f1_scores),\n",
    "        'mcc': calc_mean(mcc_scores)\n",
    "    }\n",
    "    \n",
    "    \n",
    "    return train_scores, val_scores"
   ]
  },
  {
   "source": [
    "## Load Data"
   ],
   "cell_type": "markdown",
   "metadata": {}
  },
  {
   "cell_type": "code",
   "execution_count": 5,
   "metadata": {},
   "outputs": [],
   "source": [
    "train_df = pd.read_csv('data/train.csv', index_col=False)\n",
    "test_df = pd.read_csv('data/test.csv')"
   ]
  },
  {
   "cell_type": "code",
   "execution_count": 6,
   "metadata": {},
   "outputs": [
    {
     "output_type": "execute_result",
     "data": {
      "text/plain": [
       "   match_id  period_id  pla_id  plb_id  score_a  score_b race_a race_b  \\\n",
       "0    204283        168     422    2102        3        1      Z      P   \n",
       "1    204881        168     962   12662        1        0      Z      Z   \n",
       "2    204373        168      61    4551        0        2      Z      Z   \n",
       "3     24883          2     208    1218        4        2      Z      P   \n",
       "4    205013        168    1100   10298        2        1      T      Z   \n",
       "\n",
       "    comp_rat_a  comp_rat_vp_a  ...  pla_race_P  pla_race_T  pla_race_Z  \\\n",
       "0     1.362724       1.472933  ...           0           0           1   \n",
       "1 -1000.000000       0.067802  ...           0           0           1   \n",
       "2 -1000.000000   -1000.000000  ...           0           0           1   \n",
       "3 -1000.000000       0.376888  ...           0           0           1   \n",
       "4     0.975380       1.661578  ...           0           1           0   \n",
       "\n",
       "   plb_race_P  plb_race_T  plb_race_Z  pla_eff_rating  plb_eff_rating  \\\n",
       "0           1           0           0        1.472933        1.023097   \n",
       "1           0           0           1        0.155740        0.169566   \n",
       "2           0           0           1        0.121870        0.525932   \n",
       "3           1           0           0        0.376888       -0.391791   \n",
       "4           0           0           1        0.498680       -0.364031   \n",
       "\n",
       "   ratings_diff  winner  \n",
       "0      0.449836       1  \n",
       "1     -0.013826       1  \n",
       "2     -0.404062       0  \n",
       "3      0.768680       1  \n",
       "4      0.862712       1  \n",
       "\n",
       "[5 rows x 34 columns]"
      ],
      "text/html": "<div>\n<style scoped>\n    .dataframe tbody tr th:only-of-type {\n        vertical-align: middle;\n    }\n\n    .dataframe tbody tr th {\n        vertical-align: top;\n    }\n\n    .dataframe thead th {\n        text-align: right;\n    }\n</style>\n<table border=\"1\" class=\"dataframe\">\n  <thead>\n    <tr style=\"text-align: right;\">\n      <th></th>\n      <th>match_id</th>\n      <th>period_id</th>\n      <th>pla_id</th>\n      <th>plb_id</th>\n      <th>score_a</th>\n      <th>score_b</th>\n      <th>race_a</th>\n      <th>race_b</th>\n      <th>comp_rat_a</th>\n      <th>comp_rat_vp_a</th>\n      <th>...</th>\n      <th>pla_race_P</th>\n      <th>pla_race_T</th>\n      <th>pla_race_Z</th>\n      <th>plb_race_P</th>\n      <th>plb_race_T</th>\n      <th>plb_race_Z</th>\n      <th>pla_eff_rating</th>\n      <th>plb_eff_rating</th>\n      <th>ratings_diff</th>\n      <th>winner</th>\n    </tr>\n  </thead>\n  <tbody>\n    <tr>\n      <th>0</th>\n      <td>204283</td>\n      <td>168</td>\n      <td>422</td>\n      <td>2102</td>\n      <td>3</td>\n      <td>1</td>\n      <td>Z</td>\n      <td>P</td>\n      <td>1.362724</td>\n      <td>1.472933</td>\n      <td>...</td>\n      <td>0</td>\n      <td>0</td>\n      <td>1</td>\n      <td>1</td>\n      <td>0</td>\n      <td>0</td>\n      <td>1.472933</td>\n      <td>1.023097</td>\n      <td>0.449836</td>\n      <td>1</td>\n    </tr>\n    <tr>\n      <th>1</th>\n      <td>204881</td>\n      <td>168</td>\n      <td>962</td>\n      <td>12662</td>\n      <td>1</td>\n      <td>0</td>\n      <td>Z</td>\n      <td>Z</td>\n      <td>-1000.000000</td>\n      <td>0.067802</td>\n      <td>...</td>\n      <td>0</td>\n      <td>0</td>\n      <td>1</td>\n      <td>0</td>\n      <td>0</td>\n      <td>1</td>\n      <td>0.155740</td>\n      <td>0.169566</td>\n      <td>-0.013826</td>\n      <td>1</td>\n    </tr>\n    <tr>\n      <th>2</th>\n      <td>204373</td>\n      <td>168</td>\n      <td>61</td>\n      <td>4551</td>\n      <td>0</td>\n      <td>2</td>\n      <td>Z</td>\n      <td>Z</td>\n      <td>-1000.000000</td>\n      <td>-1000.000000</td>\n      <td>...</td>\n      <td>0</td>\n      <td>0</td>\n      <td>1</td>\n      <td>0</td>\n      <td>0</td>\n      <td>1</td>\n      <td>0.121870</td>\n      <td>0.525932</td>\n      <td>-0.404062</td>\n      <td>0</td>\n    </tr>\n    <tr>\n      <th>3</th>\n      <td>24883</td>\n      <td>2</td>\n      <td>208</td>\n      <td>1218</td>\n      <td>4</td>\n      <td>2</td>\n      <td>Z</td>\n      <td>P</td>\n      <td>-1000.000000</td>\n      <td>0.376888</td>\n      <td>...</td>\n      <td>0</td>\n      <td>0</td>\n      <td>1</td>\n      <td>1</td>\n      <td>0</td>\n      <td>0</td>\n      <td>0.376888</td>\n      <td>-0.391791</td>\n      <td>0.768680</td>\n      <td>1</td>\n    </tr>\n    <tr>\n      <th>4</th>\n      <td>205013</td>\n      <td>168</td>\n      <td>1100</td>\n      <td>10298</td>\n      <td>2</td>\n      <td>1</td>\n      <td>T</td>\n      <td>Z</td>\n      <td>0.975380</td>\n      <td>1.661578</td>\n      <td>...</td>\n      <td>0</td>\n      <td>1</td>\n      <td>0</td>\n      <td>0</td>\n      <td>0</td>\n      <td>1</td>\n      <td>0.498680</td>\n      <td>-0.364031</td>\n      <td>0.862712</td>\n      <td>1</td>\n    </tr>\n  </tbody>\n</table>\n<p>5 rows × 34 columns</p>\n</div>"
     },
     "metadata": {},
     "execution_count": 6
    }
   ],
   "source": [
    "train_df.head()"
   ]
  },
  {
   "cell_type": "code",
   "execution_count": 7,
   "metadata": {},
   "outputs": [
    {
     "output_type": "execute_result",
     "data": {
      "text/plain": [
       "   match_id  period_id  pla_id  plb_id  score_a  score_b race_a race_b  \\\n",
       "0    143772         88    4814     184        0        1      Z      T   \n",
       "1     67383         88    3166      59        0        2      P      Z   \n",
       "2    142146         88    9531    9518        2        0      T      T   \n",
       "3     67190         88    4566     590        0        1      P      P   \n",
       "4     86874         88    1148    6104        2        0      Z      T   \n",
       "\n",
       "    comp_rat_a  comp_rat_vp_a  ...  pla_race_P  pla_race_T  pla_race_Z  \\\n",
       "0     0.048085       0.135338  ...           0           0           1   \n",
       "1 -1000.000000      -0.621009  ...           1           0           0   \n",
       "2 -1000.000000      -0.477019  ...           0           1           0   \n",
       "3 -1000.000000   -3000.000000  ...           1           0           0   \n",
       "4 -1000.000000       0.059067  ...           0           0           1   \n",
       "\n",
       "   plb_race_P  plb_race_T  plb_race_Z  pla_eff_rating  plb_eff_rating  \\\n",
       "0           0           1           0        0.303145    -2000.000000   \n",
       "1           0           0           1       -0.254441    -2000.000000   \n",
       "2           0           1           0       -0.058596    -3000.000000   \n",
       "3           1           0           0    -3000.000000        0.357552   \n",
       "4           0           1           0    -2000.000000    -3000.000000   \n",
       "\n",
       "   ratings_diff  winner  \n",
       "0   2000.303145       0  \n",
       "1   1999.745559       0  \n",
       "2   2999.941404       1  \n",
       "3  -3000.357552       0  \n",
       "4   1000.000000       1  \n",
       "\n",
       "[5 rows x 34 columns]"
      ],
      "text/html": "<div>\n<style scoped>\n    .dataframe tbody tr th:only-of-type {\n        vertical-align: middle;\n    }\n\n    .dataframe tbody tr th {\n        vertical-align: top;\n    }\n\n    .dataframe thead th {\n        text-align: right;\n    }\n</style>\n<table border=\"1\" class=\"dataframe\">\n  <thead>\n    <tr style=\"text-align: right;\">\n      <th></th>\n      <th>match_id</th>\n      <th>period_id</th>\n      <th>pla_id</th>\n      <th>plb_id</th>\n      <th>score_a</th>\n      <th>score_b</th>\n      <th>race_a</th>\n      <th>race_b</th>\n      <th>comp_rat_a</th>\n      <th>comp_rat_vp_a</th>\n      <th>...</th>\n      <th>pla_race_P</th>\n      <th>pla_race_T</th>\n      <th>pla_race_Z</th>\n      <th>plb_race_P</th>\n      <th>plb_race_T</th>\n      <th>plb_race_Z</th>\n      <th>pla_eff_rating</th>\n      <th>plb_eff_rating</th>\n      <th>ratings_diff</th>\n      <th>winner</th>\n    </tr>\n  </thead>\n  <tbody>\n    <tr>\n      <th>0</th>\n      <td>143772</td>\n      <td>88</td>\n      <td>4814</td>\n      <td>184</td>\n      <td>0</td>\n      <td>1</td>\n      <td>Z</td>\n      <td>T</td>\n      <td>0.048085</td>\n      <td>0.135338</td>\n      <td>...</td>\n      <td>0</td>\n      <td>0</td>\n      <td>1</td>\n      <td>0</td>\n      <td>1</td>\n      <td>0</td>\n      <td>0.303145</td>\n      <td>-2000.000000</td>\n      <td>2000.303145</td>\n      <td>0</td>\n    </tr>\n    <tr>\n      <th>1</th>\n      <td>67383</td>\n      <td>88</td>\n      <td>3166</td>\n      <td>59</td>\n      <td>0</td>\n      <td>2</td>\n      <td>P</td>\n      <td>Z</td>\n      <td>-1000.000000</td>\n      <td>-0.621009</td>\n      <td>...</td>\n      <td>1</td>\n      <td>0</td>\n      <td>0</td>\n      <td>0</td>\n      <td>0</td>\n      <td>1</td>\n      <td>-0.254441</td>\n      <td>-2000.000000</td>\n      <td>1999.745559</td>\n      <td>0</td>\n    </tr>\n    <tr>\n      <th>2</th>\n      <td>142146</td>\n      <td>88</td>\n      <td>9531</td>\n      <td>9518</td>\n      <td>2</td>\n      <td>0</td>\n      <td>T</td>\n      <td>T</td>\n      <td>-1000.000000</td>\n      <td>-0.477019</td>\n      <td>...</td>\n      <td>0</td>\n      <td>1</td>\n      <td>0</td>\n      <td>0</td>\n      <td>1</td>\n      <td>0</td>\n      <td>-0.058596</td>\n      <td>-3000.000000</td>\n      <td>2999.941404</td>\n      <td>1</td>\n    </tr>\n    <tr>\n      <th>3</th>\n      <td>67190</td>\n      <td>88</td>\n      <td>4566</td>\n      <td>590</td>\n      <td>0</td>\n      <td>1</td>\n      <td>P</td>\n      <td>P</td>\n      <td>-1000.000000</td>\n      <td>-3000.000000</td>\n      <td>...</td>\n      <td>1</td>\n      <td>0</td>\n      <td>0</td>\n      <td>1</td>\n      <td>0</td>\n      <td>0</td>\n      <td>-3000.000000</td>\n      <td>0.357552</td>\n      <td>-3000.357552</td>\n      <td>0</td>\n    </tr>\n    <tr>\n      <th>4</th>\n      <td>86874</td>\n      <td>88</td>\n      <td>1148</td>\n      <td>6104</td>\n      <td>2</td>\n      <td>0</td>\n      <td>Z</td>\n      <td>T</td>\n      <td>-1000.000000</td>\n      <td>0.059067</td>\n      <td>...</td>\n      <td>0</td>\n      <td>0</td>\n      <td>1</td>\n      <td>0</td>\n      <td>1</td>\n      <td>0</td>\n      <td>-2000.000000</td>\n      <td>-3000.000000</td>\n      <td>1000.000000</td>\n      <td>1</td>\n    </tr>\n  </tbody>\n</table>\n<p>5 rows × 34 columns</p>\n</div>"
     },
     "metadata": {},
     "execution_count": 7
    }
   ],
   "source": [
    "test_df.head()"
   ]
  },
  {
   "cell_type": "code",
   "execution_count": 8,
   "metadata": {},
   "outputs": [
    {
     "output_type": "execute_result",
     "data": {
      "text/plain": [
       "Index(['match_id', 'period_id', 'pla_id', 'plb_id', 'score_a', 'score_b',\n",
       "       'race_a', 'race_b', 'comp_rat_a', 'comp_rat_vp_a', 'comp_rat_vt_a',\n",
       "       'comp_rat_vz_a', 'position_a', 'position_vp_a', 'position_vt_a',\n",
       "       'position_vz_a', 'comp_rat_b', 'comp_rat_vp_b', 'comp_rat_vt_b',\n",
       "       'comp_rat_vz_b', 'position_b', 'position_vp_b', 'position_vt_b',\n",
       "       'position_vz_b', 'pla_race_P', 'pla_race_T', 'pla_race_Z', 'plb_race_P',\n",
       "       'plb_race_T', 'plb_race_Z', 'pla_eff_rating', 'plb_eff_rating',\n",
       "       'ratings_diff', 'winner'],\n",
       "      dtype='object')"
      ]
     },
     "metadata": {},
     "execution_count": 8
    }
   ],
   "source": [
    "train_df.columns"
   ]
  },
  {
   "source": [
    "# Cross validation"
   ],
   "cell_type": "markdown",
   "metadata": {}
  },
  {
   "cell_type": "code",
   "execution_count": 9,
   "metadata": {},
   "outputs": [],
   "source": [
    "n_folds = 5\n",
    "kfold = KFold(n_splits=n_folds)"
   ]
  },
  {
   "source": [
    "# Set up modeling set"
   ],
   "cell_type": "markdown",
   "metadata": {}
  },
  {
   "cell_type": "code",
   "execution_count": 10,
   "metadata": {},
   "outputs": [],
   "source": [
    "feature_cols = list(train_df.columns[8:-1])\n",
    "feature_cols\n",
    "x_train, x_test = train_df[feature_cols].to_numpy(),\\\n",
    "                            test_df[feature_cols].to_numpy()\n",
    "\n",
    "y_train, y_test = train_df['winner'].to_numpy(),\\\n",
    "                            test_df['winner'].to_numpy()"
   ]
  },
  {
   "cell_type": "code",
   "execution_count": 11,
   "metadata": {},
   "outputs": [
    {
     "output_type": "execute_result",
     "data": {
      "text/plain": [
       "         comp_rat_a  comp_rat_vp_a  comp_rat_vt_a  comp_rat_vz_a  position_a  \\\n",
       "0          1.362724       1.472933       1.946583       0.668656          24   \n",
       "1      -1000.000000       0.067802   -1000.000000       0.155740         153   \n",
       "2      -1000.000000   -1000.000000      -0.614312       0.121870         179   \n",
       "3      -1000.000000       0.376888   -1000.000000   -1000.000000          13   \n",
       "4          0.975380       1.661578       0.765881       0.498680         142   \n",
       "...             ...            ...            ...            ...         ...   \n",
       "285417 -1000.000000   -3000.000000   -1000.000000   -2000.000000         294   \n",
       "285418 -1000.000000   -3000.000000   -1000.000000   -1000.000000         989   \n",
       "285419 -1000.000000   -3000.000000      -0.052159       0.088179        1266   \n",
       "285420 -1000.000000   -3000.000000   -3000.000000       0.444421         255   \n",
       "285421     0.077438      -0.570711       0.378991       0.424032         500   \n",
       "\n",
       "        position_vp_a  position_vt_a  position_vz_a   comp_rat_b  \\\n",
       "0                  16             24             32     0.729621   \n",
       "1                 157            135            171 -1000.000000   \n",
       "2                 175            151            219 -1000.000000   \n",
       "3                  13             12             13 -1000.000000   \n",
       "4                 164            144            119 -1000.000000   \n",
       "...               ...            ...            ...          ...   \n",
       "285417            271            415            264 -1000.000000   \n",
       "285418            850            760           1187 -1000.000000   \n",
       "285419           1390            801           1264     0.173264   \n",
       "285420            437            235            221 -1000.000000   \n",
       "285421            483            447            589 -1000.000000   \n",
       "\n",
       "        comp_rat_vp_b  ...  position_vz_b  pla_race_P  pla_race_T  pla_race_Z  \\\n",
       "0            0.576785  ...             69           0           0           1   \n",
       "1        -1000.000000  ...            837           0           0           1   \n",
       "2        -1000.000000  ...            607           0           0           1   \n",
       "3        -1000.000000  ...             59           0           0           1   \n",
       "4        -2000.000000  ...           1368           0           1           0   \n",
       "...               ...  ...            ...         ...         ...         ...   \n",
       "285417   -2000.000000  ...            102           0           1           0   \n",
       "285418       0.773754  ...            674           0           1           0   \n",
       "285419       0.425079  ...           1262           0           1           0   \n",
       "285420      -0.372412  ...            270           1           0           0   \n",
       "285421   -3000.000000  ...            417           0           0           1   \n",
       "\n",
       "        plb_race_P  plb_race_T  plb_race_Z  pla_eff_rating  plb_eff_rating  \\\n",
       "0                1           0           0        1.472933        1.023097   \n",
       "1                0           0           1        0.155740        0.169566   \n",
       "2                0           0           1        0.121870        0.525932   \n",
       "3                1           0           0        0.376888       -0.391791   \n",
       "4                0           0           1        0.498680       -0.364031   \n",
       "...            ...         ...         ...             ...             ...   \n",
       "285417           1           0           0    -3000.000000    -2000.000000   \n",
       "285418           1           0           0    -3000.000000    -2000.000000   \n",
       "285419           1           0           0    -3000.000000       -0.169868   \n",
       "285420           0           0           1        0.444421       -0.372412   \n",
       "285421           1           0           0       -0.570711        0.282596   \n",
       "\n",
       "        ratings_diff  \n",
       "0           0.449836  \n",
       "1          -0.013826  \n",
       "2          -0.404062  \n",
       "3           0.768680  \n",
       "4           0.862712  \n",
       "...              ...  \n",
       "285417  -1000.000000  \n",
       "285418  -1000.000000  \n",
       "285419  -2999.830132  \n",
       "285420      0.816832  \n",
       "285421     -0.853307  \n",
       "\n",
       "[285422 rows x 25 columns]"
      ],
      "text/html": "<div>\n<style scoped>\n    .dataframe tbody tr th:only-of-type {\n        vertical-align: middle;\n    }\n\n    .dataframe tbody tr th {\n        vertical-align: top;\n    }\n\n    .dataframe thead th {\n        text-align: right;\n    }\n</style>\n<table border=\"1\" class=\"dataframe\">\n  <thead>\n    <tr style=\"text-align: right;\">\n      <th></th>\n      <th>comp_rat_a</th>\n      <th>comp_rat_vp_a</th>\n      <th>comp_rat_vt_a</th>\n      <th>comp_rat_vz_a</th>\n      <th>position_a</th>\n      <th>position_vp_a</th>\n      <th>position_vt_a</th>\n      <th>position_vz_a</th>\n      <th>comp_rat_b</th>\n      <th>comp_rat_vp_b</th>\n      <th>...</th>\n      <th>position_vz_b</th>\n      <th>pla_race_P</th>\n      <th>pla_race_T</th>\n      <th>pla_race_Z</th>\n      <th>plb_race_P</th>\n      <th>plb_race_T</th>\n      <th>plb_race_Z</th>\n      <th>pla_eff_rating</th>\n      <th>plb_eff_rating</th>\n      <th>ratings_diff</th>\n    </tr>\n  </thead>\n  <tbody>\n    <tr>\n      <th>0</th>\n      <td>1.362724</td>\n      <td>1.472933</td>\n      <td>1.946583</td>\n      <td>0.668656</td>\n      <td>24</td>\n      <td>16</td>\n      <td>24</td>\n      <td>32</td>\n      <td>0.729621</td>\n      <td>0.576785</td>\n      <td>...</td>\n      <td>69</td>\n      <td>0</td>\n      <td>0</td>\n      <td>1</td>\n      <td>1</td>\n      <td>0</td>\n      <td>0</td>\n      <td>1.472933</td>\n      <td>1.023097</td>\n      <td>0.449836</td>\n    </tr>\n    <tr>\n      <th>1</th>\n      <td>-1000.000000</td>\n      <td>0.067802</td>\n      <td>-1000.000000</td>\n      <td>0.155740</td>\n      <td>153</td>\n      <td>157</td>\n      <td>135</td>\n      <td>171</td>\n      <td>-1000.000000</td>\n      <td>-1000.000000</td>\n      <td>...</td>\n      <td>837</td>\n      <td>0</td>\n      <td>0</td>\n      <td>1</td>\n      <td>0</td>\n      <td>0</td>\n      <td>1</td>\n      <td>0.155740</td>\n      <td>0.169566</td>\n      <td>-0.013826</td>\n    </tr>\n    <tr>\n      <th>2</th>\n      <td>-1000.000000</td>\n      <td>-1000.000000</td>\n      <td>-0.614312</td>\n      <td>0.121870</td>\n      <td>179</td>\n      <td>175</td>\n      <td>151</td>\n      <td>219</td>\n      <td>-1000.000000</td>\n      <td>-1000.000000</td>\n      <td>...</td>\n      <td>607</td>\n      <td>0</td>\n      <td>0</td>\n      <td>1</td>\n      <td>0</td>\n      <td>0</td>\n      <td>1</td>\n      <td>0.121870</td>\n      <td>0.525932</td>\n      <td>-0.404062</td>\n    </tr>\n    <tr>\n      <th>3</th>\n      <td>-1000.000000</td>\n      <td>0.376888</td>\n      <td>-1000.000000</td>\n      <td>-1000.000000</td>\n      <td>13</td>\n      <td>13</td>\n      <td>12</td>\n      <td>13</td>\n      <td>-1000.000000</td>\n      <td>-1000.000000</td>\n      <td>...</td>\n      <td>59</td>\n      <td>0</td>\n      <td>0</td>\n      <td>1</td>\n      <td>1</td>\n      <td>0</td>\n      <td>0</td>\n      <td>0.376888</td>\n      <td>-0.391791</td>\n      <td>0.768680</td>\n    </tr>\n    <tr>\n      <th>4</th>\n      <td>0.975380</td>\n      <td>1.661578</td>\n      <td>0.765881</td>\n      <td>0.498680</td>\n      <td>142</td>\n      <td>164</td>\n      <td>144</td>\n      <td>119</td>\n      <td>-1000.000000</td>\n      <td>-2000.000000</td>\n      <td>...</td>\n      <td>1368</td>\n      <td>0</td>\n      <td>1</td>\n      <td>0</td>\n      <td>0</td>\n      <td>0</td>\n      <td>1</td>\n      <td>0.498680</td>\n      <td>-0.364031</td>\n      <td>0.862712</td>\n    </tr>\n    <tr>\n      <th>...</th>\n      <td>...</td>\n      <td>...</td>\n      <td>...</td>\n      <td>...</td>\n      <td>...</td>\n      <td>...</td>\n      <td>...</td>\n      <td>...</td>\n      <td>...</td>\n      <td>...</td>\n      <td>...</td>\n      <td>...</td>\n      <td>...</td>\n      <td>...</td>\n      <td>...</td>\n      <td>...</td>\n      <td>...</td>\n      <td>...</td>\n      <td>...</td>\n      <td>...</td>\n      <td>...</td>\n    </tr>\n    <tr>\n      <th>285417</th>\n      <td>-1000.000000</td>\n      <td>-3000.000000</td>\n      <td>-1000.000000</td>\n      <td>-2000.000000</td>\n      <td>294</td>\n      <td>271</td>\n      <td>415</td>\n      <td>264</td>\n      <td>-1000.000000</td>\n      <td>-2000.000000</td>\n      <td>...</td>\n      <td>102</td>\n      <td>0</td>\n      <td>1</td>\n      <td>0</td>\n      <td>1</td>\n      <td>0</td>\n      <td>0</td>\n      <td>-3000.000000</td>\n      <td>-2000.000000</td>\n      <td>-1000.000000</td>\n    </tr>\n    <tr>\n      <th>285418</th>\n      <td>-1000.000000</td>\n      <td>-3000.000000</td>\n      <td>-1000.000000</td>\n      <td>-1000.000000</td>\n      <td>989</td>\n      <td>850</td>\n      <td>760</td>\n      <td>1187</td>\n      <td>-1000.000000</td>\n      <td>0.773754</td>\n      <td>...</td>\n      <td>674</td>\n      <td>0</td>\n      <td>1</td>\n      <td>0</td>\n      <td>1</td>\n      <td>0</td>\n      <td>0</td>\n      <td>-3000.000000</td>\n      <td>-2000.000000</td>\n      <td>-1000.000000</td>\n    </tr>\n    <tr>\n      <th>285419</th>\n      <td>-1000.000000</td>\n      <td>-3000.000000</td>\n      <td>-0.052159</td>\n      <td>0.088179</td>\n      <td>1266</td>\n      <td>1390</td>\n      <td>801</td>\n      <td>1264</td>\n      <td>0.173264</td>\n      <td>0.425079</td>\n      <td>...</td>\n      <td>1262</td>\n      <td>0</td>\n      <td>1</td>\n      <td>0</td>\n      <td>1</td>\n      <td>0</td>\n      <td>0</td>\n      <td>-3000.000000</td>\n      <td>-0.169868</td>\n      <td>-2999.830132</td>\n    </tr>\n    <tr>\n      <th>285420</th>\n      <td>-1000.000000</td>\n      <td>-3000.000000</td>\n      <td>-3000.000000</td>\n      <td>0.444421</td>\n      <td>255</td>\n      <td>437</td>\n      <td>235</td>\n      <td>221</td>\n      <td>-1000.000000</td>\n      <td>-0.372412</td>\n      <td>...</td>\n      <td>270</td>\n      <td>1</td>\n      <td>0</td>\n      <td>0</td>\n      <td>0</td>\n      <td>0</td>\n      <td>1</td>\n      <td>0.444421</td>\n      <td>-0.372412</td>\n      <td>0.816832</td>\n    </tr>\n    <tr>\n      <th>285421</th>\n      <td>0.077438</td>\n      <td>-0.570711</td>\n      <td>0.378991</td>\n      <td>0.424032</td>\n      <td>500</td>\n      <td>483</td>\n      <td>447</td>\n      <td>589</td>\n      <td>-1000.000000</td>\n      <td>-3000.000000</td>\n      <td>...</td>\n      <td>417</td>\n      <td>0</td>\n      <td>0</td>\n      <td>1</td>\n      <td>1</td>\n      <td>0</td>\n      <td>0</td>\n      <td>-0.570711</td>\n      <td>0.282596</td>\n      <td>-0.853307</td>\n    </tr>\n  </tbody>\n</table>\n<p>285422 rows × 25 columns</p>\n</div>"
     },
     "metadata": {},
     "execution_count": 11
    }
   ],
   "source": [
    "train_df[feature_cols]"
   ]
  },
  {
   "source": [
    "# Modeling"
   ],
   "cell_type": "markdown",
   "metadata": {}
  },
  {
   "source": [
    "## Logistic regression"
   ],
   "cell_type": "markdown",
   "metadata": {}
  },
  {
   "cell_type": "code",
   "execution_count": 12,
   "metadata": {},
   "outputs": [],
   "source": [
    "logit = LogisticRegression()\n"
   ]
  },
  {
   "cell_type": "code",
   "execution_count": 13,
   "metadata": {},
   "outputs": [
    {
     "output_type": "error",
     "ename": "AttributeError",
     "evalue": "'str' object has no attribute 'decode'",
     "traceback": [
      "\u001b[0;31m---------------------------------------------------------------------------\u001b[0m",
      "\u001b[0;31mAttributeError\u001b[0m                            Traceback (most recent call last)",
      "\u001b[0;32m<ipython-input-13-019112fdcd27>\u001b[0m in \u001b[0;36m<module>\u001b[0;34m\u001b[0m\n\u001b[0;32m----> 1\u001b[0;31m \u001b[0mlogit_train\u001b[0m\u001b[0;34m,\u001b[0m \u001b[0mlogit_val\u001b[0m \u001b[0;34m=\u001b[0m \u001b[0mtrain_funcs\u001b[0m\u001b[0;34m.\u001b[0m\u001b[0mtrain_and_measure\u001b[0m\u001b[0;34m(\u001b[0m\u001b[0mlogit\u001b[0m\u001b[0;34m,\u001b[0m \u001b[0mkfold\u001b[0m\u001b[0;34m,\u001b[0m \u001b[0;34m'logistic-regression'\u001b[0m\u001b[0;34m,\u001b[0m \u001b[0mx_train\u001b[0m\u001b[0;34m,\u001b[0m \u001b[0my_train\u001b[0m\u001b[0;34m)\u001b[0m\u001b[0;34m\u001b[0m\u001b[0;34m\u001b[0m\u001b[0m\n\u001b[0m",
      "\u001b[0;32m~/Documents/school_files/thesis/modeling_functions/train_model_funcs.py\u001b[0m in \u001b[0;36mtrain_and_measure\u001b[0;34m(model, cv, model_name, x_train, y_train)\u001b[0m\n\u001b[1;32m     37\u001b[0m         \u001b[0;31m# cross validation\u001b[0m\u001b[0;34m\u001b[0m\u001b[0;34m\u001b[0m\u001b[0;34m\u001b[0m\u001b[0m\n\u001b[1;32m     38\u001b[0m         \u001b[0;32mfor\u001b[0m \u001b[0mtrain\u001b[0m\u001b[0;34m,\u001b[0m \u001b[0mval\u001b[0m \u001b[0;32min\u001b[0m \u001b[0mcv\u001b[0m\u001b[0;34m.\u001b[0m\u001b[0msplit\u001b[0m\u001b[0;34m(\u001b[0m\u001b[0mx_train\u001b[0m\u001b[0;34m,\u001b[0m \u001b[0my_train\u001b[0m\u001b[0;34m)\u001b[0m\u001b[0;34m:\u001b[0m\u001b[0;34m\u001b[0m\u001b[0;34m\u001b[0m\u001b[0m\n\u001b[0;32m---> 39\u001b[0;31m             \u001b[0mmodel\u001b[0m\u001b[0;34m.\u001b[0m\u001b[0mfit\u001b[0m\u001b[0;34m(\u001b[0m\u001b[0mx_train\u001b[0m\u001b[0;34m[\u001b[0m\u001b[0mtrain\u001b[0m\u001b[0;34m]\u001b[0m\u001b[0;34m,\u001b[0m \u001b[0my_train\u001b[0m\u001b[0;34m[\u001b[0m\u001b[0mtrain\u001b[0m\u001b[0;34m]\u001b[0m\u001b[0;34m)\u001b[0m\u001b[0;34m\u001b[0m\u001b[0;34m\u001b[0m\u001b[0m\n\u001b[0m\u001b[1;32m     40\u001b[0m \u001b[0;34m\u001b[0m\u001b[0m\n\u001b[1;32m     41\u001b[0m             \u001b[0;31m# predict on validation set\u001b[0m\u001b[0;34m\u001b[0m\u001b[0;34m\u001b[0m\u001b[0;34m\u001b[0m\u001b[0m\n",
      "\u001b[0;32m~/Documents/school_files/thesis/tourney_sim_project/lib/python3.7/site-packages/sklearn/linear_model/_logistic.py\u001b[0m in \u001b[0;36mfit\u001b[0;34m(self, X, y, sample_weight)\u001b[0m\n\u001b[1;32m   1415\u001b[0m                       \u001b[0mpenalty\u001b[0m\u001b[0;34m=\u001b[0m\u001b[0mpenalty\u001b[0m\u001b[0;34m,\u001b[0m \u001b[0mmax_squared_sum\u001b[0m\u001b[0;34m=\u001b[0m\u001b[0mmax_squared_sum\u001b[0m\u001b[0;34m,\u001b[0m\u001b[0;34m\u001b[0m\u001b[0;34m\u001b[0m\u001b[0m\n\u001b[1;32m   1416\u001b[0m                       sample_weight=sample_weight)\n\u001b[0;32m-> 1417\u001b[0;31m             for class_, warm_start_coef_ in zip(classes_, warm_start_coef))\n\u001b[0m\u001b[1;32m   1418\u001b[0m \u001b[0;34m\u001b[0m\u001b[0m\n\u001b[1;32m   1419\u001b[0m         \u001b[0mfold_coefs_\u001b[0m\u001b[0;34m,\u001b[0m \u001b[0m_\u001b[0m\u001b[0;34m,\u001b[0m \u001b[0mn_iter_\u001b[0m \u001b[0;34m=\u001b[0m \u001b[0mzip\u001b[0m\u001b[0;34m(\u001b[0m\u001b[0;34m*\u001b[0m\u001b[0mfold_coefs_\u001b[0m\u001b[0;34m)\u001b[0m\u001b[0;34m\u001b[0m\u001b[0;34m\u001b[0m\u001b[0m\n",
      "\u001b[0;32m~/Documents/school_files/thesis/tourney_sim_project/lib/python3.7/site-packages/joblib/parallel.py\u001b[0m in \u001b[0;36m__call__\u001b[0;34m(self, iterable)\u001b[0m\n\u001b[1;32m   1039\u001b[0m             \u001b[0;31m# remaining jobs.\u001b[0m\u001b[0;34m\u001b[0m\u001b[0;34m\u001b[0m\u001b[0;34m\u001b[0m\u001b[0m\n\u001b[1;32m   1040\u001b[0m             \u001b[0mself\u001b[0m\u001b[0;34m.\u001b[0m\u001b[0m_iterating\u001b[0m \u001b[0;34m=\u001b[0m \u001b[0;32mFalse\u001b[0m\u001b[0;34m\u001b[0m\u001b[0;34m\u001b[0m\u001b[0m\n\u001b[0;32m-> 1041\u001b[0;31m             \u001b[0;32mif\u001b[0m \u001b[0mself\u001b[0m\u001b[0;34m.\u001b[0m\u001b[0mdispatch_one_batch\u001b[0m\u001b[0;34m(\u001b[0m\u001b[0miterator\u001b[0m\u001b[0;34m)\u001b[0m\u001b[0;34m:\u001b[0m\u001b[0;34m\u001b[0m\u001b[0;34m\u001b[0m\u001b[0m\n\u001b[0m\u001b[1;32m   1042\u001b[0m                 \u001b[0mself\u001b[0m\u001b[0;34m.\u001b[0m\u001b[0m_iterating\u001b[0m \u001b[0;34m=\u001b[0m \u001b[0mself\u001b[0m\u001b[0;34m.\u001b[0m\u001b[0m_original_iterator\u001b[0m \u001b[0;32mis\u001b[0m \u001b[0;32mnot\u001b[0m \u001b[0;32mNone\u001b[0m\u001b[0;34m\u001b[0m\u001b[0;34m\u001b[0m\u001b[0m\n\u001b[1;32m   1043\u001b[0m \u001b[0;34m\u001b[0m\u001b[0m\n",
      "\u001b[0;32m~/Documents/school_files/thesis/tourney_sim_project/lib/python3.7/site-packages/joblib/parallel.py\u001b[0m in \u001b[0;36mdispatch_one_batch\u001b[0;34m(self, iterator)\u001b[0m\n\u001b[1;32m    857\u001b[0m                 \u001b[0;32mreturn\u001b[0m \u001b[0;32mFalse\u001b[0m\u001b[0;34m\u001b[0m\u001b[0;34m\u001b[0m\u001b[0m\n\u001b[1;32m    858\u001b[0m             \u001b[0;32melse\u001b[0m\u001b[0;34m:\u001b[0m\u001b[0;34m\u001b[0m\u001b[0;34m\u001b[0m\u001b[0m\n\u001b[0;32m--> 859\u001b[0;31m                 \u001b[0mself\u001b[0m\u001b[0;34m.\u001b[0m\u001b[0m_dispatch\u001b[0m\u001b[0;34m(\u001b[0m\u001b[0mtasks\u001b[0m\u001b[0;34m)\u001b[0m\u001b[0;34m\u001b[0m\u001b[0;34m\u001b[0m\u001b[0m\n\u001b[0m\u001b[1;32m    860\u001b[0m                 \u001b[0;32mreturn\u001b[0m \u001b[0;32mTrue\u001b[0m\u001b[0;34m\u001b[0m\u001b[0;34m\u001b[0m\u001b[0m\n\u001b[1;32m    861\u001b[0m \u001b[0;34m\u001b[0m\u001b[0m\n",
      "\u001b[0;32m~/Documents/school_files/thesis/tourney_sim_project/lib/python3.7/site-packages/joblib/parallel.py\u001b[0m in \u001b[0;36m_dispatch\u001b[0;34m(self, batch)\u001b[0m\n\u001b[1;32m    775\u001b[0m         \u001b[0;32mwith\u001b[0m \u001b[0mself\u001b[0m\u001b[0;34m.\u001b[0m\u001b[0m_lock\u001b[0m\u001b[0;34m:\u001b[0m\u001b[0;34m\u001b[0m\u001b[0;34m\u001b[0m\u001b[0m\n\u001b[1;32m    776\u001b[0m             \u001b[0mjob_idx\u001b[0m \u001b[0;34m=\u001b[0m \u001b[0mlen\u001b[0m\u001b[0;34m(\u001b[0m\u001b[0mself\u001b[0m\u001b[0;34m.\u001b[0m\u001b[0m_jobs\u001b[0m\u001b[0;34m)\u001b[0m\u001b[0;34m\u001b[0m\u001b[0;34m\u001b[0m\u001b[0m\n\u001b[0;32m--> 777\u001b[0;31m             \u001b[0mjob\u001b[0m \u001b[0;34m=\u001b[0m \u001b[0mself\u001b[0m\u001b[0;34m.\u001b[0m\u001b[0m_backend\u001b[0m\u001b[0;34m.\u001b[0m\u001b[0mapply_async\u001b[0m\u001b[0;34m(\u001b[0m\u001b[0mbatch\u001b[0m\u001b[0;34m,\u001b[0m \u001b[0mcallback\u001b[0m\u001b[0;34m=\u001b[0m\u001b[0mcb\u001b[0m\u001b[0;34m)\u001b[0m\u001b[0;34m\u001b[0m\u001b[0;34m\u001b[0m\u001b[0m\n\u001b[0m\u001b[1;32m    778\u001b[0m             \u001b[0;31m# A job can complete so quickly than its callback is\u001b[0m\u001b[0;34m\u001b[0m\u001b[0;34m\u001b[0m\u001b[0;34m\u001b[0m\u001b[0m\n\u001b[1;32m    779\u001b[0m             \u001b[0;31m# called before we get here, causing self._jobs to\u001b[0m\u001b[0;34m\u001b[0m\u001b[0;34m\u001b[0m\u001b[0;34m\u001b[0m\u001b[0m\n",
      "\u001b[0;32m~/Documents/school_files/thesis/tourney_sim_project/lib/python3.7/site-packages/joblib/_parallel_backends.py\u001b[0m in \u001b[0;36mapply_async\u001b[0;34m(self, func, callback)\u001b[0m\n\u001b[1;32m    206\u001b[0m     \u001b[0;32mdef\u001b[0m \u001b[0mapply_async\u001b[0m\u001b[0;34m(\u001b[0m\u001b[0mself\u001b[0m\u001b[0;34m,\u001b[0m \u001b[0mfunc\u001b[0m\u001b[0;34m,\u001b[0m \u001b[0mcallback\u001b[0m\u001b[0;34m=\u001b[0m\u001b[0;32mNone\u001b[0m\u001b[0;34m)\u001b[0m\u001b[0;34m:\u001b[0m\u001b[0;34m\u001b[0m\u001b[0;34m\u001b[0m\u001b[0m\n\u001b[1;32m    207\u001b[0m         \u001b[0;34m\"\"\"Schedule a func to be run\"\"\"\u001b[0m\u001b[0;34m\u001b[0m\u001b[0;34m\u001b[0m\u001b[0m\n\u001b[0;32m--> 208\u001b[0;31m         \u001b[0mresult\u001b[0m \u001b[0;34m=\u001b[0m \u001b[0mImmediateResult\u001b[0m\u001b[0;34m(\u001b[0m\u001b[0mfunc\u001b[0m\u001b[0;34m)\u001b[0m\u001b[0;34m\u001b[0m\u001b[0;34m\u001b[0m\u001b[0m\n\u001b[0m\u001b[1;32m    209\u001b[0m         \u001b[0;32mif\u001b[0m \u001b[0mcallback\u001b[0m\u001b[0;34m:\u001b[0m\u001b[0;34m\u001b[0m\u001b[0;34m\u001b[0m\u001b[0m\n\u001b[1;32m    210\u001b[0m             \u001b[0mcallback\u001b[0m\u001b[0;34m(\u001b[0m\u001b[0mresult\u001b[0m\u001b[0;34m)\u001b[0m\u001b[0;34m\u001b[0m\u001b[0;34m\u001b[0m\u001b[0m\n",
      "\u001b[0;32m~/Documents/school_files/thesis/tourney_sim_project/lib/python3.7/site-packages/joblib/_parallel_backends.py\u001b[0m in \u001b[0;36m__init__\u001b[0;34m(self, batch)\u001b[0m\n\u001b[1;32m    570\u001b[0m         \u001b[0;31m# Don't delay the application, to avoid keeping the input\u001b[0m\u001b[0;34m\u001b[0m\u001b[0;34m\u001b[0m\u001b[0;34m\u001b[0m\u001b[0m\n\u001b[1;32m    571\u001b[0m         \u001b[0;31m# arguments in memory\u001b[0m\u001b[0;34m\u001b[0m\u001b[0;34m\u001b[0m\u001b[0;34m\u001b[0m\u001b[0m\n\u001b[0;32m--> 572\u001b[0;31m         \u001b[0mself\u001b[0m\u001b[0;34m.\u001b[0m\u001b[0mresults\u001b[0m \u001b[0;34m=\u001b[0m \u001b[0mbatch\u001b[0m\u001b[0;34m(\u001b[0m\u001b[0;34m)\u001b[0m\u001b[0;34m\u001b[0m\u001b[0;34m\u001b[0m\u001b[0m\n\u001b[0m\u001b[1;32m    573\u001b[0m \u001b[0;34m\u001b[0m\u001b[0m\n\u001b[1;32m    574\u001b[0m     \u001b[0;32mdef\u001b[0m \u001b[0mget\u001b[0m\u001b[0;34m(\u001b[0m\u001b[0mself\u001b[0m\u001b[0;34m)\u001b[0m\u001b[0;34m:\u001b[0m\u001b[0;34m\u001b[0m\u001b[0;34m\u001b[0m\u001b[0m\n",
      "\u001b[0;32m~/Documents/school_files/thesis/tourney_sim_project/lib/python3.7/site-packages/joblib/parallel.py\u001b[0m in \u001b[0;36m__call__\u001b[0;34m(self)\u001b[0m\n\u001b[1;32m    261\u001b[0m         \u001b[0;32mwith\u001b[0m \u001b[0mparallel_backend\u001b[0m\u001b[0;34m(\u001b[0m\u001b[0mself\u001b[0m\u001b[0;34m.\u001b[0m\u001b[0m_backend\u001b[0m\u001b[0;34m,\u001b[0m \u001b[0mn_jobs\u001b[0m\u001b[0;34m=\u001b[0m\u001b[0mself\u001b[0m\u001b[0;34m.\u001b[0m\u001b[0m_n_jobs\u001b[0m\u001b[0;34m)\u001b[0m\u001b[0;34m:\u001b[0m\u001b[0;34m\u001b[0m\u001b[0;34m\u001b[0m\u001b[0m\n\u001b[1;32m    262\u001b[0m             return [func(*args, **kwargs)\n\u001b[0;32m--> 263\u001b[0;31m                     for func, args, kwargs in self.items]\n\u001b[0m\u001b[1;32m    264\u001b[0m \u001b[0;34m\u001b[0m\u001b[0m\n\u001b[1;32m    265\u001b[0m     \u001b[0;32mdef\u001b[0m \u001b[0m__reduce__\u001b[0m\u001b[0;34m(\u001b[0m\u001b[0mself\u001b[0m\u001b[0;34m)\u001b[0m\u001b[0;34m:\u001b[0m\u001b[0;34m\u001b[0m\u001b[0;34m\u001b[0m\u001b[0m\n",
      "\u001b[0;32m~/Documents/school_files/thesis/tourney_sim_project/lib/python3.7/site-packages/joblib/parallel.py\u001b[0m in \u001b[0;36m<listcomp>\u001b[0;34m(.0)\u001b[0m\n\u001b[1;32m    261\u001b[0m         \u001b[0;32mwith\u001b[0m \u001b[0mparallel_backend\u001b[0m\u001b[0;34m(\u001b[0m\u001b[0mself\u001b[0m\u001b[0;34m.\u001b[0m\u001b[0m_backend\u001b[0m\u001b[0;34m,\u001b[0m \u001b[0mn_jobs\u001b[0m\u001b[0;34m=\u001b[0m\u001b[0mself\u001b[0m\u001b[0;34m.\u001b[0m\u001b[0m_n_jobs\u001b[0m\u001b[0;34m)\u001b[0m\u001b[0;34m:\u001b[0m\u001b[0;34m\u001b[0m\u001b[0;34m\u001b[0m\u001b[0m\n\u001b[1;32m    262\u001b[0m             return [func(*args, **kwargs)\n\u001b[0;32m--> 263\u001b[0;31m                     for func, args, kwargs in self.items]\n\u001b[0m\u001b[1;32m    264\u001b[0m \u001b[0;34m\u001b[0m\u001b[0m\n\u001b[1;32m    265\u001b[0m     \u001b[0;32mdef\u001b[0m \u001b[0m__reduce__\u001b[0m\u001b[0;34m(\u001b[0m\u001b[0mself\u001b[0m\u001b[0;34m)\u001b[0m\u001b[0;34m:\u001b[0m\u001b[0;34m\u001b[0m\u001b[0;34m\u001b[0m\u001b[0m\n",
      "\u001b[0;32m~/Documents/school_files/thesis/tourney_sim_project/lib/python3.7/site-packages/sklearn/linear_model/_logistic.py\u001b[0m in \u001b[0;36m_logistic_regression_path\u001b[0;34m(X, y, pos_class, Cs, fit_intercept, max_iter, tol, verbose, solver, coef, class_weight, dual, penalty, intercept_scaling, multi_class, random_state, check_input, max_squared_sum, sample_weight, l1_ratio)\u001b[0m\n\u001b[1;32m    762\u001b[0m             n_iter_i = _check_optimize_result(\n\u001b[1;32m    763\u001b[0m                 \u001b[0msolver\u001b[0m\u001b[0;34m,\u001b[0m \u001b[0mopt_res\u001b[0m\u001b[0;34m,\u001b[0m \u001b[0mmax_iter\u001b[0m\u001b[0;34m,\u001b[0m\u001b[0;34m\u001b[0m\u001b[0;34m\u001b[0m\u001b[0m\n\u001b[0;32m--> 764\u001b[0;31m                 extra_warning_msg=_LOGISTIC_SOLVER_CONVERGENCE_MSG)\n\u001b[0m\u001b[1;32m    765\u001b[0m             \u001b[0mw0\u001b[0m\u001b[0;34m,\u001b[0m \u001b[0mloss\u001b[0m \u001b[0;34m=\u001b[0m \u001b[0mopt_res\u001b[0m\u001b[0;34m.\u001b[0m\u001b[0mx\u001b[0m\u001b[0;34m,\u001b[0m \u001b[0mopt_res\u001b[0m\u001b[0;34m.\u001b[0m\u001b[0mfun\u001b[0m\u001b[0;34m\u001b[0m\u001b[0;34m\u001b[0m\u001b[0m\n\u001b[1;32m    766\u001b[0m         \u001b[0;32melif\u001b[0m \u001b[0msolver\u001b[0m \u001b[0;34m==\u001b[0m \u001b[0;34m'newton-cg'\u001b[0m\u001b[0;34m:\u001b[0m\u001b[0;34m\u001b[0m\u001b[0;34m\u001b[0m\u001b[0m\n",
      "\u001b[0;32m~/Documents/school_files/thesis/tourney_sim_project/lib/python3.7/site-packages/sklearn/utils/optimize.py\u001b[0m in \u001b[0;36m_check_optimize_result\u001b[0;34m(solver, result, max_iter, extra_warning_msg)\u001b[0m\n\u001b[1;32m    241\u001b[0m                 \u001b[0;34m\"    https://scikit-learn.org/stable/modules/\"\u001b[0m\u001b[0;34m\u001b[0m\u001b[0;34m\u001b[0m\u001b[0m\n\u001b[1;32m    242\u001b[0m                 \u001b[0;34m\"preprocessing.html\"\u001b[0m\u001b[0;34m\u001b[0m\u001b[0;34m\u001b[0m\u001b[0m\n\u001b[0;32m--> 243\u001b[0;31m             ).format(solver, result.status, result.message.decode(\"latin1\"))\n\u001b[0m\u001b[1;32m    244\u001b[0m             \u001b[0;32mif\u001b[0m \u001b[0mextra_warning_msg\u001b[0m \u001b[0;32mis\u001b[0m \u001b[0;32mnot\u001b[0m \u001b[0;32mNone\u001b[0m\u001b[0;34m:\u001b[0m\u001b[0;34m\u001b[0m\u001b[0;34m\u001b[0m\u001b[0m\n\u001b[1;32m    245\u001b[0m                 \u001b[0mwarning_msg\u001b[0m \u001b[0;34m+=\u001b[0m \u001b[0;34m\"\\n\"\u001b[0m \u001b[0;34m+\u001b[0m \u001b[0mextra_warning_msg\u001b[0m\u001b[0;34m\u001b[0m\u001b[0;34m\u001b[0m\u001b[0m\n",
      "\u001b[0;31mAttributeError\u001b[0m: 'str' object has no attribute 'decode'"
     ]
    }
   ],
   "source": [
    "logit_train, logit_val = train_funcs.train_and_measure(logit, kfold, 'logistic-regression', x_train, y_train)"
   ]
  },
  {
   "cell_type": "code",
   "execution_count": 19,
   "metadata": {},
   "outputs": [
    {
     "output_type": "execute_result",
     "data": {
      "text/plain": [
       "{'logistic-regression': {'acc': 0.7563086272954787,\n",
       "  'roc': 0.751052498100214,\n",
       "  'f1': 0.805576971115792,\n",
       "  'mcc': 0.48539725959199564}}"
      ]
     },
     "metadata": {},
     "execution_count": 19
    }
   ],
   "source": [
    "logit_train"
   ]
  },
  {
   "cell_type": "code",
   "execution_count": 20,
   "metadata": {},
   "outputs": [
    {
     "output_type": "execute_result",
     "data": {
      "text/plain": [
       "{'logistic-regression': {'acc': 0.7560633206244936,\n",
       "  'roc': 0.7504599851647251,\n",
       "  'f1': 0.8051498982239895,\n",
       "  'mcc': 0.4845663133201489}}"
      ]
     },
     "metadata": {},
     "execution_count": 20
    }
   ],
   "source": [
    "logit_val"
   ]
  },
  {
   "cell_type": "code",
   "execution_count": null,
   "metadata": {},
   "outputs": [],
   "source": [
    "logit.fit(x_train, y_train)\n",
    "logit_preds = logit.predict(x_test)"
   ]
  },
  {
   "cell_type": "code",
   "execution_count": null,
   "metadata": {},
   "outputs": [],
   "source": [
    "logit_test = {\n",
    "    'logit - no tuning': {\n",
    "    'acc': accuracy_score(logit_preds, y_test),\n",
    "    'f1': f1_score(logit_preds, y_test),\n",
    "    'roc': roc_auc_score(logit_preds, y_test),\n",
    "    'mcc': matthews_corrcoef(logit_preds, y_test)\n",
    "    }\n",
    "}"
   ]
  },
  {
   "source": [
    "## SVM"
   ],
   "cell_type": "markdown",
   "metadata": {}
  },
  {
   "cell_type": "code",
   "execution_count": 62,
   "metadata": {},
   "outputs": [],
   "source": [
    "svm = SVC(random_state=seed)\n",
    "svm_train, svm_val = train_funcs.train_and_measure(svm, kfold, 'svm - no tuning', x_train, y_train)"
   ]
  },
  {
   "cell_type": "code",
   "execution_count": 63,
   "metadata": {},
   "outputs": [
    {
     "output_type": "execute_result",
     "data": {
      "text/plain": [
       "{'svm - no tuning': {'acc': 0.8308450644626701,\n",
       "  'roc': 0.8404751725708565,\n",
       "  'f1': 0.8674008406715894,\n",
       "  'mcc': 0.6472133101973837}}"
      ]
     },
     "metadata": {},
     "execution_count": 63
    }
   ],
   "source": [
    "svm_train"
   ]
  },
  {
   "cell_type": "code",
   "execution_count": 64,
   "metadata": {},
   "outputs": [
    {
     "output_type": "execute_result",
     "data": {
      "text/plain": [
       "{'svm - no tuning': {'acc': 0.8295815882622257,\n",
       "  'roc': 0.838746720275249,\n",
       "  'f1': 0.8663093862748562,\n",
       "  'mcc': 0.6437911849970053}}"
      ]
     },
     "metadata": {},
     "execution_count": 64
    }
   ],
   "source": [
    "svm_val"
   ]
  },
  {
   "cell_type": "code",
   "execution_count": 65,
   "metadata": {},
   "outputs": [],
   "source": [
    "svm.fit(x_train, y_train)\n",
    "svm_preds = svm.predict(x_test)"
   ]
  },
  {
   "cell_type": "code",
   "execution_count": 66,
   "metadata": {},
   "outputs": [],
   "source": [
    "svm_test = {\n",
    "    'svm - no tuning': {\n",
    "    'acc': accuracy_score(svm_preds, y_test),\n",
    "    'f1': f1_score(svm_preds, y_test),\n",
    "    'roc': roc_auc_score(svm_preds, y_test),\n",
    "    'mcc': matthews_corrcoef(svm_preds, y_test)\n",
    "    }\n",
    "}"
   ]
  },
  {
   "cell_type": "code",
   "execution_count": 67,
   "metadata": {},
   "outputs": [
    {
     "output_type": "execute_result",
     "data": {
      "text/plain": [
       "{'svm - no tuning': {'acc': 0.8355966645645014,\n",
       "  'f1': 0.8729627584115742,\n",
       "  'roc': 0.8387858165003576,\n",
       "  'mcc': 0.6487771979232053}}"
      ]
     },
     "metadata": {},
     "execution_count": 67
    }
   ],
   "source": [
    "svm_test"
   ]
  },
  {
   "source": [
    "# Summary"
   ],
   "cell_type": "markdown",
   "metadata": {}
  },
  {
   "cell_type": "code",
   "execution_count": null,
   "metadata": {},
   "outputs": [],
   "source": [
    "# train_metrics = [xgb_train, cb_train, cb_tuned_train_metrics, cb_base_train_metrics]\n",
    "# test_metrics = [xgb_test, cb_test, cb_tuned_test_metrics, cb_base_test_metrics]"
   ]
  }
 ]
}