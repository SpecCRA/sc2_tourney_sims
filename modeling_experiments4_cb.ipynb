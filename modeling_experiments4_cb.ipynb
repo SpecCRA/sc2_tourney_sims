{
 "metadata": {
  "language_info": {
   "codemirror_mode": {
    "name": "ipython",
    "version": 3
   },
   "file_extension": ".py",
   "mimetype": "text/x-python",
   "name": "python",
   "nbconvert_exporter": "python",
   "pygments_lexer": "ipython3",
   "version": "3.7.7"
  },
  "orig_nbformat": 2,
  "kernelspec": {
   "name": "python377jvsc74a57bd05e40a025ef4644cd2dc40bd496bd7b7a311483f7995656507029824ecfbe988e",
   "display_name": "Python 3.7.7 64-bit ('tourney_sim_project')"
  },
  "metadata": {
   "interpreter": {
    "hash": "5e40a025ef4644cd2dc40bd496bd7b7a311483f7995656507029824ecfbe988e"
   }
  }
 },
 "nbformat": 4,
 "nbformat_minor": 2,
 "cells": [
  {
   "cell_type": "code",
   "execution_count": null,
   "metadata": {},
   "outputs": [],
   "source": []
  },
  {
   "source": [
    "# Modeling Experiments: CatBoost optimization"
   ],
   "cell_type": "markdown",
   "metadata": {}
  },
  {
   "source": [
    "# Setup"
   ],
   "cell_type": "markdown",
   "metadata": {}
  },
  {
   "cell_type": "code",
   "execution_count": 25,
   "metadata": {},
   "outputs": [],
   "source": [
    "import pandas as pd\n",
    "import numpy as np"
   ]
  },
  {
   "cell_type": "code",
   "execution_count": 26,
   "metadata": {},
   "outputs": [],
   "source": [
    "# scikit-learn preprocessing\n",
    "from sklearn.model_selection import train_test_split\n",
    "\n",
    "# cross validation\n",
    "from sklearn.model_selection import KFold\n",
    "\n",
    "# metrics\n",
    "from sklearn.metrics import accuracy_score, matthews_corrcoef, f1_score\n",
    "\n",
    "# Sk optimize\n",
    "from bayes_opt import BayesianOptimization\n",
    "\n",
    "# boosting libraries\n",
    "from catboost import CatBoostClassifier, Pool, cv"
   ]
  },
  {
   "cell_type": "code",
   "execution_count": 27,
   "metadata": {},
   "outputs": [],
   "source": [
    "# Random seed\n",
    "seed = 18"
   ]
  },
  {
   "source": [
    "# Data"
   ],
   "cell_type": "markdown",
   "metadata": {}
  },
  {
   "cell_type": "code",
   "execution_count": 28,
   "metadata": {},
   "outputs": [
    {
     "output_type": "execute_result",
     "data": {
      "text/plain": [
       "   match_id  period_id  pla_id  plb_id  score_a  score_b race_a race_b  \\\n",
       "0    204283        168     422    2102        3        1      Z      P   \n",
       "1    204881        168     962   12662        1        0      Z      Z   \n",
       "2    204373        168      61    4551        0        2      Z      Z   \n",
       "3     24883          2     208    1218        4        2      Z      P   \n",
       "4    205013        168    1100   10298        2        1      T      Z   \n",
       "\n",
       "    comp_rat_a  comp_rat_vp_a  ...  pla_race_T  pla_race_Z  plb_race_P  \\\n",
       "0     1.362724       1.472933  ...           0           1           1   \n",
       "1 -1000.000000       0.067802  ...           0           1           0   \n",
       "2 -1000.000000   -1000.000000  ...           0           1           0   \n",
       "3 -1000.000000       0.376888  ...           0           1           1   \n",
       "4     0.975380       1.661578  ...           1           0           0   \n",
       "\n",
       "   plb_race_R  plb_race_T  plb_race_Z  pla_eff_rating  plb_eff_rating  \\\n",
       "0           0           0           0        1.472933        1.023097   \n",
       "1           0           0           1        0.155740        0.169566   \n",
       "2           0           0           1        0.121870        0.525932   \n",
       "3           0           0           0        0.376888       -0.391791   \n",
       "4           0           0           1        0.498680    -2000.000000   \n",
       "\n",
       "   ratings_diff  winner  \n",
       "0      0.449836       1  \n",
       "1     -0.013826       1  \n",
       "2     -0.404062       0  \n",
       "3      0.768680       1  \n",
       "4   2000.498680       1  \n",
       "\n",
       "[5 rows x 36 columns]"
      ],
      "text/html": "<div>\n<style scoped>\n    .dataframe tbody tr th:only-of-type {\n        vertical-align: middle;\n    }\n\n    .dataframe tbody tr th {\n        vertical-align: top;\n    }\n\n    .dataframe thead th {\n        text-align: right;\n    }\n</style>\n<table border=\"1\" class=\"dataframe\">\n  <thead>\n    <tr style=\"text-align: right;\">\n      <th></th>\n      <th>match_id</th>\n      <th>period_id</th>\n      <th>pla_id</th>\n      <th>plb_id</th>\n      <th>score_a</th>\n      <th>score_b</th>\n      <th>race_a</th>\n      <th>race_b</th>\n      <th>comp_rat_a</th>\n      <th>comp_rat_vp_a</th>\n      <th>...</th>\n      <th>pla_race_T</th>\n      <th>pla_race_Z</th>\n      <th>plb_race_P</th>\n      <th>plb_race_R</th>\n      <th>plb_race_T</th>\n      <th>plb_race_Z</th>\n      <th>pla_eff_rating</th>\n      <th>plb_eff_rating</th>\n      <th>ratings_diff</th>\n      <th>winner</th>\n    </tr>\n  </thead>\n  <tbody>\n    <tr>\n      <th>0</th>\n      <td>204283</td>\n      <td>168</td>\n      <td>422</td>\n      <td>2102</td>\n      <td>3</td>\n      <td>1</td>\n      <td>Z</td>\n      <td>P</td>\n      <td>1.362724</td>\n      <td>1.472933</td>\n      <td>...</td>\n      <td>0</td>\n      <td>1</td>\n      <td>1</td>\n      <td>0</td>\n      <td>0</td>\n      <td>0</td>\n      <td>1.472933</td>\n      <td>1.023097</td>\n      <td>0.449836</td>\n      <td>1</td>\n    </tr>\n    <tr>\n      <th>1</th>\n      <td>204881</td>\n      <td>168</td>\n      <td>962</td>\n      <td>12662</td>\n      <td>1</td>\n      <td>0</td>\n      <td>Z</td>\n      <td>Z</td>\n      <td>-1000.000000</td>\n      <td>0.067802</td>\n      <td>...</td>\n      <td>0</td>\n      <td>1</td>\n      <td>0</td>\n      <td>0</td>\n      <td>0</td>\n      <td>1</td>\n      <td>0.155740</td>\n      <td>0.169566</td>\n      <td>-0.013826</td>\n      <td>1</td>\n    </tr>\n    <tr>\n      <th>2</th>\n      <td>204373</td>\n      <td>168</td>\n      <td>61</td>\n      <td>4551</td>\n      <td>0</td>\n      <td>2</td>\n      <td>Z</td>\n      <td>Z</td>\n      <td>-1000.000000</td>\n      <td>-1000.000000</td>\n      <td>...</td>\n      <td>0</td>\n      <td>1</td>\n      <td>0</td>\n      <td>0</td>\n      <td>0</td>\n      <td>1</td>\n      <td>0.121870</td>\n      <td>0.525932</td>\n      <td>-0.404062</td>\n      <td>0</td>\n    </tr>\n    <tr>\n      <th>3</th>\n      <td>24883</td>\n      <td>2</td>\n      <td>208</td>\n      <td>1218</td>\n      <td>4</td>\n      <td>2</td>\n      <td>Z</td>\n      <td>P</td>\n      <td>-1000.000000</td>\n      <td>0.376888</td>\n      <td>...</td>\n      <td>0</td>\n      <td>1</td>\n      <td>1</td>\n      <td>0</td>\n      <td>0</td>\n      <td>0</td>\n      <td>0.376888</td>\n      <td>-0.391791</td>\n      <td>0.768680</td>\n      <td>1</td>\n    </tr>\n    <tr>\n      <th>4</th>\n      <td>205013</td>\n      <td>168</td>\n      <td>1100</td>\n      <td>10298</td>\n      <td>2</td>\n      <td>1</td>\n      <td>T</td>\n      <td>Z</td>\n      <td>0.975380</td>\n      <td>1.661578</td>\n      <td>...</td>\n      <td>1</td>\n      <td>0</td>\n      <td>0</td>\n      <td>0</td>\n      <td>0</td>\n      <td>1</td>\n      <td>0.498680</td>\n      <td>-2000.000000</td>\n      <td>2000.498680</td>\n      <td>1</td>\n    </tr>\n  </tbody>\n</table>\n<p>5 rows × 36 columns</p>\n</div>"
     },
     "metadata": {},
     "execution_count": 28
    }
   ],
   "source": [
    "all_mu_file = 'data/final_data.csv'\n",
    "df = pd.read_csv(all_mu_file)\n",
    "df.head()"
   ]
  },
  {
   "cell_type": "code",
   "execution_count": 29,
   "metadata": {},
   "outputs": [
    {
     "output_type": "execute_result",
     "data": {
      "text/plain": [
       "Index(['match_id', 'period_id', 'pla_id', 'plb_id', 'score_a', 'score_b',\n",
       "       'race_a', 'race_b', 'comp_rat_a', 'comp_rat_vp_a', 'comp_rat_vt_a',\n",
       "       'comp_rat_vz_a', 'position_a', 'position_vp_a', 'position_vt_a',\n",
       "       'position_vz_a', 'comp_rat_b', 'comp_rat_vp_b', 'comp_rat_vt_b',\n",
       "       'comp_rat_vz_b', 'position_b', 'position_vp_b', 'position_vt_b',\n",
       "       'position_vz_b', 'pla_race_P', 'pla_race_R', 'pla_race_T', 'pla_race_Z',\n",
       "       'plb_race_P', 'plb_race_R', 'plb_race_T', 'plb_race_Z',\n",
       "       'pla_eff_rating', 'plb_eff_rating', 'ratings_diff', 'winner'],\n",
       "      dtype='object')"
      ]
     },
     "metadata": {},
     "execution_count": 29
    }
   ],
   "source": [
    "df.columns"
   ]
  },
  {
   "cell_type": "code",
   "execution_count": 30,
   "metadata": {},
   "outputs": [],
   "source": [
    "# train/test split\n",
    "# All features - races, all comp ratings, all positions\n",
    "train_cols = list(df.columns[8:-1])\n",
    "labels = df['winner'].to_numpy()\n",
    "X_train, X_test, y_train, y_test = train_test_split(\n",
    "    df[train_cols].to_numpy(),\n",
    "    labels,\n",
    "    test_size=0.2,\n",
    "    train_size=0.8,\n",
    "    shuffle=False\n",
    ")\n",
    "\n",
    "# create validation set"
   ]
  },
  {
   "source": [
    "# Model optimization"
   ],
   "cell_type": "markdown",
   "metadata": {}
  },
  {
   "cell_type": "code",
   "execution_count": 31,
   "metadata": {},
   "outputs": [
    {
     "output_type": "stream",
     "name": "stdout",
     "text": [
      "[ 58043  58044  58045 ... 290209 290210 290211] [    0     1     2 ... 58040 58041 58042]\n[     0      1      2 ... 290209 290210 290211] [ 58043  58044  58045 ... 116083 116084 116085]\n[     0      1      2 ... 290209 290210 290211] [116086 116087 116088 ... 174125 174126 174127]\n[     0      1      2 ... 290209 290210 290211] [174128 174129 174130 ... 232167 232168 232169]\n[     0      1      2 ... 232167 232168 232169] [232170 232171 232172 ... 290209 290210 290211]\n"
     ]
    }
   ],
   "source": [
    "kfold = KFold(n_splits=5, shuffle=False)\n",
    "for train_index, test_index in kfold.split(X_train, y_train):\n",
    "    print(train_index, test_index)"
   ]
  },
  {
   "cell_type": "code",
   "execution_count": 32,
   "metadata": {},
   "outputs": [],
   "source": [
    "def cb_opt(n_estimators, depth, learning_rate, max_bin,\n",
    "            subsample, num_leaves, l2_leaf_reg, model_size_reg):\n",
    "    scores = list()\n",
    "    kfold = KFold(n_splits=5, shuffle=False)\n",
    "\n",
    "    for train_index, test_index in kfold.split(X_train, y_train):\n",
    "        trainx, valx = X_train[train_index], X_train[test_index]\n",
    "        trainy, valy = y_train[train_index], y_train[test_index]\n",
    "    \n",
    "        reg = CatBoostClassifier(verbose = 0,\n",
    "                                n_estimators = int(n_estimators),\n",
    "                                learning_rate = learning_rate,\n",
    "                                subsample = subsample,\n",
    "                                l2_leaf_reg = l2_leaf_reg,\n",
    "                                max_depth = int(depth),\n",
    "                                num_leaves = int(num_leaves),\n",
    "                                random_state = seed,\n",
    "                                grow_policy = 'Lossguide',\n",
    "                                max_bin = int(max_bin),\n",
    "                                use_best_model = True,\n",
    "                                model_size_reg = model_size_reg\n",
    "                                )\n",
    "\n",
    "        reg.fit(trainx, trainy, eval_set=(valx, valy))\n",
    "        scores.append(matthews_corrcoef(valy, reg.predict(valx)))\n",
    "    \n",
    "    return np.mean(scores)"
   ]
  },
  {
   "cell_type": "code",
   "execution_count": 33,
   "metadata": {},
   "outputs": [],
   "source": [
    "pbounds = {\"n_estimators\": (150,400),\n",
    "           \"depth\": (2,7),\n",
    "           \"learning_rate\": (.01, 0.3),\n",
    "           \"subsample\":(0.6, 1.),\n",
    "           \"num_leaves\": (16,40),\n",
    "           \"max_bin\":(150,300),\n",
    "           \"l2_leaf_reg\":(0,10),\n",
    "           \"model_size_reg\": (0,10)\n",
    "}\n",
    "\n",
    "optimizer = BayesianOptimization(\n",
    "    f = cb_opt,\n",
    "    pbounds = pbounds,\n",
    "    verbose = 2,\n",
    "    random_state = seed\n",
    ")"
   ]
  },
  {
   "cell_type": "code",
   "execution_count": 34,
   "metadata": {},
   "outputs": [
    {
     "output_type": "stream",
     "name": "stdout",
     "text": [
      "|   iter    |  target   |   depth   | l2_lea... | learni... |  max_bin  | model_... | n_esti... | num_le... | subsample |\n",
      "-------------------------------------------------------------------------------------------------------------------------\n",
      "| \u001b[0m 1       \u001b[0m | \u001b[0m 0.8036  \u001b[0m | \u001b[0m 5.252   \u001b[0m | \u001b[0m 5.055   \u001b[0m | \u001b[0m 0.2648  \u001b[0m | \u001b[0m 177.3   \u001b[0m | \u001b[0m 8.522   \u001b[0m | \u001b[0m 337.5   \u001b[0m | \u001b[0m 31.99   \u001b[0m | \u001b[0m 0.9952  \u001b[0m |\n",
      "| \u001b[0m 2       \u001b[0m | \u001b[0m 0.8016  \u001b[0m | \u001b[0m 3.285   \u001b[0m | \u001b[0m 0.2831  \u001b[0m | \u001b[0m 0.1944  \u001b[0m | \u001b[0m 277.1   \u001b[0m | \u001b[0m 7.362   \u001b[0m | \u001b[0m 155.2   \u001b[0m | \u001b[0m 18.68   \u001b[0m | \u001b[0m 0.7191  \u001b[0m |\n",
      "| \u001b[95m 3       \u001b[0m | \u001b[95m 0.8051  \u001b[0m | \u001b[95m 6.199   \u001b[0m | \u001b[95m 5.789   \u001b[0m | \u001b[95m 0.1311  \u001b[0m | \u001b[95m 175.7   \u001b[0m | \u001b[95m 9.279   \u001b[0m | \u001b[95m 341.7   \u001b[0m | \u001b[95m 32.0    \u001b[0m | \u001b[95m 0.7917  \u001b[0m |\n",
      "| \u001b[0m 4       \u001b[0m | \u001b[0m 0.8026  \u001b[0m | \u001b[0m 6.475   \u001b[0m | \u001b[0m 8.372   \u001b[0m | \u001b[0m 0.2961  \u001b[0m | \u001b[0m 177.5   \u001b[0m | \u001b[0m 9.995   \u001b[0m | \u001b[0m 345.4   \u001b[0m | \u001b[0m 30.91   \u001b[0m | \u001b[0m 0.9832  \u001b[0m |\n",
      "| \u001b[0m 5       \u001b[0m | \u001b[0m 0.7145  \u001b[0m | \u001b[0m 2.624   \u001b[0m | \u001b[0m 4.016   \u001b[0m | \u001b[0m 0.03305 \u001b[0m | \u001b[0m 173.9   \u001b[0m | \u001b[0m 6.648   \u001b[0m | \u001b[0m 337.1   \u001b[0m | \u001b[0m 30.36   \u001b[0m | \u001b[0m 0.7386  \u001b[0m |\n",
      "| \u001b[0m 6       \u001b[0m | \u001b[0m 0.8048  \u001b[0m | \u001b[0m 4.563   \u001b[0m | \u001b[0m 6.078   \u001b[0m | \u001b[0m 0.2855  \u001b[0m | \u001b[0m 175.7   \u001b[0m | \u001b[0m 8.682   \u001b[0m | \u001b[0m 340.1   \u001b[0m | \u001b[0m 32.72   \u001b[0m | \u001b[0m 0.6559  \u001b[0m |\n",
      "| \u001b[95m 7       \u001b[0m | \u001b[95m 0.8057  \u001b[0m | \u001b[95m 4.405   \u001b[0m | \u001b[95m 4.664   \u001b[0m | \u001b[95m 0.1064  \u001b[0m | \u001b[95m 180.2   \u001b[0m | \u001b[95m 5.717   \u001b[0m | \u001b[95m 341.3   \u001b[0m | \u001b[95m 31.7    \u001b[0m | \u001b[95m 0.7062  \u001b[0m |\n",
      "| \u001b[0m 8       \u001b[0m | \u001b[0m 0.8041  \u001b[0m | \u001b[0m 6.718   \u001b[0m | \u001b[0m 0.7612  \u001b[0m | \u001b[0m 0.1472  \u001b[0m | \u001b[0m 179.5   \u001b[0m | \u001b[0m 9.121   \u001b[0m | \u001b[0m 343.6   \u001b[0m | \u001b[0m 29.0    \u001b[0m | \u001b[0m 0.8882  \u001b[0m |\n",
      "| \u001b[0m 9       \u001b[0m | \u001b[0m 0.8038  \u001b[0m | \u001b[0m 3.522   \u001b[0m | \u001b[0m 4.62    \u001b[0m | \u001b[0m 0.1228  \u001b[0m | \u001b[0m 178.7   \u001b[0m | \u001b[0m 7.589   \u001b[0m | \u001b[0m 344.5   \u001b[0m | \u001b[0m 28.49   \u001b[0m | \u001b[0m 0.8261  \u001b[0m |\n"
     ]
    },
    {
     "output_type": "error",
     "ename": "KeyboardInterrupt",
     "evalue": "",
     "traceback": [
      "\u001b[0;31m---------------------------------------------------------------------------\u001b[0m",
      "\u001b[0;31mKeyError\u001b[0m                                  Traceback (most recent call last)",
      "\u001b[0;32m~/Documents/school_files/thesis/tourney_sim_project/lib/python3.7/site-packages/bayes_opt/target_space.py\u001b[0m in \u001b[0;36mprobe\u001b[0;34m(self, params)\u001b[0m\n\u001b[1;32m    190\u001b[0m         \u001b[0;32mtry\u001b[0m\u001b[0;34m:\u001b[0m\u001b[0;34m\u001b[0m\u001b[0;34m\u001b[0m\u001b[0m\n\u001b[0;32m--> 191\u001b[0;31m             \u001b[0mtarget\u001b[0m \u001b[0;34m=\u001b[0m \u001b[0mself\u001b[0m\u001b[0;34m.\u001b[0m\u001b[0m_cache\u001b[0m\u001b[0;34m[\u001b[0m\u001b[0m_hashable\u001b[0m\u001b[0;34m(\u001b[0m\u001b[0mx\u001b[0m\u001b[0;34m)\u001b[0m\u001b[0;34m]\u001b[0m\u001b[0;34m\u001b[0m\u001b[0;34m\u001b[0m\u001b[0m\n\u001b[0m\u001b[1;32m    192\u001b[0m         \u001b[0;32mexcept\u001b[0m \u001b[0mKeyError\u001b[0m\u001b[0;34m:\u001b[0m\u001b[0;34m\u001b[0m\u001b[0;34m\u001b[0m\u001b[0m\n",
      "\u001b[0;31mKeyError\u001b[0m: (5.449717679956944, 1.0674982075254436, 0.05760647739570541, 176.8751785497377, 7.767877616889622, 345.1755625425326, 34.38079300776873, 0.9194879530857683)",
      "\nDuring handling of the above exception, another exception occurred:\n",
      "\u001b[0;31mKeyboardInterrupt\u001b[0m                         Traceback (most recent call last)",
      "\u001b[0;32m<ipython-input-34-5307dbe57573>\u001b[0m in \u001b[0;36m<module>\u001b[0;34m\u001b[0m\n\u001b[0;32m----> 1\u001b[0;31m \u001b[0moptimizer\u001b[0m\u001b[0;34m.\u001b[0m\u001b[0mmaximize\u001b[0m\u001b[0;34m(\u001b[0m\u001b[0minit_points\u001b[0m\u001b[0;34m=\u001b[0m\u001b[0;36m2\u001b[0m\u001b[0;34m,\u001b[0m \u001b[0mn_iter\u001b[0m\u001b[0;34m=\u001b[0m\u001b[0;36m20\u001b[0m\u001b[0;34m)\u001b[0m\u001b[0;34m\u001b[0m\u001b[0;34m\u001b[0m\u001b[0m\n\u001b[0m",
      "\u001b[0;32m~/Documents/school_files/thesis/tourney_sim_project/lib/python3.7/site-packages/bayes_opt/bayesian_optimization.py\u001b[0m in \u001b[0;36mmaximize\u001b[0;34m(self, init_points, n_iter, acq, kappa, kappa_decay, kappa_decay_delay, xi, **gp_params)\u001b[0m\n\u001b[1;32m    183\u001b[0m                 \u001b[0miteration\u001b[0m \u001b[0;34m+=\u001b[0m \u001b[0;36m1\u001b[0m\u001b[0;34m\u001b[0m\u001b[0;34m\u001b[0m\u001b[0m\n\u001b[1;32m    184\u001b[0m \u001b[0;34m\u001b[0m\u001b[0m\n\u001b[0;32m--> 185\u001b[0;31m             \u001b[0mself\u001b[0m\u001b[0;34m.\u001b[0m\u001b[0mprobe\u001b[0m\u001b[0;34m(\u001b[0m\u001b[0mx_probe\u001b[0m\u001b[0;34m,\u001b[0m \u001b[0mlazy\u001b[0m\u001b[0;34m=\u001b[0m\u001b[0;32mFalse\u001b[0m\u001b[0;34m)\u001b[0m\u001b[0;34m\u001b[0m\u001b[0;34m\u001b[0m\u001b[0m\n\u001b[0m\u001b[1;32m    186\u001b[0m \u001b[0;34m\u001b[0m\u001b[0m\n\u001b[1;32m    187\u001b[0m             \u001b[0;32mif\u001b[0m \u001b[0mself\u001b[0m\u001b[0;34m.\u001b[0m\u001b[0m_bounds_transformer\u001b[0m\u001b[0;34m:\u001b[0m\u001b[0;34m\u001b[0m\u001b[0;34m\u001b[0m\u001b[0m\n",
      "\u001b[0;32m~/Documents/school_files/thesis/tourney_sim_project/lib/python3.7/site-packages/bayes_opt/bayesian_optimization.py\u001b[0m in \u001b[0;36mprobe\u001b[0;34m(self, params, lazy)\u001b[0m\n\u001b[1;32m    114\u001b[0m             \u001b[0mself\u001b[0m\u001b[0;34m.\u001b[0m\u001b[0m_queue\u001b[0m\u001b[0;34m.\u001b[0m\u001b[0madd\u001b[0m\u001b[0;34m(\u001b[0m\u001b[0mparams\u001b[0m\u001b[0;34m)\u001b[0m\u001b[0;34m\u001b[0m\u001b[0;34m\u001b[0m\u001b[0m\n\u001b[1;32m    115\u001b[0m         \u001b[0;32melse\u001b[0m\u001b[0;34m:\u001b[0m\u001b[0;34m\u001b[0m\u001b[0;34m\u001b[0m\u001b[0m\n\u001b[0;32m--> 116\u001b[0;31m             \u001b[0mself\u001b[0m\u001b[0;34m.\u001b[0m\u001b[0m_space\u001b[0m\u001b[0;34m.\u001b[0m\u001b[0mprobe\u001b[0m\u001b[0;34m(\u001b[0m\u001b[0mparams\u001b[0m\u001b[0;34m)\u001b[0m\u001b[0;34m\u001b[0m\u001b[0;34m\u001b[0m\u001b[0m\n\u001b[0m\u001b[1;32m    117\u001b[0m             \u001b[0mself\u001b[0m\u001b[0;34m.\u001b[0m\u001b[0mdispatch\u001b[0m\u001b[0;34m(\u001b[0m\u001b[0mEvents\u001b[0m\u001b[0;34m.\u001b[0m\u001b[0mOPTIMIZATION_STEP\u001b[0m\u001b[0;34m)\u001b[0m\u001b[0;34m\u001b[0m\u001b[0;34m\u001b[0m\u001b[0m\n\u001b[1;32m    118\u001b[0m \u001b[0;34m\u001b[0m\u001b[0m\n",
      "\u001b[0;32m~/Documents/school_files/thesis/tourney_sim_project/lib/python3.7/site-packages/bayes_opt/target_space.py\u001b[0m in \u001b[0;36mprobe\u001b[0;34m(self, params)\u001b[0m\n\u001b[1;32m    192\u001b[0m         \u001b[0;32mexcept\u001b[0m \u001b[0mKeyError\u001b[0m\u001b[0;34m:\u001b[0m\u001b[0;34m\u001b[0m\u001b[0;34m\u001b[0m\u001b[0m\n\u001b[1;32m    193\u001b[0m             \u001b[0mparams\u001b[0m \u001b[0;34m=\u001b[0m \u001b[0mdict\u001b[0m\u001b[0;34m(\u001b[0m\u001b[0mzip\u001b[0m\u001b[0;34m(\u001b[0m\u001b[0mself\u001b[0m\u001b[0;34m.\u001b[0m\u001b[0m_keys\u001b[0m\u001b[0;34m,\u001b[0m \u001b[0mx\u001b[0m\u001b[0;34m)\u001b[0m\u001b[0;34m)\u001b[0m\u001b[0;34m\u001b[0m\u001b[0;34m\u001b[0m\u001b[0m\n\u001b[0;32m--> 194\u001b[0;31m             \u001b[0mtarget\u001b[0m \u001b[0;34m=\u001b[0m \u001b[0mself\u001b[0m\u001b[0;34m.\u001b[0m\u001b[0mtarget_func\u001b[0m\u001b[0;34m(\u001b[0m\u001b[0;34m**\u001b[0m\u001b[0mparams\u001b[0m\u001b[0;34m)\u001b[0m\u001b[0;34m\u001b[0m\u001b[0;34m\u001b[0m\u001b[0m\n\u001b[0m\u001b[1;32m    195\u001b[0m             \u001b[0mself\u001b[0m\u001b[0;34m.\u001b[0m\u001b[0mregister\u001b[0m\u001b[0;34m(\u001b[0m\u001b[0mx\u001b[0m\u001b[0;34m,\u001b[0m \u001b[0mtarget\u001b[0m\u001b[0;34m)\u001b[0m\u001b[0;34m\u001b[0m\u001b[0;34m\u001b[0m\u001b[0m\n\u001b[1;32m    196\u001b[0m         \u001b[0;32mreturn\u001b[0m \u001b[0mtarget\u001b[0m\u001b[0;34m\u001b[0m\u001b[0;34m\u001b[0m\u001b[0m\n",
      "\u001b[0;32m<ipython-input-32-7e470869c114>\u001b[0m in \u001b[0;36mcb_opt\u001b[0;34m(n_estimators, depth, learning_rate, max_bin, subsample, num_leaves, l2_leaf_reg, model_size_reg)\u001b[0m\n\u001b[1;32m     22\u001b[0m                                 )\n\u001b[1;32m     23\u001b[0m \u001b[0;34m\u001b[0m\u001b[0m\n\u001b[0;32m---> 24\u001b[0;31m         \u001b[0mreg\u001b[0m\u001b[0;34m.\u001b[0m\u001b[0mfit\u001b[0m\u001b[0;34m(\u001b[0m\u001b[0mtrainx\u001b[0m\u001b[0;34m,\u001b[0m \u001b[0mtrainy\u001b[0m\u001b[0;34m,\u001b[0m \u001b[0meval_set\u001b[0m\u001b[0;34m=\u001b[0m\u001b[0;34m(\u001b[0m\u001b[0mvalx\u001b[0m\u001b[0;34m,\u001b[0m \u001b[0mvaly\u001b[0m\u001b[0;34m)\u001b[0m\u001b[0;34m)\u001b[0m\u001b[0;34m\u001b[0m\u001b[0;34m\u001b[0m\u001b[0m\n\u001b[0m\u001b[1;32m     25\u001b[0m         \u001b[0mscores\u001b[0m\u001b[0;34m.\u001b[0m\u001b[0mappend\u001b[0m\u001b[0;34m(\u001b[0m\u001b[0mmatthews_corrcoef\u001b[0m\u001b[0;34m(\u001b[0m\u001b[0mvaly\u001b[0m\u001b[0;34m,\u001b[0m \u001b[0mreg\u001b[0m\u001b[0;34m.\u001b[0m\u001b[0mpredict\u001b[0m\u001b[0;34m(\u001b[0m\u001b[0mvalx\u001b[0m\u001b[0;34m)\u001b[0m\u001b[0;34m)\u001b[0m\u001b[0;34m)\u001b[0m\u001b[0;34m\u001b[0m\u001b[0;34m\u001b[0m\u001b[0m\n\u001b[1;32m     26\u001b[0m \u001b[0;34m\u001b[0m\u001b[0m\n",
      "\u001b[0;32m~/Documents/school_files/thesis/tourney_sim_project/lib/python3.7/site-packages/catboost/core.py\u001b[0m in \u001b[0;36mfit\u001b[0;34m(self, X, y, cat_features, text_features, embedding_features, sample_weight, baseline, use_best_model, eval_set, verbose, logging_level, plot, column_description, verbose_eval, metric_period, silent, early_stopping_rounds, save_snapshot, snapshot_file, snapshot_interval, init_model)\u001b[0m\n\u001b[1;32m   4539\u001b[0m         self._fit(X, y, cat_features, text_features, embedding_features, None, sample_weight, None, None, None, None, baseline, use_best_model,\n\u001b[1;32m   4540\u001b[0m                   \u001b[0meval_set\u001b[0m\u001b[0;34m,\u001b[0m \u001b[0mverbose\u001b[0m\u001b[0;34m,\u001b[0m \u001b[0mlogging_level\u001b[0m\u001b[0;34m,\u001b[0m \u001b[0mplot\u001b[0m\u001b[0;34m,\u001b[0m \u001b[0mcolumn_description\u001b[0m\u001b[0;34m,\u001b[0m \u001b[0mverbose_eval\u001b[0m\u001b[0;34m,\u001b[0m \u001b[0mmetric_period\u001b[0m\u001b[0;34m,\u001b[0m\u001b[0;34m\u001b[0m\u001b[0;34m\u001b[0m\u001b[0m\n\u001b[0;32m-> 4541\u001b[0;31m                   silent, early_stopping_rounds, save_snapshot, snapshot_file, snapshot_interval, init_model)\n\u001b[0m\u001b[1;32m   4542\u001b[0m         \u001b[0;32mreturn\u001b[0m \u001b[0mself\u001b[0m\u001b[0;34m\u001b[0m\u001b[0;34m\u001b[0m\u001b[0m\n\u001b[1;32m   4543\u001b[0m \u001b[0;34m\u001b[0m\u001b[0m\n",
      "\u001b[0;32m~/Documents/school_files/thesis/tourney_sim_project/lib/python3.7/site-packages/catboost/core.py\u001b[0m in \u001b[0;36m_fit\u001b[0;34m(self, X, y, cat_features, text_features, embedding_features, pairs, sample_weight, group_id, group_weight, subgroup_id, pairs_weight, baseline, use_best_model, eval_set, verbose, logging_level, plot, column_description, verbose_eval, metric_period, silent, early_stopping_rounds, save_snapshot, snapshot_file, snapshot_interval, init_model)\u001b[0m\n\u001b[1;32m   1921\u001b[0m                 \u001b[0mparams\u001b[0m\u001b[0;34m,\u001b[0m\u001b[0;34m\u001b[0m\u001b[0;34m\u001b[0m\u001b[0m\n\u001b[1;32m   1922\u001b[0m                 \u001b[0mallow_clear_pool\u001b[0m\u001b[0;34m,\u001b[0m\u001b[0;34m\u001b[0m\u001b[0;34m\u001b[0m\u001b[0m\n\u001b[0;32m-> 1923\u001b[0;31m                 \u001b[0mtrain_params\u001b[0m\u001b[0;34m[\u001b[0m\u001b[0;34m\"init_model\"\u001b[0m\u001b[0;34m]\u001b[0m\u001b[0;34m\u001b[0m\u001b[0;34m\u001b[0m\u001b[0m\n\u001b[0m\u001b[1;32m   1924\u001b[0m             )\n\u001b[1;32m   1925\u001b[0m \u001b[0;34m\u001b[0m\u001b[0m\n",
      "\u001b[0;32m~/Documents/school_files/thesis/tourney_sim_project/lib/python3.7/site-packages/catboost/core.py\u001b[0m in \u001b[0;36m_train\u001b[0;34m(self, train_pool, test_pool, params, allow_clear_pool, init_model)\u001b[0m\n\u001b[1;32m   1364\u001b[0m \u001b[0;34m\u001b[0m\u001b[0m\n\u001b[1;32m   1365\u001b[0m     \u001b[0;32mdef\u001b[0m \u001b[0m_train\u001b[0m\u001b[0;34m(\u001b[0m\u001b[0mself\u001b[0m\u001b[0;34m,\u001b[0m \u001b[0mtrain_pool\u001b[0m\u001b[0;34m,\u001b[0m \u001b[0mtest_pool\u001b[0m\u001b[0;34m,\u001b[0m \u001b[0mparams\u001b[0m\u001b[0;34m,\u001b[0m \u001b[0mallow_clear_pool\u001b[0m\u001b[0;34m,\u001b[0m \u001b[0minit_model\u001b[0m\u001b[0;34m)\u001b[0m\u001b[0;34m:\u001b[0m\u001b[0;34m\u001b[0m\u001b[0;34m\u001b[0m\u001b[0m\n\u001b[0;32m-> 1366\u001b[0;31m         \u001b[0mself\u001b[0m\u001b[0;34m.\u001b[0m\u001b[0m_object\u001b[0m\u001b[0;34m.\u001b[0m\u001b[0m_train\u001b[0m\u001b[0;34m(\u001b[0m\u001b[0mtrain_pool\u001b[0m\u001b[0;34m,\u001b[0m \u001b[0mtest_pool\u001b[0m\u001b[0;34m,\u001b[0m \u001b[0mparams\u001b[0m\u001b[0;34m,\u001b[0m \u001b[0mallow_clear_pool\u001b[0m\u001b[0;34m,\u001b[0m \u001b[0minit_model\u001b[0m\u001b[0;34m.\u001b[0m\u001b[0m_object\u001b[0m \u001b[0;32mif\u001b[0m \u001b[0minit_model\u001b[0m \u001b[0;32melse\u001b[0m \u001b[0;32mNone\u001b[0m\u001b[0;34m)\u001b[0m\u001b[0;34m\u001b[0m\u001b[0;34m\u001b[0m\u001b[0m\n\u001b[0m\u001b[1;32m   1367\u001b[0m         \u001b[0mself\u001b[0m\u001b[0;34m.\u001b[0m\u001b[0m_set_trained_model_attributes\u001b[0m\u001b[0;34m(\u001b[0m\u001b[0;34m)\u001b[0m\u001b[0;34m\u001b[0m\u001b[0;34m\u001b[0m\u001b[0m\n\u001b[1;32m   1368\u001b[0m \u001b[0;34m\u001b[0m\u001b[0m\n",
      "\u001b[0;32m_catboost.pyx\u001b[0m in \u001b[0;36m_catboost._CatBoost._train\u001b[0;34m()\u001b[0m\n",
      "\u001b[0;32m_catboost.pyx\u001b[0m in \u001b[0;36m_catboost._CatBoost._train\u001b[0;34m()\u001b[0m\n",
      "\u001b[0;31mKeyboardInterrupt\u001b[0m: "
     ]
    }
   ],
   "source": [
    "optimizer.maximize(init_points=2, n_iter=20)"
   ]
  },
  {
   "cell_type": "code",
   "execution_count": 11,
   "metadata": {},
   "outputs": [
    {
     "output_type": "stream",
     "name": "stdout",
     "text": [
      "{'target': 0.8064935037537369, 'params': {'depth': 5.657733006971598, 'l2_leaf_reg': 4.925480593319444, 'learning_rate': 0.06664398685001582, 'max_bin': 169.84668755669836, 'model_size_reg': 8.028688263356198, 'n_estimators': 361.7347928337158, 'num_leaves': 39.37388866843141, 'subsample': 0.7902903426213559}}\n"
     ]
    }
   ],
   "source": [
    "print(optimizer.max)"
   ]
  },
  {
   "cell_type": "code",
   "execution_count": 12,
   "metadata": {},
   "outputs": [
    {
     "output_type": "stream",
     "name": "stdout",
     "text": [
      "Iteration 0: \n\t{'target': 0.8035439571967962, 'params': {'depth': 5.251871208697958, 'l2_leaf_reg': 5.054533737348429, 'learning_rate': 0.26479442656725005, 'max_bin': 177.27603380573015, 'model_size_reg': 8.52233068674597, 'n_estimators': 337.53407152650266, 'num_leaves': 31.986440019647745, 'subsample': 0.9951581793103849}}\nIteration 1: \n\t{'target': 0.8020683949805996, 'params': {'depth': 3.2848421130191507, 'l2_leaf_reg': 0.2830592527249809, 'learning_rate': 0.19435854348369047, 'max_bin': 277.0968581229939, 'model_size_reg': 7.361746251160107, 'n_estimators': 155.2017779808726, 'num_leaves': 18.678475135960788, 'subsample': 0.7190894967423439}}\nIteration 2: \n\t{'target': 0.8052424013607087, 'params': {'depth': 6.199175205006918, 'l2_leaf_reg': 5.789489952478734, 'learning_rate': 0.13114323992843208, 'max_bin': 175.72614904357312, 'model_size_reg': 9.278530562987402, 'n_estimators': 341.68146052066163, 'num_leaves': 31.997587460301617, 'subsample': 0.791718290983581}}\nIteration 3: \n\t{'target': 0.8059619770945086, 'params': {'depth': 4.731820803081592, 'l2_leaf_reg': 4.878175046283973, 'learning_rate': 0.10047350045409781, 'max_bin': 299.8334752034734, 'model_size_reg': 7.593091137198252, 'n_estimators': 293.8732714975806, 'num_leaves': 38.64163654498263, 'subsample': 0.6693574314181654}}\nIteration 4: \n\t{'target': 0.8056090491750814, 'params': {'depth': 3.0238803492684383, 'l2_leaf_reg': 8.380914484424594, 'learning_rate': 0.20830956579297383, 'max_bin': 229.72018446351302, 'model_size_reg': 4.690447957653845, 'n_estimators': 349.2397293470153, 'num_leaves': 36.94531741486878, 'subsample': 0.954960802502297}}\nIteration 5: \n\t{'target': 0.7760640539600108, 'params': {'depth': 3.8754059713580635, 'l2_leaf_reg': 5.436901073331967, 'learning_rate': 0.041656084667216486, 'max_bin': 265.39363276552785, 'model_size_reg': 2.5598738293994803, 'n_estimators': 251.78134943050748, 'num_leaves': 37.33147647330928, 'subsample': 0.9456187585706681}}\nIteration 6: \n\t{'target': 0.8037841685651428, 'params': {'depth': 6.824515518697494, 'l2_leaf_reg': 8.030445797678741, 'learning_rate': 0.20495112170661348, 'max_bin': 196.7430571072867, 'model_size_reg': 4.961464235020673, 'n_estimators': 377.51779209237156, 'num_leaves': 39.19101303114305, 'subsample': 0.7399318983210608}}\nIteration 7: \n\t{'target': 0.782928654061845, 'params': {'depth': 2.8102270012494284, 'l2_leaf_reg': 5.638968445160679, 'learning_rate': 0.20248413261574552, 'max_bin': 291.45580715271456, 'model_size_reg': 4.425773676502599, 'n_estimators': 335.8728343871056, 'num_leaves': 39.62792363496754, 'subsample': 0.8023383222544133}}\nIteration 8: \n\t{'target': 0.7614420233824528, 'params': {'depth': 4.84878063979766, 'l2_leaf_reg': 10.0, 'learning_rate': 0.01, 'max_bin': 203.9568385246704, 'model_size_reg': 10.0, 'n_estimators': 355.68376941403216, 'num_leaves': 16.0, 'subsample': 0.6}}\nIteration 9: \n\t{'target': 0.8041552014862384, 'params': {'depth': 6.363732952321184, 'l2_leaf_reg': 6.590936474399808, 'learning_rate': 0.19398958848610054, 'max_bin': 246.89887355064667, 'model_size_reg': 4.387057682598994, 'n_estimators': 352.2986149642246, 'num_leaves': 39.95538404872289, 'subsample': 0.8582110803303986}}\nIteration 10: \n\t{'target': 0.7901310581556569, 'params': {'depth': 2.0, 'l2_leaf_reg': 9.964279468921681, 'learning_rate': 0.3, 'max_bin': 239.36533287676994, 'model_size_reg': 0.0, 'n_estimators': 332.89878425682855, 'num_leaves': 40.0, 'subsample': 1.0}}\nIteration 11: \n\t{'target': 0.802289319439048, 'params': {'depth': 6.834560642058026, 'l2_leaf_reg': 0.1540097019490179, 'learning_rate': 0.3, 'max_bin': 233.69458431934586, 'model_size_reg': 4.240637576247277, 'n_estimators': 364.4043829434456, 'num_leaves': 40.0, 'subsample': 1.0}}\nIteration 12: \n\t{'target': 0.8028182940425979, 'params': {'depth': 5.687242623885743, 'l2_leaf_reg': 8.583174050893703, 'learning_rate': 0.024429333658682714, 'max_bin': 156.79427968213315, 'model_size_reg': 6.885906227287909, 'n_estimators': 341.6060849508674, 'num_leaves': 36.81221540588169, 'subsample': 0.8945667407101643}}\nIteration 13: \n\t{'target': 0.8064935037537369, 'params': {'depth': 5.657733006971598, 'l2_leaf_reg': 4.925480593319444, 'learning_rate': 0.06664398685001582, 'max_bin': 169.84668755669836, 'model_size_reg': 8.028688263356198, 'n_estimators': 361.7347928337158, 'num_leaves': 39.37388866843141, 'subsample': 0.7902903426213559}}\nIteration 14: \n\t{'target': 0.803229715820261, 'params': {'depth': 6.215862061175193, 'l2_leaf_reg': 3.7193633618075843, 'learning_rate': 0.1927518882113966, 'max_bin': 173.2993654437999, 'model_size_reg': 2.554397463997677, 'n_estimators': 387.1879398368897, 'num_leaves': 40.0, 'subsample': 0.8392768501579051}}\nIteration 15: \n\t{'target': 0.8060385643285901, 'params': {'depth': 4.940005258926531, 'l2_leaf_reg': 2.2793663676619556, 'learning_rate': 0.05962520525369624, 'max_bin': 153.3566608307476, 'model_size_reg': 1.3879942390155808, 'n_estimators': 363.9136899410354, 'num_leaves': 22.981841960531852, 'subsample': 0.9412805246937594}}\nIteration 16: \n\t{'target': 0.7867885414781043, 'params': {'depth': 2.832089313562653, 'l2_leaf_reg': 8.291877292511776, 'learning_rate': 0.2202498707656812, 'max_bin': 152.2449591151676, 'model_size_reg': 9.34615254272997, 'n_estimators': 387.47707430507216, 'num_leaves': 24.379352134681866, 'subsample': 0.7024175178424079}}\nIteration 17: \n\t{'target': 0.7922705493759901, 'params': {'depth': 2.2163626538416406, 'l2_leaf_reg': 0.0, 'learning_rate': 0.3, 'max_bin': 161.23267662938028, 'model_size_reg': 0.0, 'n_estimators': 345.7097380199204, 'num_leaves': 16.374719223834678, 'subsample': 0.6}}\nIteration 18: \n\t{'target': 0.7904527786881121, 'params': {'depth': 7.0, 'l2_leaf_reg': 0.0, 'learning_rate': 0.01, 'max_bin': 151.40039662471955, 'model_size_reg': 0.0, 'n_estimators': 361.03734799106735, 'num_leaves': 40.0, 'subsample': 1.0}}\nIteration 19: \n\t{'target': 0.788972257197526, 'params': {'depth': 2.2566546440117743, 'l2_leaf_reg': 0.0, 'learning_rate': 0.26161097132985633, 'max_bin': 181.5116269524968, 'model_size_reg': 0.0, 'n_estimators': 370.3737863380704, 'num_leaves': 40.0, 'subsample': 0.9330446255564335}}\nIteration 20: \n\t{'target': 0.8058072132782422, 'params': {'depth': 6.832217063902131, 'l2_leaf_reg': 10.0, 'learning_rate': 0.038785299221559044, 'max_bin': 170.04087597908378, 'model_size_reg': 4.8023568804539405, 'n_estimators': 349.8378608616517, 'num_leaves': 40.0, 'subsample': 0.7104456380638622}}\nIteration 21: \n\t{'target': 0.8040428667463425, 'params': {'depth': 4.735909709297044, 'l2_leaf_reg': 9.188055477561344, 'learning_rate': 0.2967555576447237, 'max_bin': 166.8192890256156, 'model_size_reg': 7.855822726045957, 'n_estimators': 362.49897782765515, 'num_leaves': 23.672763221284775, 'subsample': 0.7326110272281862}}\n"
     ]
    }
   ],
   "source": [
    "for i, res in enumerate(optimizer.res):\n",
    "    print(f\"Iteration {i}: \\n\\t{res}\")"
   ]
  },
  {
   "cell_type": "code",
   "execution_count": 13,
   "metadata": {},
   "outputs": [],
   "source": [
    "# train on best params\n",
    "best_params = optimizer.max['params']\n",
    "# save model"
   ]
  },
  {
   "cell_type": "code",
   "execution_count": 14,
   "metadata": {},
   "outputs": [
    {
     "output_type": "execute_result",
     "data": {
      "text/plain": [
       "{'depth': 5.657733006971598,\n",
       " 'l2_leaf_reg': 4.925480593319444,\n",
       " 'learning_rate': 0.06664398685001582,\n",
       " 'max_bin': 169.84668755669836,\n",
       " 'model_size_reg': 8.028688263356198,\n",
       " 'n_estimators': 361.7347928337158,\n",
       " 'num_leaves': 39.37388866843141,\n",
       " 'subsample': 0.7902903426213559}"
      ]
     },
     "metadata": {},
     "execution_count": 14
    }
   ],
   "source": [
    "best_params"
   ]
  },
  {
   "cell_type": "code",
   "execution_count": 15,
   "metadata": {
    "tags": []
   },
   "outputs": [
    {
     "output_type": "stream",
     "name": "stdout",
     "text": [
      "0:\tlearn: 0.6089337\ttotal: 13.2ms\tremaining: 4.75s\n",
      "1:\tlearn: 0.5654776\ttotal: 24.3ms\tremaining: 4.38s\n",
      "2:\tlearn: 0.5259378\ttotal: 34.6ms\tremaining: 4.14s\n",
      "3:\tlearn: 0.4997508\ttotal: 44.7ms\tremaining: 4s\n",
      "4:\tlearn: 0.4803894\ttotal: 55.7ms\tremaining: 3.98s\n",
      "5:\tlearn: 0.4554304\ttotal: 65.8ms\tremaining: 3.9s\n",
      "6:\tlearn: 0.4365190\ttotal: 76.3ms\tremaining: 3.87s\n",
      "7:\tlearn: 0.4198127\ttotal: 86.9ms\tremaining: 3.84s\n",
      "8:\tlearn: 0.3989375\ttotal: 97ms\tremaining: 3.8s\n",
      "9:\tlearn: 0.3863608\ttotal: 107ms\tremaining: 3.78s\n",
      "10:\tlearn: 0.3749061\ttotal: 118ms\tremaining: 3.75s\n",
      "11:\tlearn: 0.3631377\ttotal: 128ms\tremaining: 3.74s\n",
      "12:\tlearn: 0.3531742\ttotal: 139ms\tremaining: 3.72s\n",
      "13:\tlearn: 0.3375717\ttotal: 149ms\tremaining: 3.7s\n",
      "14:\tlearn: 0.3234852\ttotal: 160ms\tremaining: 3.69s\n",
      "15:\tlearn: 0.3131016\ttotal: 170ms\tremaining: 3.68s\n",
      "16:\tlearn: 0.3033862\ttotal: 180ms\tremaining: 3.64s\n",
      "17:\tlearn: 0.2978418\ttotal: 190ms\tremaining: 3.63s\n",
      "18:\tlearn: 0.2941450\ttotal: 201ms\tremaining: 3.63s\n",
      "19:\tlearn: 0.2874990\ttotal: 211ms\tremaining: 3.61s\n",
      "20:\tlearn: 0.2833318\ttotal: 221ms\tremaining: 3.59s\n",
      "21:\tlearn: 0.2789463\ttotal: 230ms\tremaining: 3.55s\n",
      "22:\tlearn: 0.2758444\ttotal: 239ms\tremaining: 3.53s\n",
      "23:\tlearn: 0.2721100\ttotal: 250ms\tremaining: 3.52s\n",
      "24:\tlearn: 0.2694865\ttotal: 260ms\tremaining: 3.5s\n",
      "25:\tlearn: 0.2667049\ttotal: 269ms\tremaining: 3.47s\n",
      "26:\tlearn: 0.2647674\ttotal: 278ms\tremaining: 3.45s\n",
      "27:\tlearn: 0.2616331\ttotal: 288ms\tremaining: 3.43s\n",
      "28:\tlearn: 0.2580468\ttotal: 297ms\tremaining: 3.41s\n",
      "29:\tlearn: 0.2555517\ttotal: 307ms\tremaining: 3.39s\n",
      "30:\tlearn: 0.2541204\ttotal: 317ms\tremaining: 3.38s\n",
      "31:\tlearn: 0.2528140\ttotal: 326ms\tremaining: 3.36s\n",
      "32:\tlearn: 0.2503058\ttotal: 335ms\tremaining: 3.34s\n",
      "33:\tlearn: 0.2482038\ttotal: 345ms\tremaining: 3.33s\n",
      "34:\tlearn: 0.2472336\ttotal: 355ms\tremaining: 3.31s\n",
      "35:\tlearn: 0.2456725\ttotal: 364ms\tremaining: 3.3s\n",
      "36:\tlearn: 0.2446915\ttotal: 373ms\tremaining: 3.27s\n",
      "37:\tlearn: 0.2439532\ttotal: 382ms\tremaining: 3.26s\n",
      "38:\tlearn: 0.2428768\ttotal: 391ms\tremaining: 3.24s\n",
      "39:\tlearn: 0.2413089\ttotal: 401ms\tremaining: 3.23s\n",
      "40:\tlearn: 0.2392416\ttotal: 410ms\tremaining: 3.21s\n",
      "41:\tlearn: 0.2380662\ttotal: 420ms\tremaining: 3.2s\n",
      "42:\tlearn: 0.2365834\ttotal: 429ms\tremaining: 3.19s\n",
      "43:\tlearn: 0.2359795\ttotal: 438ms\tremaining: 3.16s\n",
      "44:\tlearn: 0.2350026\ttotal: 448ms\tremaining: 3.16s\n",
      "45:\tlearn: 0.2342554\ttotal: 458ms\tremaining: 3.14s\n",
      "46:\tlearn: 0.2327318\ttotal: 467ms\tremaining: 3.13s\n",
      "47:\tlearn: 0.2322122\ttotal: 488ms\tremaining: 3.19s\n",
      "48:\tlearn: 0.2314455\ttotal: 500ms\tremaining: 3.19s\n",
      "49:\tlearn: 0.2309735\ttotal: 509ms\tremaining: 3.18s\n",
      "50:\tlearn: 0.2304963\ttotal: 519ms\tremaining: 3.16s\n",
      "51:\tlearn: 0.2293617\ttotal: 528ms\tremaining: 3.15s\n",
      "52:\tlearn: 0.2284718\ttotal: 537ms\tremaining: 3.13s\n",
      "53:\tlearn: 0.2273895\ttotal: 547ms\tremaining: 3.12s\n",
      "54:\tlearn: 0.2270707\ttotal: 556ms\tremaining: 3.1s\n",
      "55:\tlearn: 0.2265692\ttotal: 566ms\tremaining: 3.09s\n",
      "56:\tlearn: 0.2261937\ttotal: 576ms\tremaining: 3.08s\n",
      "57:\tlearn: 0.2258785\ttotal: 586ms\tremaining: 3.07s\n",
      "58:\tlearn: 0.2255564\ttotal: 596ms\tremaining: 3.06s\n",
      "59:\tlearn: 0.2248133\ttotal: 605ms\tremaining: 3.05s\n",
      "60:\tlearn: 0.2243212\ttotal: 615ms\tremaining: 3.03s\n",
      "61:\tlearn: 0.2237928\ttotal: 624ms\tremaining: 3.02s\n",
      "62:\tlearn: 0.2236086\ttotal: 632ms\tremaining: 3s\n",
      "63:\tlearn: 0.2227316\ttotal: 642ms\tremaining: 2.99s\n",
      "64:\tlearn: 0.2224950\ttotal: 652ms\tremaining: 2.98s\n",
      "65:\tlearn: 0.2222174\ttotal: 661ms\tremaining: 2.96s\n",
      "66:\tlearn: 0.2218837\ttotal: 670ms\tremaining: 2.95s\n",
      "67:\tlearn: 0.2216534\ttotal: 679ms\tremaining: 2.93s\n",
      "68:\tlearn: 0.2213127\ttotal: 688ms\tremaining: 2.92s\n",
      "69:\tlearn: 0.2208787\ttotal: 697ms\tremaining: 2.91s\n",
      "70:\tlearn: 0.2205497\ttotal: 707ms\tremaining: 2.9s\n",
      "71:\tlearn: 0.2203428\ttotal: 716ms\tremaining: 2.88s\n",
      "72:\tlearn: 0.2202028\ttotal: 725ms\tremaining: 2.87s\n",
      "73:\tlearn: 0.2200699\ttotal: 733ms\tremaining: 2.85s\n",
      "74:\tlearn: 0.2189535\ttotal: 743ms\tremaining: 2.84s\n",
      "75:\tlearn: 0.2185930\ttotal: 753ms\tremaining: 2.83s\n",
      "76:\tlearn: 0.2181130\ttotal: 762ms\tremaining: 2.82s\n",
      "77:\tlearn: 0.2179425\ttotal: 771ms\tremaining: 2.81s\n",
      "78:\tlearn: 0.2175825\ttotal: 781ms\tremaining: 2.8s\n",
      "79:\tlearn: 0.2173539\ttotal: 790ms\tremaining: 2.79s\n",
      "80:\tlearn: 0.2169906\ttotal: 800ms\tremaining: 2.77s\n",
      "81:\tlearn: 0.2168917\ttotal: 808ms\tremaining: 2.76s\n",
      "82:\tlearn: 0.2160494\ttotal: 817ms\tremaining: 2.75s\n",
      "83:\tlearn: 0.2157140\ttotal: 825ms\tremaining: 2.73s\n",
      "84:\tlearn: 0.2152231\ttotal: 835ms\tremaining: 2.72s\n",
      "85:\tlearn: 0.2147645\ttotal: 843ms\tremaining: 2.71s\n",
      "86:\tlearn: 0.2145053\ttotal: 854ms\tremaining: 2.7s\n",
      "87:\tlearn: 0.2144083\ttotal: 863ms\tremaining: 2.69s\n",
      "88:\tlearn: 0.2140514\ttotal: 872ms\tremaining: 2.67s\n",
      "89:\tlearn: 0.2138667\ttotal: 881ms\tremaining: 2.66s\n",
      "90:\tlearn: 0.2135544\ttotal: 890ms\tremaining: 2.65s\n",
      "91:\tlearn: 0.2134619\ttotal: 899ms\tremaining: 2.64s\n",
      "92:\tlearn: 0.2131119\ttotal: 908ms\tremaining: 2.63s\n",
      "93:\tlearn: 0.2127621\ttotal: 918ms\tremaining: 2.62s\n",
      "94:\tlearn: 0.2125107\ttotal: 929ms\tremaining: 2.61s\n",
      "95:\tlearn: 0.2124020\ttotal: 938ms\tremaining: 2.6s\n",
      "96:\tlearn: 0.2122375\ttotal: 949ms\tremaining: 2.59s\n",
      "97:\tlearn: 0.2121815\ttotal: 957ms\tremaining: 2.58s\n",
      "98:\tlearn: 0.2118252\ttotal: 967ms\tremaining: 2.57s\n",
      "99:\tlearn: 0.2116506\ttotal: 977ms\tremaining: 2.56s\n",
      "100:\tlearn: 0.2114590\ttotal: 986ms\tremaining: 2.55s\n",
      "101:\tlearn: 0.2113663\ttotal: 996ms\tremaining: 2.54s\n",
      "102:\tlearn: 0.2112645\ttotal: 1s\tremaining: 2.52s\n",
      "103:\tlearn: 0.2111572\ttotal: 1.01s\tremaining: 2.52s\n",
      "104:\tlearn: 0.2110528\ttotal: 1.03s\tremaining: 2.51s\n",
      "105:\tlearn: 0.2109531\ttotal: 1.03s\tremaining: 2.5s\n",
      "106:\tlearn: 0.2107743\ttotal: 1.04s\tremaining: 2.49s\n",
      "107:\tlearn: 0.2107134\ttotal: 1.05s\tremaining: 2.48s\n",
      "108:\tlearn: 0.2104749\ttotal: 1.06s\tremaining: 2.47s\n",
      "109:\tlearn: 0.2103565\ttotal: 1.07s\tremaining: 2.46s\n",
      "110:\tlearn: 0.2101412\ttotal: 1.08s\tremaining: 2.45s\n",
      "111:\tlearn: 0.2098487\ttotal: 1.09s\tremaining: 2.44s\n",
      "112:\tlearn: 0.2097280\ttotal: 1.1s\tremaining: 2.43s\n",
      "113:\tlearn: 0.2096099\ttotal: 1.11s\tremaining: 2.42s\n",
      "114:\tlearn: 0.2095212\ttotal: 1.12s\tremaining: 2.41s\n",
      "115:\tlearn: 0.2094303\ttotal: 1.13s\tremaining: 2.4s\n",
      "116:\tlearn: 0.2092656\ttotal: 1.14s\tremaining: 2.39s\n",
      "117:\tlearn: 0.2091216\ttotal: 1.15s\tremaining: 2.38s\n",
      "118:\tlearn: 0.2090299\ttotal: 1.16s\tremaining: 2.37s\n",
      "119:\tlearn: 0.2089589\ttotal: 1.17s\tremaining: 2.35s\n",
      "120:\tlearn: 0.2089108\ttotal: 1.18s\tremaining: 2.35s\n",
      "121:\tlearn: 0.2087968\ttotal: 1.19s\tremaining: 2.33s\n",
      "122:\tlearn: 0.2087452\ttotal: 1.2s\tremaining: 2.33s\n",
      "123:\tlearn: 0.2086983\ttotal: 1.21s\tremaining: 2.32s\n",
      "124:\tlearn: 0.2085420\ttotal: 1.22s\tremaining: 2.3s\n",
      "125:\tlearn: 0.2083762\ttotal: 1.23s\tremaining: 2.3s\n",
      "126:\tlearn: 0.2082831\ttotal: 1.24s\tremaining: 2.29s\n",
      "127:\tlearn: 0.2081418\ttotal: 1.25s\tremaining: 2.28s\n",
      "128:\tlearn: 0.2080566\ttotal: 1.25s\tremaining: 2.27s\n",
      "129:\tlearn: 0.2078792\ttotal: 1.26s\tremaining: 2.26s\n",
      "130:\tlearn: 0.2077783\ttotal: 1.28s\tremaining: 2.25s\n",
      "131:\tlearn: 0.2077202\ttotal: 1.28s\tremaining: 2.24s\n",
      "132:\tlearn: 0.2075942\ttotal: 1.29s\tremaining: 2.23s\n",
      "133:\tlearn: 0.2075141\ttotal: 1.3s\tremaining: 2.22s\n",
      "134:\tlearn: 0.2074528\ttotal: 1.31s\tremaining: 2.21s\n",
      "135:\tlearn: 0.2073649\ttotal: 1.32s\tremaining: 2.2s\n",
      "136:\tlearn: 0.2073034\ttotal: 1.33s\tremaining: 2.19s\n",
      "137:\tlearn: 0.2072270\ttotal: 1.34s\tremaining: 2.18s\n",
      "138:\tlearn: 0.2071719\ttotal: 1.35s\tremaining: 2.17s\n",
      "139:\tlearn: 0.2070797\ttotal: 1.36s\tremaining: 2.16s\n",
      "140:\tlearn: 0.2069988\ttotal: 1.37s\tremaining: 2.15s\n",
      "141:\tlearn: 0.2069236\ttotal: 1.38s\tremaining: 2.14s\n",
      "142:\tlearn: 0.2068593\ttotal: 1.39s\tremaining: 2.13s\n",
      "143:\tlearn: 0.2067983\ttotal: 1.4s\tremaining: 2.12s\n",
      "144:\tlearn: 0.2067480\ttotal: 1.41s\tremaining: 2.11s\n",
      "145:\tlearn: 0.2066169\ttotal: 1.42s\tremaining: 2.1s\n",
      "146:\tlearn: 0.2065346\ttotal: 1.43s\tremaining: 2.09s\n",
      "147:\tlearn: 0.2064782\ttotal: 1.44s\tremaining: 2.08s\n",
      "148:\tlearn: 0.2063504\ttotal: 1.45s\tremaining: 2.07s\n",
      "149:\tlearn: 0.2062550\ttotal: 1.46s\tremaining: 2.06s\n",
      "150:\tlearn: 0.2061872\ttotal: 1.47s\tremaining: 2.05s\n",
      "151:\tlearn: 0.2061347\ttotal: 1.48s\tremaining: 2.04s\n",
      "152:\tlearn: 0.2060835\ttotal: 1.49s\tremaining: 2.03s\n",
      "153:\tlearn: 0.2060211\ttotal: 1.5s\tremaining: 2.02s\n",
      "154:\tlearn: 0.2059677\ttotal: 1.5s\tremaining: 2.01s\n",
      "155:\tlearn: 0.2058958\ttotal: 1.51s\tremaining: 2s\n",
      "156:\tlearn: 0.2058197\ttotal: 1.52s\tremaining: 1.99s\n",
      "157:\tlearn: 0.2057572\ttotal: 1.53s\tremaining: 1.98s\n",
      "158:\tlearn: 0.2057047\ttotal: 1.54s\tremaining: 1.97s\n",
      "159:\tlearn: 0.2055917\ttotal: 1.55s\tremaining: 1.96s\n",
      "160:\tlearn: 0.2055471\ttotal: 1.56s\tremaining: 1.95s\n",
      "161:\tlearn: 0.2054602\ttotal: 1.57s\tremaining: 1.94s\n",
      "162:\tlearn: 0.2052724\ttotal: 1.58s\tremaining: 1.93s\n",
      "163:\tlearn: 0.2052267\ttotal: 1.59s\tremaining: 1.92s\n",
      "164:\tlearn: 0.2051642\ttotal: 1.6s\tremaining: 1.91s\n",
      "165:\tlearn: 0.2050295\ttotal: 1.61s\tremaining: 1.9s\n",
      "166:\tlearn: 0.2049825\ttotal: 1.62s\tremaining: 1.89s\n",
      "167:\tlearn: 0.2049237\ttotal: 1.63s\tremaining: 1.88s\n",
      "168:\tlearn: 0.2048861\ttotal: 1.64s\tremaining: 1.87s\n",
      "169:\tlearn: 0.2048297\ttotal: 1.65s\tremaining: 1.86s\n",
      "170:\tlearn: 0.2047903\ttotal: 1.66s\tremaining: 1.85s\n",
      "171:\tlearn: 0.2047285\ttotal: 1.67s\tremaining: 1.84s\n",
      "172:\tlearn: 0.2046809\ttotal: 1.67s\tremaining: 1.83s\n",
      "173:\tlearn: 0.2046360\ttotal: 1.68s\tremaining: 1.82s\n",
      "174:\tlearn: 0.2045673\ttotal: 1.69s\tremaining: 1.81s\n",
      "175:\tlearn: 0.2044818\ttotal: 1.7s\tremaining: 1.8s\n",
      "176:\tlearn: 0.2044324\ttotal: 1.71s\tremaining: 1.79s\n",
      "177:\tlearn: 0.2043385\ttotal: 1.72s\tremaining: 1.78s\n",
      "178:\tlearn: 0.2042848\ttotal: 1.73s\tremaining: 1.77s\n",
      "179:\tlearn: 0.2042160\ttotal: 1.74s\tremaining: 1.76s\n",
      "180:\tlearn: 0.2041618\ttotal: 1.75s\tremaining: 1.75s\n",
      "181:\tlearn: 0.2041172\ttotal: 1.76s\tremaining: 1.74s\n",
      "182:\tlearn: 0.2040820\ttotal: 1.77s\tremaining: 1.73s\n",
      "183:\tlearn: 0.2039662\ttotal: 1.78s\tremaining: 1.72s\n",
      "184:\tlearn: 0.2039233\ttotal: 1.79s\tremaining: 1.71s\n",
      "185:\tlearn: 0.2038668\ttotal: 1.79s\tremaining: 1.7s\n",
      "186:\tlearn: 0.2038268\ttotal: 1.8s\tremaining: 1.69s\n",
      "187:\tlearn: 0.2037822\ttotal: 1.81s\tremaining: 1.68s\n",
      "188:\tlearn: 0.2037284\ttotal: 1.82s\tremaining: 1.67s\n",
      "189:\tlearn: 0.2036834\ttotal: 1.83s\tremaining: 1.66s\n",
      "190:\tlearn: 0.2036279\ttotal: 1.84s\tremaining: 1.65s\n",
      "191:\tlearn: 0.2035771\ttotal: 1.85s\tremaining: 1.64s\n",
      "192:\tlearn: 0.2035206\ttotal: 1.86s\tremaining: 1.63s\n",
      "193:\tlearn: 0.2034658\ttotal: 1.87s\tremaining: 1.62s\n",
      "194:\tlearn: 0.2034062\ttotal: 1.88s\tremaining: 1.61s\n",
      "195:\tlearn: 0.2033656\ttotal: 1.89s\tremaining: 1.6s\n",
      "196:\tlearn: 0.2033360\ttotal: 1.9s\tremaining: 1.59s\n",
      "197:\tlearn: 0.2032843\ttotal: 1.91s\tremaining: 1.58s\n",
      "198:\tlearn: 0.2032234\ttotal: 1.92s\tremaining: 1.57s\n",
      "199:\tlearn: 0.2031745\ttotal: 1.93s\tremaining: 1.56s\n",
      "200:\tlearn: 0.2031171\ttotal: 1.94s\tremaining: 1.55s\n",
      "201:\tlearn: 0.2030502\ttotal: 1.95s\tremaining: 1.54s\n",
      "202:\tlearn: 0.2029984\ttotal: 1.96s\tremaining: 1.53s\n",
      "203:\tlearn: 0.2029489\ttotal: 1.96s\tremaining: 1.52s\n",
      "204:\tlearn: 0.2029048\ttotal: 1.97s\tremaining: 1.51s\n",
      "205:\tlearn: 0.2028427\ttotal: 1.98s\tremaining: 1.5s\n",
      "206:\tlearn: 0.2028023\ttotal: 1.99s\tremaining: 1.49s\n",
      "207:\tlearn: 0.2027567\ttotal: 2s\tremaining: 1.48s\n",
      "208:\tlearn: 0.2027022\ttotal: 2.01s\tremaining: 1.47s\n",
      "209:\tlearn: 0.2026713\ttotal: 2.02s\tremaining: 1.46s\n",
      "210:\tlearn: 0.2026038\ttotal: 2.03s\tremaining: 1.45s\n",
      "211:\tlearn: 0.2025259\ttotal: 2.04s\tremaining: 1.45s\n",
      "212:\tlearn: 0.2024640\ttotal: 2.05s\tremaining: 1.44s\n",
      "213:\tlearn: 0.2024302\ttotal: 2.06s\tremaining: 1.43s\n",
      "214:\tlearn: 0.2023091\ttotal: 2.07s\tremaining: 1.42s\n",
      "215:\tlearn: 0.2022655\ttotal: 2.08s\tremaining: 1.41s\n",
      "216:\tlearn: 0.2021921\ttotal: 2.09s\tremaining: 1.4s\n",
      "217:\tlearn: 0.2021451\ttotal: 2.1s\tremaining: 1.39s\n",
      "218:\tlearn: 0.2020917\ttotal: 2.11s\tremaining: 1.38s\n",
      "219:\tlearn: 0.2020523\ttotal: 2.12s\tremaining: 1.37s\n",
      "220:\tlearn: 0.2019954\ttotal: 2.13s\tremaining: 1.36s\n",
      "221:\tlearn: 0.2019523\ttotal: 2.14s\tremaining: 1.35s\n",
      "222:\tlearn: 0.2019107\ttotal: 2.15s\tremaining: 1.34s\n",
      "223:\tlearn: 0.2018505\ttotal: 2.16s\tremaining: 1.33s\n",
      "224:\tlearn: 0.2018026\ttotal: 2.17s\tremaining: 1.32s\n",
      "225:\tlearn: 0.2017546\ttotal: 2.17s\tremaining: 1.31s\n",
      "226:\tlearn: 0.2017118\ttotal: 2.18s\tremaining: 1.3s\n",
      "227:\tlearn: 0.2016699\ttotal: 2.19s\tremaining: 1.29s\n",
      "228:\tlearn: 0.2016113\ttotal: 2.2s\tremaining: 1.28s\n",
      "229:\tlearn: 0.2015609\ttotal: 2.21s\tremaining: 1.27s\n",
      "230:\tlearn: 0.2015140\ttotal: 2.22s\tremaining: 1.26s\n",
      "231:\tlearn: 0.2014796\ttotal: 2.23s\tremaining: 1.25s\n",
      "232:\tlearn: 0.2014303\ttotal: 2.24s\tremaining: 1.24s\n",
      "233:\tlearn: 0.2012903\ttotal: 2.25s\tremaining: 1.23s\n",
      "234:\tlearn: 0.2012263\ttotal: 2.26s\tremaining: 1.22s\n",
      "235:\tlearn: 0.2011754\ttotal: 2.27s\tremaining: 1.21s\n",
      "236:\tlearn: 0.2011235\ttotal: 2.28s\tremaining: 1.2s\n",
      "237:\tlearn: 0.2010825\ttotal: 2.29s\tremaining: 1.19s\n",
      "238:\tlearn: 0.2010294\ttotal: 2.3s\tremaining: 1.18s\n",
      "239:\tlearn: 0.2009851\ttotal: 2.31s\tremaining: 1.17s\n",
      "240:\tlearn: 0.2009505\ttotal: 2.32s\tremaining: 1.16s\n",
      "241:\tlearn: 0.2009108\ttotal: 2.33s\tremaining: 1.15s\n",
      "242:\tlearn: 0.2008744\ttotal: 2.33s\tremaining: 1.14s\n",
      "243:\tlearn: 0.2008222\ttotal: 2.35s\tremaining: 1.13s\n",
      "244:\tlearn: 0.2007778\ttotal: 2.35s\tremaining: 1.12s\n",
      "245:\tlearn: 0.2007338\ttotal: 2.36s\tremaining: 1.11s\n",
      "246:\tlearn: 0.2006947\ttotal: 2.37s\tremaining: 1.1s\n",
      "247:\tlearn: 0.2006410\ttotal: 2.38s\tremaining: 1.09s\n",
      "248:\tlearn: 0.2005947\ttotal: 2.39s\tremaining: 1.08s\n",
      "249:\tlearn: 0.2005479\ttotal: 2.4s\tremaining: 1.07s\n",
      "250:\tlearn: 0.2005117\ttotal: 2.41s\tremaining: 1.06s\n",
      "251:\tlearn: 0.2004563\ttotal: 2.42s\tremaining: 1.05s\n",
      "252:\tlearn: 0.2004173\ttotal: 2.43s\tremaining: 1.05s\n",
      "253:\tlearn: 0.2003715\ttotal: 2.44s\tremaining: 1.04s\n",
      "254:\tlearn: 0.2003429\ttotal: 2.44s\tremaining: 1.03s\n",
      "255:\tlearn: 0.2003132\ttotal: 2.45s\tremaining: 1.02s\n",
      "256:\tlearn: 0.2002717\ttotal: 2.46s\tremaining: 1.01s\n",
      "257:\tlearn: 0.2002196\ttotal: 2.47s\tremaining: 997ms\n",
      "258:\tlearn: 0.2001908\ttotal: 2.48s\tremaining: 987ms\n",
      "259:\tlearn: 0.2001469\ttotal: 2.49s\tremaining: 978ms\n",
      "260:\tlearn: 0.2000976\ttotal: 2.5s\tremaining: 968ms\n",
      "261:\tlearn: 0.2000614\ttotal: 2.51s\tremaining: 958ms\n",
      "262:\tlearn: 0.2000287\ttotal: 2.52s\tremaining: 948ms\n",
      "263:\tlearn: 0.1999827\ttotal: 2.53s\tremaining: 938ms\n",
      "264:\tlearn: 0.1999383\ttotal: 2.54s\tremaining: 928ms\n",
      "265:\tlearn: 0.1998954\ttotal: 2.54s\tremaining: 919ms\n",
      "266:\tlearn: 0.1998276\ttotal: 2.55s\tremaining: 909ms\n",
      "267:\tlearn: 0.1997926\ttotal: 2.56s\tremaining: 899ms\n",
      "268:\tlearn: 0.1997620\ttotal: 2.57s\tremaining: 890ms\n",
      "269:\tlearn: 0.1997310\ttotal: 2.58s\tremaining: 880ms\n",
      "270:\tlearn: 0.1996637\ttotal: 2.59s\tremaining: 870ms\n",
      "271:\tlearn: 0.1996211\ttotal: 2.6s\tremaining: 860ms\n",
      "272:\tlearn: 0.1995685\ttotal: 2.61s\tremaining: 851ms\n",
      "273:\tlearn: 0.1995351\ttotal: 2.62s\tremaining: 841ms\n",
      "274:\tlearn: 0.1994848\ttotal: 2.63s\tremaining: 832ms\n",
      "275:\tlearn: 0.1994523\ttotal: 2.64s\tremaining: 822ms\n",
      "276:\tlearn: 0.1994106\ttotal: 2.65s\tremaining: 813ms\n",
      "277:\tlearn: 0.1993703\ttotal: 2.66s\tremaining: 803ms\n",
      "278:\tlearn: 0.1993414\ttotal: 2.67s\tremaining: 793ms\n",
      "279:\tlearn: 0.1993105\ttotal: 2.67s\tremaining: 783ms\n",
      "280:\tlearn: 0.1992702\ttotal: 2.68s\tremaining: 774ms\n",
      "281:\tlearn: 0.1992318\ttotal: 2.69s\tremaining: 764ms\n",
      "282:\tlearn: 0.1991863\ttotal: 2.7s\tremaining: 755ms\n",
      "283:\tlearn: 0.1991563\ttotal: 2.71s\tremaining: 745ms\n",
      "284:\tlearn: 0.1991195\ttotal: 2.72s\tremaining: 735ms\n",
      "285:\tlearn: 0.1990890\ttotal: 2.73s\tremaining: 726ms\n",
      "286:\tlearn: 0.1990402\ttotal: 2.74s\tremaining: 716ms\n",
      "287:\tlearn: 0.1989995\ttotal: 2.75s\tremaining: 707ms\n",
      "288:\tlearn: 0.1989520\ttotal: 2.76s\tremaining: 697ms\n",
      "289:\tlearn: 0.1989039\ttotal: 2.77s\tremaining: 687ms\n",
      "290:\tlearn: 0.1988597\ttotal: 2.78s\tremaining: 678ms\n",
      "291:\tlearn: 0.1988253\ttotal: 2.79s\tremaining: 668ms\n",
      "292:\tlearn: 0.1987889\ttotal: 2.79s\tremaining: 658ms\n",
      "293:\tlearn: 0.1987507\ttotal: 2.81s\tremaining: 649ms\n",
      "294:\tlearn: 0.1987143\ttotal: 2.82s\tremaining: 640ms\n",
      "295:\tlearn: 0.1986749\ttotal: 2.83s\tremaining: 632ms\n",
      "296:\tlearn: 0.1986323\ttotal: 2.85s\tremaining: 623ms\n",
      "297:\tlearn: 0.1985944\ttotal: 2.86s\tremaining: 614ms\n",
      "298:\tlearn: 0.1985544\ttotal: 2.87s\tremaining: 604ms\n",
      "299:\tlearn: 0.1985151\ttotal: 2.88s\tremaining: 594ms\n",
      "300:\tlearn: 0.1984850\ttotal: 2.89s\tremaining: 585ms\n",
      "301:\tlearn: 0.1984325\ttotal: 2.9s\tremaining: 576ms\n",
      "302:\tlearn: 0.1984045\ttotal: 2.91s\tremaining: 566ms\n",
      "303:\tlearn: 0.1983738\ttotal: 2.92s\tremaining: 556ms\n",
      "304:\tlearn: 0.1983347\ttotal: 2.93s\tremaining: 547ms\n",
      "305:\tlearn: 0.1983065\ttotal: 2.94s\tremaining: 537ms\n",
      "306:\tlearn: 0.1982618\ttotal: 2.94s\tremaining: 528ms\n",
      "307:\tlearn: 0.1982215\ttotal: 2.95s\tremaining: 518ms\n",
      "308:\tlearn: 0.1981852\ttotal: 2.96s\tremaining: 508ms\n",
      "309:\tlearn: 0.1981441\ttotal: 2.97s\tremaining: 499ms\n",
      "310:\tlearn: 0.1981122\ttotal: 2.98s\tremaining: 489ms\n",
      "311:\tlearn: 0.1980753\ttotal: 2.99s\tremaining: 479ms\n",
      "312:\tlearn: 0.1980309\ttotal: 3s\tremaining: 470ms\n",
      "313:\tlearn: 0.1979967\ttotal: 3.01s\tremaining: 460ms\n",
      "314:\tlearn: 0.1979565\ttotal: 3.02s\tremaining: 451ms\n",
      "315:\tlearn: 0.1979097\ttotal: 3.03s\tremaining: 441ms\n",
      "316:\tlearn: 0.1978726\ttotal: 3.04s\tremaining: 431ms\n",
      "317:\tlearn: 0.1978399\ttotal: 3.05s\tremaining: 422ms\n",
      "318:\tlearn: 0.1978017\ttotal: 3.06s\tremaining: 412ms\n",
      "319:\tlearn: 0.1977634\ttotal: 3.07s\tremaining: 403ms\n",
      "320:\tlearn: 0.1977226\ttotal: 3.07s\tremaining: 393ms\n",
      "321:\tlearn: 0.1976871\ttotal: 3.08s\tremaining: 383ms\n",
      "322:\tlearn: 0.1976522\ttotal: 3.09s\tremaining: 374ms\n",
      "323:\tlearn: 0.1976104\ttotal: 3.1s\tremaining: 364ms\n",
      "324:\tlearn: 0.1975768\ttotal: 3.11s\tremaining: 354ms\n",
      "325:\tlearn: 0.1975240\ttotal: 3.12s\tremaining: 345ms\n",
      "326:\tlearn: 0.1974900\ttotal: 3.13s\tremaining: 335ms\n",
      "327:\tlearn: 0.1974504\ttotal: 3.14s\tremaining: 325ms\n",
      "328:\tlearn: 0.1974132\ttotal: 3.15s\tremaining: 316ms\n",
      "329:\tlearn: 0.1973778\ttotal: 3.16s\tremaining: 306ms\n",
      "330:\tlearn: 0.1973369\ttotal: 3.17s\tremaining: 297ms\n",
      "331:\tlearn: 0.1973004\ttotal: 3.18s\tremaining: 287ms\n",
      "332:\tlearn: 0.1972346\ttotal: 3.19s\tremaining: 277ms\n",
      "333:\tlearn: 0.1972077\ttotal: 3.19s\tremaining: 268ms\n",
      "334:\tlearn: 0.1971416\ttotal: 3.2s\tremaining: 258ms\n",
      "335:\tlearn: 0.1970969\ttotal: 3.21s\tremaining: 249ms\n",
      "336:\tlearn: 0.1970583\ttotal: 3.22s\tremaining: 239ms\n",
      "337:\tlearn: 0.1970151\ttotal: 3.23s\tremaining: 229ms\n",
      "338:\tlearn: 0.1969738\ttotal: 3.24s\tremaining: 220ms\n",
      "339:\tlearn: 0.1969357\ttotal: 3.25s\tremaining: 210ms\n",
      "340:\tlearn: 0.1968872\ttotal: 3.26s\tremaining: 201ms\n",
      "341:\tlearn: 0.1968486\ttotal: 3.27s\tremaining: 191ms\n",
      "342:\tlearn: 0.1968024\ttotal: 3.28s\tremaining: 182ms\n",
      "343:\tlearn: 0.1967568\ttotal: 3.29s\tremaining: 172ms\n",
      "344:\tlearn: 0.1967279\ttotal: 3.3s\tremaining: 162ms\n",
      "345:\tlearn: 0.1966932\ttotal: 3.31s\tremaining: 153ms\n",
      "346:\tlearn: 0.1966651\ttotal: 3.31s\tremaining: 143ms\n",
      "347:\tlearn: 0.1966397\ttotal: 3.32s\tremaining: 134ms\n",
      "348:\tlearn: 0.1966043\ttotal: 3.33s\tremaining: 124ms\n",
      "349:\tlearn: 0.1965711\ttotal: 3.34s\tremaining: 115ms\n",
      "350:\tlearn: 0.1965330\ttotal: 3.35s\tremaining: 105ms\n",
      "351:\tlearn: 0.1964739\ttotal: 3.36s\tremaining: 95.5ms\n",
      "352:\tlearn: 0.1964356\ttotal: 3.37s\tremaining: 85.9ms\n",
      "353:\tlearn: 0.1964016\ttotal: 3.38s\tremaining: 76.4ms\n",
      "354:\tlearn: 0.1963646\ttotal: 3.39s\tremaining: 66.9ms\n",
      "355:\tlearn: 0.1963293\ttotal: 3.4s\tremaining: 57.3ms\n",
      "356:\tlearn: 0.1962914\ttotal: 3.41s\tremaining: 47.8ms\n",
      "357:\tlearn: 0.1962545\ttotal: 3.42s\tremaining: 38.2ms\n",
      "358:\tlearn: 0.1962042\ttotal: 3.43s\tremaining: 28.7ms\n",
      "359:\tlearn: 0.1961647\ttotal: 3.44s\tremaining: 19.1ms\n",
      "360:\tlearn: 0.1961278\ttotal: 3.45s\tremaining: 9.55ms\n",
      "361:\tlearn: 0.1960982\ttotal: 3.46s\tremaining: 0us\n"
     ]
    },
    {
     "output_type": "execute_result",
     "data": {
      "text/plain": [
       "<catboost.core.CatBoostClassifier at 0x7fc2982985d0>"
      ]
     },
     "metadata": {},
     "execution_count": 15
    }
   ],
   "source": [
    "tuned_model = CatBoostClassifier(task_type='GPU',\n",
    "                                    depth=6,\n",
    "                                    l2_leaf_reg=4.925480593319444,\n",
    "                                    learning_rate = 0.06664398685001582,\n",
    "                                    max_bin=int(170),\n",
    "                                    n_estimators=int(362),\n",
    "                                    num_leaves=int(40),\n",
    "                                    subsample=0.7902903426213559,\n",
    "                                    grow_policy='Lossguide',\n",
    "                                    model_size_reg=8.028688263356198,\n",
    "                                    random_state=seed,\n",
    "                                    bootstrap_type='Bernoulli')\n",
    "\n",
    "tuned_model.fit(X_train, y_train)"
   ]
  },
  {
   "cell_type": "code",
   "execution_count": 16,
   "metadata": {},
   "outputs": [
    {
     "output_type": "execute_result",
     "data": {
      "text/plain": [
       "0.9062215728974281"
      ]
     },
     "metadata": {},
     "execution_count": 16
    }
   ],
   "source": [
    "preds = tuned_model.predict(X_test)\n",
    "\n",
    "accuracy_score(preds, y_test)"
   ]
  },
  {
   "cell_type": "code",
   "execution_count": 17,
   "metadata": {},
   "outputs": [],
   "source": [
    "# save model\n",
    "model_fname = 'models/cb_match_predictor.cbm'\n",
    "\n",
    "tuned_model.save_model(model_fname,\n",
    "                        format='cbm')"
   ]
  }
 ]
}